{
 "cells": [
  {
   "cell_type": "markdown",
   "metadata": {},
   "source": [
    "#### 𝑫𝒐 𝒔𝒉𝒂𝒓𝒌𝒔 𝒕𝒖𝒓𝒏 𝒊𝒏𝒕𝒐 𝒘𝒆𝒓𝒆𝒘𝒐𝒍𝒗𝒆𝒔 𝒖𝒏𝒅𝒆𝒓 𝒂 𝒇𝒖𝒍𝒍 𝒎𝒐𝒐𝒏?"
   ]
  },
  {
   "cell_type": "markdown",
   "metadata": {},
   "source": [
    "<img src=\"img/wereshark.PNG\" alt=\"drawing\" width=\"500\"/>\n",
    "\n"
   ]
  },
  {
   "cell_type": "markdown",
   "metadata": {},
   "source": [
    "#### Intalling analysis & visualization tools "
   ]
  },
  {
   "cell_type": "code",
   "execution_count": null,
   "metadata": {},
   "outputs": [],
   "source": [
    "!pip install xlrd\n",
    "!pip install seaborn    \n",
    "!pip install plotly "
   ]
  },
  {
   "cell_type": "code",
   "execution_count": null,
   "metadata": {},
   "outputs": [],
   "source": [
    "!pip install ydata-profiling --user"
   ]
  },
  {
   "cell_type": "code",
   "execution_count": 6,
   "metadata": {},
   "outputs": [],
   "source": [
    "import pandas as pd\n",
    "sharks = pd.read_excel(\"GSAF5.xlxs\")"
   ]
  },
  {
   "cell_type": "code",
   "execution_count": 64,
   "metadata": {},
   "outputs": [],
   "source": [
    "import numpy as np  \n",
    "import seaborn as sns\n",
    "import matplotlib.pyplot as plt\n",
    "import plotly.express as px\n",
    "import plotly.graph_objects as go \n",
    "from ydata_profiling import ProfileReport"
   ]
  },
  {
   "cell_type": "markdown",
   "metadata": {},
   "source": [
    "#### Process of cleaning columns that were not relevant to our hypothesis"
   ]
  },
  {
   "cell_type": "code",
   "execution_count": 8,
   "metadata": {},
   "outputs": [],
   "source": [
    "#sharks['Time'].values"
   ]
  },
  {
   "cell_type": "code",
   "execution_count": 9,
   "metadata": {},
   "outputs": [
    {
     "data": {
      "text/plain": [
       "'#def convert_time(value):\\n    #if value == np.nan: \\n        #return np.nan\\n    #if type(value) != str:\\n        #return np.nan\\n    #if len(value) != 5:\\n      #  return np.nan\\n   # if value[2] != \"h\":\\n    #    return np.nan\\n    #hours = value[0:2]\\n    #minutes = value[3:5]\\n    if hours.isdigit() and minutes.isdigit():\\n        return int(hours)*60 + int(minutes)\\n    else:\\n        return np.nan'"
      ]
     },
     "execution_count": 9,
     "metadata": {},
     "output_type": "execute_result"
    }
   ],
   "source": [
    "'''#def convert_time(value):\n",
    "    #if value == np.nan: \n",
    "        #return np.nan\n",
    "    #if type(value) != str:\n",
    "        #return np.nan\n",
    "    #if len(value) != 5:\n",
    "      #  return np.nan\n",
    "   # if value[2] != \"h\":\n",
    "    #    return np.nan\n",
    "    #hours = value[0:2]\n",
    "    #minutes = value[3:5]\n",
    "    if hours.isdigit() and minutes.isdigit():\n",
    "        return int(hours)*60 + int(minutes)\n",
    "    else:\n",
    "        return np.nan'''"
   ]
  },
  {
   "cell_type": "code",
   "execution_count": 10,
   "metadata": {},
   "outputs": [],
   "source": [
    "#print(convert_time(\"16h45\"))"
   ]
  },
  {
   "cell_type": "code",
   "execution_count": 11,
   "metadata": {},
   "outputs": [],
   "source": [
    "#sharks['Time'].apply(convert_time)"
   ]
  },
  {
   "cell_type": "code",
   "execution_count": 12,
   "metadata": {},
   "outputs": [],
   "source": [
    "#minutes = sharks['Time'].apply(convert_time)"
   ]
  },
  {
   "cell_type": "code",
   "execution_count": 13,
   "metadata": {},
   "outputs": [],
   "source": [
    "#sharks['minutes'] = minutes"
   ]
  },
  {
   "cell_type": "code",
   "execution_count": 15,
   "metadata": {},
   "outputs": [
    {
     "ename": "SyntaxError",
     "evalue": "EOF while scanning triple-quoted string literal (2887684048.py, line 5)",
     "output_type": "error",
     "traceback": [
      "\u001b[1;36m  Cell \u001b[1;32mIn[15], line 5\u001b[1;36m\u001b[0m\n\u001b[1;33m    sharks['Activity'].replace (incorrect, activity,inplace=True)\u001b[0m\n\u001b[1;37m                                                                  \n^\u001b[0m\n\u001b[1;31mSyntaxError\u001b[0m\u001b[1;31m:\u001b[0m EOF while scanning triple-quoted string literal\n"
     ]
    }
   ],
   "source": [
    "'''dirty_injury = {'Swimming': ['Swimming', '4 men were bathing', 'Crew swimming alongside their anchored ship'], 'Surfing': ['Surfing'], 'Maritime Incident': ['Wreck of  large double sailing canoe'] }\n",
    "\n",
    "for activity, dirty_activity in dirty_activity.items():\n",
    "    for incorrect in incorrect_list:\n",
    "        sharks['Activity'].replace (incorrect, activity,inplace=True) \n"
   ]
  },
  {
   "cell_type": "code",
   "execution_count": null,
   "metadata": {},
   "outputs": [],
   "source": [
    "'''sharks.loc[:, 'Injury'] = sharks['Injury'].str.lower() "
   ]
  },
  {
   "cell_type": "code",
   "execution_count": null,
   "metadata": {},
   "outputs": [],
   "source": [
    "'''dirty_activity = {'Swimming': ['Swimming', '4 men were bathing', 'Crew swimming alongside their anchored ship'], 'Surfing': ['Surfing'], 'Maritime Incident': ['Wreck of  large double sailing canoe'] }\n",
    "\n",
    "for activity, dirty_activity in dirty_activity.items():\n",
    "    for incorrect in incorrect_list:\n",
    "        sharks['Activity'].replace (incorrect, activity,inplace=True) \n"
   ]
  },
  {
   "cell_type": "markdown",
   "metadata": {},
   "source": [
    "A first glance into our data: we thought it would be interesting to explore external factors that may also contribute to the number of attacks\n",
    "Which inspired us to look into moon phases\n"
   ]
  },
  {
   "cell_type": "code",
   "execution_count": 16,
   "metadata": {},
   "outputs": [
    {
     "data": {
      "text/html": [
       "<div>\n",
       "<style scoped>\n",
       "    .dataframe tbody tr th:only-of-type {\n",
       "        vertical-align: middle;\n",
       "    }\n",
       "\n",
       "    .dataframe tbody tr th {\n",
       "        vertical-align: top;\n",
       "    }\n",
       "\n",
       "    .dataframe thead th {\n",
       "        text-align: right;\n",
       "    }\n",
       "</style>\n",
       "<table border=\"1\" class=\"dataframe\">\n",
       "  <thead>\n",
       "    <tr style=\"text-align: right;\">\n",
       "      <th></th>\n",
       "      <th>Date</th>\n",
       "      <th>Year</th>\n",
       "      <th>Type</th>\n",
       "      <th>Country</th>\n",
       "      <th>State</th>\n",
       "      <th>Location</th>\n",
       "      <th>Activity</th>\n",
       "      <th>Name</th>\n",
       "      <th>Sex</th>\n",
       "      <th>Age</th>\n",
       "      <th>...</th>\n",
       "      <th>Species</th>\n",
       "      <th>Source</th>\n",
       "      <th>pdf</th>\n",
       "      <th>href formula</th>\n",
       "      <th>href</th>\n",
       "      <th>Case Number</th>\n",
       "      <th>Case Number.1</th>\n",
       "      <th>original order</th>\n",
       "      <th>Unnamed: 21</th>\n",
       "      <th>Unnamed: 22</th>\n",
       "    </tr>\n",
       "  </thead>\n",
       "  <tbody>\n",
       "    <tr>\n",
       "      <th>0</th>\n",
       "      <td>15 Mar 2024</td>\n",
       "      <td>2024.0</td>\n",
       "      <td>Unprovoked</td>\n",
       "      <td>AUSTRALIA</td>\n",
       "      <td>Queensland</td>\n",
       "      <td>Bargara Beach</td>\n",
       "      <td>Swimming</td>\n",
       "      <td>Brooklyn Sauer</td>\n",
       "      <td>F</td>\n",
       "      <td>13</td>\n",
       "      <td>...</td>\n",
       "      <td>Tiger shark</td>\n",
       "      <td>Yahoo News, 3/15/2024</td>\n",
       "      <td>NaN</td>\n",
       "      <td>NaN</td>\n",
       "      <td>NaN</td>\n",
       "      <td>NaN</td>\n",
       "      <td>NaN</td>\n",
       "      <td>NaN</td>\n",
       "      <td>NaN</td>\n",
       "      <td>NaN</td>\n",
       "    </tr>\n",
       "    <tr>\n",
       "      <th>1</th>\n",
       "      <td>04 Mar 2024</td>\n",
       "      <td>2024.0</td>\n",
       "      <td>Unprovoked</td>\n",
       "      <td>USA</td>\n",
       "      <td>Hawaii</td>\n",
       "      <td>Old Man's, Waikiki</td>\n",
       "      <td>Surfing</td>\n",
       "      <td>Matthew White</td>\n",
       "      <td>M</td>\n",
       "      <td>NaN</td>\n",
       "      <td>...</td>\n",
       "      <td>Tiger shark 8'</td>\n",
       "      <td>Surfer, 3/6/2024F</td>\n",
       "      <td>NaN</td>\n",
       "      <td>NaN</td>\n",
       "      <td>NaN</td>\n",
       "      <td>NaN</td>\n",
       "      <td>NaN</td>\n",
       "      <td>NaN</td>\n",
       "      <td>NaN</td>\n",
       "      <td>NaN</td>\n",
       "    </tr>\n",
       "    <tr>\n",
       "      <th>2</th>\n",
       "      <td>02 Mar-2024</td>\n",
       "      <td>2024.0</td>\n",
       "      <td>Unprovoked</td>\n",
       "      <td>USA</td>\n",
       "      <td>Hawaii</td>\n",
       "      <td>Rainbows, Oahu</td>\n",
       "      <td>Swimming</td>\n",
       "      <td>NaN</td>\n",
       "      <td>F</td>\n",
       "      <td>11</td>\n",
       "      <td>...</td>\n",
       "      <td>3' to 4' shark</td>\n",
       "      <td>Hawaii News Now, 3/4/2024</td>\n",
       "      <td>NaN</td>\n",
       "      <td>NaN</td>\n",
       "      <td>NaN</td>\n",
       "      <td>NaN</td>\n",
       "      <td>NaN</td>\n",
       "      <td>NaN</td>\n",
       "      <td>NaN</td>\n",
       "      <td>NaN</td>\n",
       "    </tr>\n",
       "    <tr>\n",
       "      <th>3</th>\n",
       "      <td>25 Feb-2024</td>\n",
       "      <td>2024.0</td>\n",
       "      <td>Unprovoked</td>\n",
       "      <td>AUSTRALIA</td>\n",
       "      <td>Western Australia</td>\n",
       "      <td>Sandlnd Island, Jurian Bay</td>\n",
       "      <td>NaN</td>\n",
       "      <td>female</td>\n",
       "      <td>F</td>\n",
       "      <td>46</td>\n",
       "      <td>...</td>\n",
       "      <td>Tiger shark</td>\n",
       "      <td>WA Today, 2/26/2024</td>\n",
       "      <td>NaN</td>\n",
       "      <td>NaN</td>\n",
       "      <td>NaN</td>\n",
       "      <td>NaN</td>\n",
       "      <td>NaN</td>\n",
       "      <td>NaN</td>\n",
       "      <td>NaN</td>\n",
       "      <td>NaN</td>\n",
       "    </tr>\n",
       "    <tr>\n",
       "      <th>4</th>\n",
       "      <td>14 Feb-2024</td>\n",
       "      <td>2024.0</td>\n",
       "      <td>Unprovoked</td>\n",
       "      <td>INDIA</td>\n",
       "      <td>Maharashtra</td>\n",
       "      <td>Vaitarna River, Palghar District</td>\n",
       "      <td>Fishing</td>\n",
       "      <td>Vicky Suresh Govari</td>\n",
       "      <td>M</td>\n",
       "      <td>32</td>\n",
       "      <td>...</td>\n",
       "      <td>Bull shark, 7'</td>\n",
       "      <td>Times of India, 2/14/2024</td>\n",
       "      <td>NaN</td>\n",
       "      <td>NaN</td>\n",
       "      <td>NaN</td>\n",
       "      <td>NaN</td>\n",
       "      <td>NaN</td>\n",
       "      <td>NaN</td>\n",
       "      <td>NaN</td>\n",
       "      <td>NaN</td>\n",
       "    </tr>\n",
       "  </tbody>\n",
       "</table>\n",
       "<p>5 rows × 23 columns</p>\n",
       "</div>"
      ],
      "text/plain": [
       "          Date    Year        Type    Country              State  \\\n",
       "0  15 Mar 2024  2024.0  Unprovoked  AUSTRALIA         Queensland   \n",
       "1  04 Mar 2024  2024.0  Unprovoked        USA             Hawaii   \n",
       "2  02 Mar-2024  2024.0  Unprovoked        USA             Hawaii   \n",
       "3  25 Feb-2024  2024.0  Unprovoked  AUSTRALIA  Western Australia   \n",
       "4  14 Feb-2024  2024.0  Unprovoked      INDIA        Maharashtra   \n",
       "\n",
       "                           Location  Activity                 Name Sex  Age  \\\n",
       "0                     Bargara Beach  Swimming       Brooklyn Sauer   F   13   \n",
       "1                Old Man's, Waikiki   Surfing        Matthew White   M  NaN   \n",
       "2                    Rainbows, Oahu  Swimming                  NaN   F   11   \n",
       "3        Sandlnd Island, Jurian Bay       NaN               female   F   46   \n",
       "4  Vaitarna River, Palghar District   Fishing  Vicky Suresh Govari   M   32   \n",
       "\n",
       "   ...        Species                      Source  pdf href formula href  \\\n",
       "0  ...     Tiger shark      Yahoo News, 3/15/2024  NaN          NaN  NaN   \n",
       "1  ...  Tiger shark 8'          Surfer, 3/6/2024F  NaN          NaN  NaN   \n",
       "2  ...  3' to 4' shark  Hawaii News Now, 3/4/2024  NaN          NaN  NaN   \n",
       "3  ...     Tiger shark        WA Today, 2/26/2024  NaN          NaN  NaN   \n",
       "4  ...  Bull shark, 7'  Times of India, 2/14/2024  NaN          NaN  NaN   \n",
       "\n",
       "  Case Number Case Number.1 original order Unnamed: 21 Unnamed: 22  \n",
       "0         NaN           NaN            NaN         NaN         NaN  \n",
       "1         NaN           NaN            NaN         NaN         NaN  \n",
       "2         NaN           NaN            NaN         NaN         NaN  \n",
       "3         NaN           NaN            NaN         NaN         NaN  \n",
       "4         NaN           NaN            NaN         NaN         NaN  \n",
       "\n",
       "[5 rows x 23 columns]"
      ]
     },
     "execution_count": 16,
     "metadata": {},
     "output_type": "execute_result"
    }
   ],
   "source": [
    "sharks.head()"
   ]
  },
  {
   "cell_type": "markdown",
   "metadata": {},
   "source": [
    "Data cleaning process:"
   ]
  },
  {
   "cell_type": "code",
   "execution_count": 17,
   "metadata": {},
   "outputs": [
    {
     "data": {
      "text/plain": [
       "8"
      ]
     },
     "execution_count": 17,
     "metadata": {},
     "output_type": "execute_result"
    }
   ],
   "source": [
    "sharks['Sex'].nunique() "
   ]
  },
  {
   "cell_type": "code",
   "execution_count": 18,
   "metadata": {},
   "outputs": [],
   "source": [
    "sharks['Sex'] = sharks['Sex'].str.strip() #stripping spaces before and after gender input\n",
    "sharks = sharks[sharks['Sex'].isin(['M', 'F'])] #removing all inputs that are not M/F"
   ]
  },
  {
   "cell_type": "code",
   "execution_count": 19,
   "metadata": {},
   "outputs": [
    {
     "data": {
      "text/plain": [
       "10"
      ]
     },
     "execution_count": 19,
     "metadata": {},
     "output_type": "execute_result"
    }
   ],
   "source": [
    "sharks['Type'].nunique()"
   ]
  },
  {
   "cell_type": "code",
   "execution_count": 20,
   "metadata": {},
   "outputs": [],
   "source": [
    "sharks = sharks.drop('Activity', axis=1) #deleted this column by mistake, however it was not relevant to the data"
   ]
  },
  {
   "cell_type": "code",
   "execution_count": 21,
   "metadata": {},
   "outputs": [],
   "source": [
    "sharks = sharks.drop('pdf', axis=1) #deleting unnecessary column 'PDF' using drop method"
   ]
  },
  {
   "cell_type": "code",
   "execution_count": 22,
   "metadata": {},
   "outputs": [],
   "source": [
    "sharks = sharks.drop('href formula', axis=1) #deleting unnecessary column 'HREF' using drop method"
   ]
  },
  {
   "cell_type": "code",
   "execution_count": 23,
   "metadata": {},
   "outputs": [],
   "source": [
    "sharks = sharks.drop('Case Number', axis=1) #deleting unnecessary column 'Case Number' using drop method"
   ]
  },
  {
   "cell_type": "code",
   "execution_count": 24,
   "metadata": {},
   "outputs": [],
   "source": [
    "sharks = sharks.drop('Case Number.1', axis=1) #deleting unnecessary column 'Case Number 1' using drop method"
   ]
  },
  {
   "cell_type": "code",
   "execution_count": 25,
   "metadata": {},
   "outputs": [],
   "source": [
    "sharks = sharks.drop('original order', axis=1) #deleting unnecessary column 'original order' using drop method"
   ]
  },
  {
   "cell_type": "code",
   "execution_count": 26,
   "metadata": {},
   "outputs": [],
   "source": [
    "sharks = sharks.drop('Unnamed: 11', axis=1) #deleting unnecessary column 'Unnamed: 11' using drop method"
   ]
  },
  {
   "cell_type": "code",
   "execution_count": 27,
   "metadata": {},
   "outputs": [],
   "source": [
    "sharks = sharks.drop('Unnamed: 21', axis=1)#deleting unnecessary column 'Unnamed: 21' using drop method"
   ]
  },
  {
   "cell_type": "code",
   "execution_count": 28,
   "metadata": {},
   "outputs": [],
   "source": [
    "sharks = sharks.drop('Unnamed: 22', axis=1) #deleting unnecessary column 'Unnamed: 22' using drop method"
   ]
  },
  {
   "cell_type": "code",
   "execution_count": 29,
   "metadata": {},
   "outputs": [
    {
     "data": {
      "text/plain": [
       "array(['Unprovoked', ' Provoked', 'Provoked', 'Questionable',\n",
       "       'Watercraft', 'Sea Disaster', nan, '?', 'Unverified', 'Invalid',\n",
       "       'Under investigation'], dtype=object)"
      ]
     },
     "execution_count": 29,
     "metadata": {},
     "output_type": "execute_result"
    }
   ],
   "source": [
    "sharks['Type'].unique() #checking for unique Variables in the type column"
   ]
  },
  {
   "cell_type": "code",
   "execution_count": 30,
   "metadata": {},
   "outputs": [],
   "source": [
    "types = {'Unprovoked': ['Unprovoked'], 'Provoked':[' Provoked', 'Provoked'], \n",
    "        'Unverified': ['Questionable', 'Unconfirmed', 'Unverified','Invalid', 'Under investigation', '?'], 'Marine Incident': ['Boat', 'Sea Disaster', 'Watercraft']}\n",
    "for type, incorrect_list in types.items():\n",
    "    for incorrect in incorrect_list:\n",
    "        sharks['Type'].replace (incorrect, type,inplace=True) #organizing category types for consistency and to avoid repitition \n"
   ]
  },
  {
   "cell_type": "code",
   "execution_count": 31,
   "metadata": {},
   "outputs": [],
   "source": [
    "sharks = sharks.dropna(subset = ['Type']) #dropping the NaN's in the type subset to only display valid input"
   ]
  },
  {
   "cell_type": "code",
   "execution_count": 32,
   "metadata": {},
   "outputs": [],
   "source": [
    "sharks['Type'] = sharks['Type'].str.strip()  #further cleaning by stripping spaces before and after data entry "
   ]
  },
  {
   "cell_type": "code",
   "execution_count": 33,
   "metadata": {},
   "outputs": [
    {
     "data": {
      "text/plain": [
       "array(['Unprovoked', 'Provoked', 'Unverified', 'Marine Incident'],\n",
       "      dtype=object)"
      ]
     },
     "execution_count": 33,
     "metadata": {},
     "output_type": "execute_result"
    }
   ],
   "source": [
    "sharks['Type'].unique() #enuring no more duplicates remain"
   ]
  },
  {
   "cell_type": "code",
   "execution_count": 34,
   "metadata": {},
   "outputs": [],
   "source": [
    "sharks.loc[:, 'Country'] = sharks['Country'].str.upper() #converting country column to uppercase "
   ]
  },
  {
   "cell_type": "code",
   "execution_count": 35,
   "metadata": {},
   "outputs": [],
   "source": [
    "sharks = sharks.dropna(subset = ['Country'])  #dropping the NaN's in the type subset to only display valid input"
   ]
  },
  {
   "cell_type": "code",
   "execution_count": 36,
   "metadata": {},
   "outputs": [],
   "source": [
    "sharks['Country'] = sharks['Country'].str.strip() #further cleaning by stripping spaces before and after data entry "
   ]
  },
  {
   "cell_type": "markdown",
   "metadata": {},
   "source": [
    "Cleaning the country column: mapping incorrect country names to their corrected versions:"
   ]
  },
  {
   "cell_type": "code",
   "execution_count": 37,
   "metadata": {},
   "outputs": [],
   "source": [
    "#This dictionary maps incorrect country names to their corrected versions.\n",
    "country_groups = {'ASIA': ['ASIA?'], \n",
    "                  'ST. MARTIN': ['ST. MAARTIN', 'ST MARTIN'], 'SAMOA': ['WESTERN SOMOA'], 'ANDAMAN ISLANDS': ['ANDAMAN / NICOBAR ISLANDAS'], 'PORTUGAL': ['AZORES'], 'GREAT BRITIAN': ['BRITISH ISLES'], 'PAPUA NEW GUINEA': ['BRIISH NEW GUINEA', 'NEW GUINEA'], 'CARIBBEAN SEA': ['BRITISH VIRGIN ISLANDS','BRITISH WEST INDIES'], 'SRI LANKA':  ['CEYLON (SRI LANKA)'], 'COLOMBIA': ['COLUMBIA'], 'INDIAN OCEAN': ['INDIAN OCEAN?'], 'IRAN':['IRAN / IRAQ'],\n",
    "'ITALY': ['ITALY / CROATIA'], 'SOLOMON ISLANDS': ['SOLOMON ISLANDS / VANUATU'], 'SAMOA': ['WESTERN SAMOA'], 'SUDAN': ['SUDAN?'], 'TRINIDAD & TOBAGO': ['TOBAGO', 'TRINIDAD & TOBAGE'], 'TURKS & CAICOS': ['TURKS AND CAICOS'],  'UNITED ARAB EMIRATES': ['UNITED ARAB EMIRATES (UAE)'], 'EGYPT': ['EGYPT / ISRAEL'], 'RED SEA': ['RED SEA / INDIAN OCEAN'], 'ST KITTS & NEVIS': ['ST KITTS / NEVIS'], }\n",
    " \n",
    "#The nested loops iterate through the dictionary and replace each \n",
    "# incorrect name in the 'Country' column of the sharks DataFrame with the correct name.\n",
    "for country, incorrect_list in country_groups.items():\n",
    "    for incorrect in incorrect_list:\n",
    "        sharks['Country'].replace (incorrect, country,inplace=True)\n",
    "\n"
   ]
  },
  {
   "cell_type": "code",
   "execution_count": 38,
   "metadata": {},
   "outputs": [],
   "source": [
    "unique_countries = sharks['Country'].unique() #assigning a variable name to unique country in order to sort "
   ]
  },
  {
   "cell_type": "code",
   "execution_count": 39,
   "metadata": {},
   "outputs": [
    {
     "data": {
      "text/plain": [
       "['ADMIRALTY ISLANDS',\n",
       " 'AFRICA',\n",
       " 'ALGERIA',\n",
       " 'AMERICAN SAMOA',\n",
       " 'ANDAMAN ISLANDS',\n",
       " 'ANGOLA',\n",
       " 'ANTIGUA',\n",
       " 'ARGENTINA',\n",
       " 'ARUBA',\n",
       " 'ASIA',\n",
       " 'ATLANTIC OCEAN',\n",
       " 'AUSTRALIA',\n",
       " 'BAHAMAS',\n",
       " 'BAHREIN',\n",
       " 'BARBADOS',\n",
       " 'BAY OF BENGAL',\n",
       " 'BELIZE',\n",
       " 'BERMUDA',\n",
       " 'BETWEEN PORTUGAL & INDIA',\n",
       " 'BRAZIL',\n",
       " 'BRITISH NEW GUINEA',\n",
       " 'BRITISH OVERSEAS TERRITORY',\n",
       " 'BURMA',\n",
       " 'CANADA',\n",
       " 'CAPE VERDE',\n",
       " 'CARIBBEAN SEA',\n",
       " 'CAYMAN ISLANDS',\n",
       " 'CENTRAL PACIFIC',\n",
       " 'CEYLON',\n",
       " 'CHILE',\n",
       " 'CHINA',\n",
       " 'COAST OF AFRICA',\n",
       " 'COLOMBIA',\n",
       " 'COOK ISLANDS',\n",
       " 'CORAL SEA',\n",
       " 'COSTA RICA',\n",
       " 'CRETE',\n",
       " 'CROATIA',\n",
       " 'CUBA',\n",
       " 'CURACAO',\n",
       " 'CYPRUS',\n",
       " 'DIEGO GARCIA',\n",
       " 'DOMINICAN REPUBLIC',\n",
       " 'ECUADOR',\n",
       " 'EGYPT',\n",
       " 'EL SALVADOR',\n",
       " 'ENGLAND',\n",
       " 'EQUATORIAL GUINEA / CAMEROON',\n",
       " 'FALKLAND ISLANDS',\n",
       " 'FEDERATED STATES OF MICRONESIA',\n",
       " 'FIJI',\n",
       " 'FRANCE',\n",
       " 'FRENCH POLYNESIA',\n",
       " 'GABON',\n",
       " 'GEORGIA',\n",
       " 'GHANA',\n",
       " 'GRAND CAYMAN',\n",
       " 'GREAT BRITIAN',\n",
       " 'GREECE',\n",
       " 'GRENADA',\n",
       " 'GUAM',\n",
       " 'GUATEMALA',\n",
       " 'GUINEA',\n",
       " 'GUYANA',\n",
       " 'HAITI',\n",
       " 'HONDURAS',\n",
       " 'HONG KONG',\n",
       " 'ICELAND',\n",
       " 'INDIA',\n",
       " 'INDIAN OCEAN',\n",
       " 'INDONESIA',\n",
       " 'IRAN',\n",
       " 'IRAQ',\n",
       " 'IRELAND',\n",
       " 'ISRAEL',\n",
       " 'ITALY',\n",
       " 'JAMAICA',\n",
       " 'JAPAN',\n",
       " 'JOHNSTON ISLAND',\n",
       " 'JORDAN',\n",
       " 'KENYA',\n",
       " 'KIRIBATI',\n",
       " 'KOREA',\n",
       " 'KUWAIT',\n",
       " 'LEBANON',\n",
       " 'LIBERIA',\n",
       " 'LIBYA',\n",
       " 'MADAGASCAR',\n",
       " 'MALAYSIA',\n",
       " 'MALDIVE ISLANDS',\n",
       " 'MALDIVES',\n",
       " 'MALTA',\n",
       " 'MARSHALL ISLANDS',\n",
       " 'MARTINIQUE',\n",
       " 'MAURITIUS',\n",
       " 'MAYOTTE',\n",
       " 'MEDITERRANEAN SEA',\n",
       " 'MEXICO',\n",
       " 'MICRONESIA',\n",
       " 'MID ATLANTIC OCEAN',\n",
       " 'MID-PACIFC OCEAN',\n",
       " 'MONACO',\n",
       " 'MONTENEGRO',\n",
       " 'MOZAMBIQUE',\n",
       " 'NAMIBIA',\n",
       " 'NETHERLANDS ANTILLES',\n",
       " 'NEVIS',\n",
       " 'NEW BRITAIN',\n",
       " 'NEW CALEDONIA',\n",
       " 'NEW ZEALAND',\n",
       " 'NICARAGUA',\n",
       " 'NIGERIA',\n",
       " 'NORTH ATLANTIC OCEAN',\n",
       " 'NORTH PACIFIC OCEAN',\n",
       " 'NORTH SEA',\n",
       " 'NORTHERN ARABIAN SEA',\n",
       " 'NORTHERN MARIANA ISLANDS',\n",
       " 'NORWAY',\n",
       " 'OCEAN',\n",
       " 'OKINAWA',\n",
       " 'PACIFIC OCEAN',\n",
       " 'PALAU',\n",
       " 'PALESTINIAN TERRITORIES',\n",
       " 'PANAMA',\n",
       " 'PAPUA NEW GUINEA',\n",
       " 'PERSIAN GULF',\n",
       " 'PERU',\n",
       " 'PHILIPPINES',\n",
       " 'PORTUGAL',\n",
       " 'PUERTO RICO',\n",
       " 'RED SEA',\n",
       " 'RED SEA?',\n",
       " 'REUNION',\n",
       " 'REUNION ISLAND',\n",
       " 'ROATAN',\n",
       " 'RUSSIA',\n",
       " 'SAMOA',\n",
       " 'SAN DOMINGO',\n",
       " 'SAUDI ARABIA',\n",
       " 'SCOTLAND',\n",
       " 'SENEGAL',\n",
       " 'SEYCHELLES',\n",
       " 'SIERRA LEONE',\n",
       " 'SINGAPORE',\n",
       " 'SOLOMON ISLANDS',\n",
       " 'SOMALIA',\n",
       " 'SOUTH AFRICA',\n",
       " 'SOUTH ATLANTIC OCEAN',\n",
       " 'SOUTH CHINA SEA',\n",
       " 'SOUTH KOREA',\n",
       " 'SOUTH PACIFIC OCEAN',\n",
       " 'SOUTHWEST PACIFIC OCEAN',\n",
       " 'SPAIN',\n",
       " 'SRI LANKA',\n",
       " 'ST HELENA, BRITISH OVERSEAS TERRITORY',\n",
       " 'ST KITTS & NEVIS',\n",
       " 'ST. MARTIN',\n",
       " 'SUDAN',\n",
       " 'SWEDEN',\n",
       " 'SYRIA',\n",
       " 'TAIWAN',\n",
       " 'TANZANIA',\n",
       " 'TASMAN SEA',\n",
       " 'THAILAND',\n",
       " 'THE BALKANS',\n",
       " 'TONGA',\n",
       " 'TRINIDAD',\n",
       " 'TRINIDAD & TOBAGO',\n",
       " 'TUNISIA',\n",
       " 'TURKEY',\n",
       " 'TURKS & CAICOS',\n",
       " 'UNITED ARAB EMIRATES',\n",
       " 'UNITED KINGDOM',\n",
       " 'URUGUAY',\n",
       " 'USA',\n",
       " 'VANUATU',\n",
       " 'VENEZUELA',\n",
       " 'VIETNAM',\n",
       " 'WEST INDIES',\n",
       " 'YEMEN']"
      ]
     },
     "execution_count": 39,
     "metadata": {},
     "output_type": "execute_result"
    }
   ],
   "source": [
    "sorted_countries = sorted(unique_countries) #sorting the countries to analyze all names\n",
    "sorted_countries"
   ]
  },
  {
   "cell_type": "code",
   "execution_count": 40,
   "metadata": {},
   "outputs": [],
   "source": [
    "sharks.loc[:, \"date_clean\"] = pd.to_datetime(sharks['Date'], format='%d-%b-%Y', errors='coerce') \n",
    "#converting to date time using pd.to_datetime function, specifying the date format \n",
    "# as '%d-%b-%Y' to match the format in the 'Date' column. #coercing all errors to set to NaT\n"
   ]
  },
  {
   "cell_type": "code",
   "execution_count": 41,
   "metadata": {},
   "outputs": [],
   "source": [
    "sharks = sharks[sharks[\"date_clean\"] > pd.Timestamp(\"1970-01-01\")] #filtering through the dates column to only include dates after 1970"
   ]
  },
  {
   "cell_type": "code",
   "execution_count": 42,
   "metadata": {},
   "outputs": [],
   "source": [
    "sharks = sharks.dropna(subset = ['Date']) #dropping all the nans of the date subset "
   ]
  },
  {
   "cell_type": "code",
   "execution_count": 43,
   "metadata": {},
   "outputs": [],
   "source": [
    "sharks['date_clean'] = pd.to_datetime(sharks['Date'], errors='coerce', dayfirst=True) #ensuring day is first"
   ]
  },
  {
   "cell_type": "code",
   "execution_count": 44,
   "metadata": {},
   "outputs": [
    {
     "name": "stdout",
     "output_type": "stream",
     "text": [
      "<class 'pandas.core.series.Series'>\n",
      "Int64Index: 3341 entries, 5 to 6479\n",
      "Series name: date_clean\n",
      "Non-Null Count  Dtype         \n",
      "--------------  -----         \n",
      "3341 non-null   datetime64[ns]\n",
      "dtypes: datetime64[ns](1)\n",
      "memory usage: 52.2 KB\n"
     ]
    }
   ],
   "source": [
    "sharks['date_clean'].info() #checking to ensure it is in datetime64 format"
   ]
  },
  {
   "cell_type": "code",
   "execution_count": 45,
   "metadata": {},
   "outputs": [],
   "source": [
    "sharks['Sex'] = sharks['Sex'].str.strip() #stripping spaces from sex column\n",
    "sharks = sharks[sharks['Sex'].isin(['M', 'F'])] #filtering out everything that isn't M/F"
   ]
  },
  {
   "cell_type": "markdown",
   "metadata": {},
   "source": [
    "Importing an external dataset by the US navy to view the moon phases through webscraping"
   ]
  },
  {
   "cell_type": "code",
   "execution_count": 46,
   "metadata": {},
   "outputs": [
    {
     "name": "stdout",
     "output_type": "stream",
     "text": [
      "[{'apiversion': '4.0.1', 'numphases': 49, 'phasedata': [{'day': 7, 'month': 1, 'phase': 'New Moon', 'time': '20:35', 'year': 1970}, {'day': 14, 'month': 1, 'phase': 'First Quarter', 'time': '13:18', 'year': 1970}, {'day': 22, 'month': 1, 'phase': 'Full Moon', 'time': '12:55', 'year': 1970}, {'day': 30, 'month': 1, 'phase': 'Last Quarter', 'time': '14:38', 'year': 1970}, {'day': 6, 'month': 2, 'phase': 'New Moon', 'time': '07:13', 'year': 1970}, {'day': 13, 'month': 2, 'phase': 'First Quarter', 'time': '04:10', 'year': 1970}, {'day': 21, 'month': 2, 'phase': 'Full Moon', 'time': '08:19', 'year': 1970}, {'day': 1, 'month': 3, 'phase': 'Last Quarter', 'time': '02:33', 'year': 1970}, {'day': 7, 'month': 3, 'phase': 'New Moon', 'time': '17:42', 'year': 1970}, {'day': 14, 'month': 3, 'phase': 'First Quarter', 'time': '21:16', 'year': 1970}, {'day': 23, 'month': 3, 'phase': 'Full Moon', 'time': '01:52', 'year': 1970}, {'day': 30, 'month': 3, 'phase': 'Last Quarter', 'time': '11:05', 'year': 1970}, {'day': 6, 'month': 4, 'phase': 'New Moon', 'time': '04:09', 'year': 1970}, {'day': 13, 'month': 4, 'phase': 'First Quarter', 'time': '15:44', 'year': 1970}, {'day': 21, 'month': 4, 'phase': 'Full Moon', 'time': '16:21', 'year': 1970}, {'day': 28, 'month': 4, 'phase': 'Last Quarter', 'time': '17:18', 'year': 1970}, {'day': 5, 'month': 5, 'phase': 'New Moon', 'time': '14:51', 'year': 1970}, {'day': 13, 'month': 5, 'phase': 'First Quarter', 'time': '10:26', 'year': 1970}, {'day': 21, 'month': 5, 'phase': 'Full Moon', 'time': '03:38', 'year': 1970}, {'day': 27, 'month': 5, 'phase': 'Last Quarter', 'time': '22:32', 'year': 1970}, {'day': 4, 'month': 6, 'phase': 'New Moon', 'time': '02:21', 'year': 1970}, {'day': 12, 'month': 6, 'phase': 'First Quarter', 'time': '04:06', 'year': 1970}, {'day': 19, 'month': 6, 'phase': 'Full Moon', 'time': '12:27', 'year': 1970}, {'day': 26, 'month': 6, 'phase': 'Last Quarter', 'time': '04:01', 'year': 1970}, {'day': 3, 'month': 7, 'phase': 'New Moon', 'time': '15:18', 'year': 1970}, {'day': 11, 'month': 7, 'phase': 'First Quarter', 'time': '19:43', 'year': 1970}, {'day': 18, 'month': 7, 'phase': 'Full Moon', 'time': '19:58', 'year': 1970}, {'day': 25, 'month': 7, 'phase': 'Last Quarter', 'time': '11:00', 'year': 1970}, {'day': 2, 'month': 8, 'phase': 'New Moon', 'time': '05:58', 'year': 1970}, {'day': 10, 'month': 8, 'phase': 'First Quarter', 'time': '08:50', 'year': 1970}, {'day': 17, 'month': 8, 'phase': 'Full Moon', 'time': '03:15', 'year': 1970}, {'day': 23, 'month': 8, 'phase': 'Last Quarter', 'time': '20:34', 'year': 1970}, {'day': 31, 'month': 8, 'phase': 'New Moon', 'time': '22:01', 'year': 1970}, {'day': 8, 'month': 9, 'phase': 'First Quarter', 'time': '19:38', 'year': 1970}, {'day': 15, 'month': 9, 'phase': 'Full Moon', 'time': '11:09', 'year': 1970}, {'day': 22, 'month': 9, 'phase': 'Last Quarter', 'time': '09:42', 'year': 1970}, {'day': 30, 'month': 9, 'phase': 'New Moon', 'time': '14:31', 'year': 1970}, {'day': 8, 'month': 10, 'phase': 'First Quarter', 'time': '04:43', 'year': 1970}, {'day': 14, 'month': 10, 'phase': 'Full Moon', 'time': '20:21', 'year': 1970}, {'day': 22, 'month': 10, 'phase': 'Last Quarter', 'time': '02:47', 'year': 1970}, {'day': 30, 'month': 10, 'phase': 'New Moon', 'time': '06:28', 'year': 1970}, {'day': 6, 'month': 11, 'phase': 'First Quarter', 'time': '12:47', 'year': 1970}, {'day': 13, 'month': 11, 'phase': 'Full Moon', 'time': '07:28', 'year': 1970}, {'day': 20, 'month': 11, 'phase': 'Last Quarter', 'time': '23:13', 'year': 1970}, {'day': 28, 'month': 11, 'phase': 'New Moon', 'time': '21:14', 'year': 1970}, {'day': 5, 'month': 12, 'phase': 'First Quarter', 'time': '20:36', 'year': 1970}, {'day': 12, 'month': 12, 'phase': 'Full Moon', 'time': '21:03', 'year': 1970}, {'day': 20, 'month': 12, 'phase': 'Last Quarter', 'time': '21:09', 'year': 1970}, {'day': 28, 'month': 12, 'phase': 'New Moon', 'time': '10:43', 'year': 1970}], 'year': 1970}, {'apiversion': '4.0.1', 'numphases': 50, 'phasedata': [{'day': 4, 'month': 1, 'phase': 'First Quarter', 'time': '04:55', 'year': 1971}, {'day': 11, 'month': 1, 'phase': 'Full Moon', 'time': '13:20', 'year': 1971}, {'day': 19, 'month': 1, 'phase': 'Last Quarter', 'time': '18:08', 'year': 1971}, {'day': 26, 'month': 1, 'phase': 'New Moon', 'time': '22:55', 'year': 1971}, {'day': 2, 'month': 2, 'phase': 'First Quarter', 'time': '14:31', 'year': 1971}, {'day': 10, 'month': 2, 'phase': 'Full Moon', 'time': '07:41', 'year': 1971}, {'day': 18, 'month': 2, 'phase': 'Last Quarter', 'time': '12:14', 'year': 1971}, {'day': 25, 'month': 2, 'phase': 'New Moon', 'time': '09:48', 'year': 1971}, {'day': 4, 'month': 3, 'phase': 'First Quarter', 'time': '02:01', 'year': 1971}, {'day': 12, 'month': 3, 'phase': 'Full Moon', 'time': '02:34', 'year': 1971}, {'day': 20, 'month': 3, 'phase': 'Last Quarter', 'time': '02:30', 'year': 1971}, {'day': 26, 'month': 3, 'phase': 'New Moon', 'time': '19:23', 'year': 1971}, {'day': 2, 'month': 4, 'phase': 'First Quarter', 'time': '15:46', 'year': 1971}, {'day': 10, 'month': 4, 'phase': 'Full Moon', 'time': '20:10', 'year': 1971}, {'day': 18, 'month': 4, 'phase': 'Last Quarter', 'time': '12:58', 'year': 1971}, {'day': 25, 'month': 4, 'phase': 'New Moon', 'time': '04:02', 'year': 1971}, {'day': 2, 'month': 5, 'phase': 'First Quarter', 'time': '07:34', 'year': 1971}, {'day': 10, 'month': 5, 'phase': 'Full Moon', 'time': '11:24', 'year': 1971}, {'day': 17, 'month': 5, 'phase': 'Last Quarter', 'time': '20:15', 'year': 1971}, {'day': 24, 'month': 5, 'phase': 'New Moon', 'time': '12:32', 'year': 1971}, {'day': 1, 'month': 6, 'phase': 'First Quarter', 'time': '00:42', 'year': 1971}, {'day': 9, 'month': 6, 'phase': 'Full Moon', 'time': '00:04', 'year': 1971}, {'day': 16, 'month': 6, 'phase': 'Last Quarter', 'time': '01:24', 'year': 1971}, {'day': 22, 'month': 6, 'phase': 'New Moon', 'time': '21:57', 'year': 1971}, {'day': 30, 'month': 6, 'phase': 'First Quarter', 'time': '18:11', 'year': 1971}, {'day': 8, 'month': 7, 'phase': 'Full Moon', 'time': '10:37', 'year': 1971}, {'day': 15, 'month': 7, 'phase': 'Last Quarter', 'time': '05:47', 'year': 1971}, {'day': 22, 'month': 7, 'phase': 'New Moon', 'time': '09:15', 'year': 1971}, {'day': 30, 'month': 7, 'phase': 'First Quarter', 'time': '11:07', 'year': 1971}, {'day': 6, 'month': 8, 'phase': 'Full Moon', 'time': '19:42', 'year': 1971}, {'day': 13, 'month': 8, 'phase': 'Last Quarter', 'time': '10:55', 'year': 1971}, {'day': 20, 'month': 8, 'phase': 'New Moon', 'time': '22:53', 'year': 1971}, {'day': 29, 'month': 8, 'phase': 'First Quarter', 'time': '02:56', 'year': 1971}, {'day': 5, 'month': 9, 'phase': 'Full Moon', 'time': '04:02', 'year': 1971}, {'day': 11, 'month': 9, 'phase': 'Last Quarter', 'time': '18:23', 'year': 1971}, {'day': 19, 'month': 9, 'phase': 'New Moon', 'time': '14:42', 'year': 1971}, {'day': 27, 'month': 9, 'phase': 'First Quarter', 'time': '17:17', 'year': 1971}, {'day': 4, 'month': 10, 'phase': 'Full Moon', 'time': '12:19', 'year': 1971}, {'day': 11, 'month': 10, 'phase': 'Last Quarter', 'time': '05:29', 'year': 1971}, {'day': 19, 'month': 10, 'phase': 'New Moon', 'time': '07:59', 'year': 1971}, {'day': 27, 'month': 10, 'phase': 'First Quarter', 'time': '05:54', 'year': 1971}, {'day': 2, 'month': 11, 'phase': 'Full Moon', 'time': '21:19', 'year': 1971}, {'day': 9, 'month': 11, 'phase': 'Last Quarter', 'time': '20:51', 'year': 1971}, {'day': 18, 'month': 11, 'phase': 'New Moon', 'time': '01:46', 'year': 1971}, {'day': 25, 'month': 11, 'phase': 'First Quarter', 'time': '16:37', 'year': 1971}, {'day': 2, 'month': 12, 'phase': 'Full Moon', 'time': '07:48', 'year': 1971}, {'day': 9, 'month': 12, 'phase': 'Last Quarter', 'time': '16:02', 'year': 1971}, {'day': 17, 'month': 12, 'phase': 'New Moon', 'time': '19:03', 'year': 1971}, {'day': 25, 'month': 12, 'phase': 'First Quarter', 'time': '01:35', 'year': 1971}, {'day': 31, 'month': 12, 'phase': 'Full Moon', 'time': '20:20', 'year': 1971}], 'year': 1971}, {'apiversion': '4.0.1', 'numphases': 49, 'phasedata': [{'day': 8, 'month': 1, 'phase': 'Last Quarter', 'time': '13:31', 'year': 1972}, {'day': 16, 'month': 1, 'phase': 'New Moon', 'time': '10:52', 'year': 1972}, {'day': 23, 'month': 1, 'phase': 'First Quarter', 'time': '09:29', 'year': 1972}, {'day': 30, 'month': 1, 'phase': 'Full Moon', 'time': '10:58', 'year': 1972}, {'day': 7, 'month': 2, 'phase': 'Last Quarter', 'time': '11:11', 'year': 1972}, {'day': 15, 'month': 2, 'phase': 'New Moon', 'time': '00:29', 'year': 1972}, {'day': 21, 'month': 2, 'phase': 'First Quarter', 'time': '17:20', 'year': 1972}, {'day': 29, 'month': 2, 'phase': 'Full Moon', 'time': '03:12', 'year': 1972}, {'day': 8, 'month': 3, 'phase': 'Last Quarter', 'time': '07:05', 'year': 1972}, {'day': 15, 'month': 3, 'phase': 'New Moon', 'time': '11:35', 'year': 1972}, {'day': 22, 'month': 3, 'phase': 'First Quarter', 'time': '02:12', 'year': 1972}, {'day': 29, 'month': 3, 'phase': 'Full Moon', 'time': '20:05', 'year': 1972}, {'day': 6, 'month': 4, 'phase': 'Last Quarter', 'time': '23:44', 'year': 1972}, {'day': 13, 'month': 4, 'phase': 'New Moon', 'time': '20:31', 'year': 1972}, {'day': 20, 'month': 4, 'phase': 'First Quarter', 'time': '12:45', 'year': 1972}, {'day': 28, 'month': 4, 'phase': 'Full Moon', 'time': '12:44', 'year': 1972}, {'day': 6, 'month': 5, 'phase': 'Last Quarter', 'time': '12:26', 'year': 1972}, {'day': 13, 'month': 5, 'phase': 'New Moon', 'time': '04:08', 'year': 1972}, {'day': 20, 'month': 5, 'phase': 'First Quarter', 'time': '01:16', 'year': 1972}, {'day': 28, 'month': 5, 'phase': 'Full Moon', 'time': '04:28', 'year': 1972}, {'day': 4, 'month': 6, 'phase': 'Last Quarter', 'time': '21:22', 'year': 1972}, {'day': 11, 'month': 6, 'phase': 'New Moon', 'time': '11:30', 'year': 1972}, {'day': 18, 'month': 6, 'phase': 'First Quarter', 'time': '15:41', 'year': 1972}, {'day': 26, 'month': 6, 'phase': 'Full Moon', 'time': '18:46', 'year': 1972}, {'day': 4, 'month': 7, 'phase': 'Last Quarter', 'time': '03:25', 'year': 1972}, {'day': 10, 'month': 7, 'phase': 'New Moon', 'time': '19:39', 'year': 1972}, {'day': 18, 'month': 7, 'phase': 'First Quarter', 'time': '07:46', 'year': 1972}, {'day': 26, 'month': 7, 'phase': 'Full Moon', 'time': '07:23', 'year': 1972}, {'day': 2, 'month': 8, 'phase': 'Last Quarter', 'time': '08:02', 'year': 1972}, {'day': 9, 'month': 8, 'phase': 'New Moon', 'time': '05:26', 'year': 1972}, {'day': 17, 'month': 8, 'phase': 'First Quarter', 'time': '01:09', 'year': 1972}, {'day': 24, 'month': 8, 'phase': 'Full Moon', 'time': '18:22', 'year': 1972}, {'day': 31, 'month': 8, 'phase': 'Last Quarter', 'time': '12:48', 'year': 1972}, {'day': 7, 'month': 9, 'phase': 'New Moon', 'time': '17:28', 'year': 1972}, {'day': 15, 'month': 9, 'phase': 'First Quarter', 'time': '19:13', 'year': 1972}, {'day': 23, 'month': 9, 'phase': 'Full Moon', 'time': '04:07', 'year': 1972}, {'day': 29, 'month': 9, 'phase': 'Last Quarter', 'time': '19:16', 'year': 1972}, {'day': 7, 'month': 10, 'phase': 'New Moon', 'time': '08:08', 'year': 1972}, {'day': 15, 'month': 10, 'phase': 'First Quarter', 'time': '12:55', 'year': 1972}, {'day': 22, 'month': 10, 'phase': 'Full Moon', 'time': '13:25', 'year': 1972}, {'day': 29, 'month': 10, 'phase': 'Last Quarter', 'time': '04:41', 'year': 1972}, {'day': 6, 'month': 11, 'phase': 'New Moon', 'time': '01:21', 'year': 1972}, {'day': 14, 'month': 11, 'phase': 'First Quarter', 'time': '05:01', 'year': 1972}, {'day': 20, 'month': 11, 'phase': 'Full Moon', 'time': '23:07', 'year': 1972}, {'day': 27, 'month': 11, 'phase': 'Last Quarter', 'time': '17:45', 'year': 1972}, {'day': 5, 'month': 12, 'phase': 'New Moon', 'time': '20:24', 'year': 1972}, {'day': 13, 'month': 12, 'phase': 'First Quarter', 'time': '18:36', 'year': 1972}, {'day': 20, 'month': 12, 'phase': 'Full Moon', 'time': '09:45', 'year': 1972}, {'day': 27, 'month': 12, 'phase': 'Last Quarter', 'time': '10:27', 'year': 1972}], 'year': 1972}, {'apiversion': '4.0.1', 'numphases': 49, 'phasedata': [{'day': 4, 'month': 1, 'phase': 'New Moon', 'time': '15:42', 'year': 1973}, {'day': 12, 'month': 1, 'phase': 'First Quarter', 'time': '05:27', 'year': 1973}, {'day': 18, 'month': 1, 'phase': 'Full Moon', 'time': '21:28', 'year': 1973}, {'day': 26, 'month': 1, 'phase': 'Last Quarter', 'time': '06:05', 'year': 1973}, {'day': 3, 'month': 2, 'phase': 'New Moon', 'time': '09:23', 'year': 1973}, {'day': 10, 'month': 2, 'phase': 'First Quarter', 'time': '14:05', 'year': 1973}, {'day': 17, 'month': 2, 'phase': 'Full Moon', 'time': '10:07', 'year': 1973}, {'day': 25, 'month': 2, 'phase': 'Last Quarter', 'time': '03:10', 'year': 1973}, {'day': 5, 'month': 3, 'phase': 'New Moon', 'time': '00:07', 'year': 1973}, {'day': 11, 'month': 3, 'phase': 'First Quarter', 'time': '21:26', 'year': 1973}, {'day': 18, 'month': 3, 'phase': 'Full Moon', 'time': '23:33', 'year': 1973}, {'day': 26, 'month': 3, 'phase': 'Last Quarter', 'time': '23:46', 'year': 1973}, {'day': 3, 'month': 4, 'phase': 'New Moon', 'time': '11:45', 'year': 1973}, {'day': 10, 'month': 4, 'phase': 'First Quarter', 'time': '04:28', 'year': 1973}, {'day': 17, 'month': 4, 'phase': 'Full Moon', 'time': '13:50', 'year': 1973}, {'day': 25, 'month': 4, 'phase': 'Last Quarter', 'time': '17:59', 'year': 1973}, {'day': 2, 'month': 5, 'phase': 'New Moon', 'time': '20:55', 'year': 1973}, {'day': 9, 'month': 5, 'phase': 'First Quarter', 'time': '12:07', 'year': 1973}, {'day': 17, 'month': 5, 'phase': 'Full Moon', 'time': '04:58', 'year': 1973}, {'day': 25, 'month': 5, 'phase': 'Last Quarter', 'time': '08:40', 'year': 1973}, {'day': 1, 'month': 6, 'phase': 'New Moon', 'time': '04:34', 'year': 1973}, {'day': 7, 'month': 6, 'phase': 'First Quarter', 'time': '21:11', 'year': 1973}, {'day': 15, 'month': 6, 'phase': 'Full Moon', 'time': '20:35', 'year': 1973}, {'day': 23, 'month': 6, 'phase': 'Last Quarter', 'time': '19:45', 'year': 1973}, {'day': 30, 'month': 6, 'phase': 'New Moon', 'time': '11:39', 'year': 1973}, {'day': 7, 'month': 7, 'phase': 'First Quarter', 'time': '08:26', 'year': 1973}, {'day': 15, 'month': 7, 'phase': 'Full Moon', 'time': '11:56', 'year': 1973}, {'day': 23, 'month': 7, 'phase': 'Last Quarter', 'time': '03:58', 'year': 1973}, {'day': 29, 'month': 7, 'phase': 'New Moon', 'time': '18:59', 'year': 1973}, {'day': 5, 'month': 8, 'phase': 'First Quarter', 'time': '22:27', 'year': 1973}, {'day': 14, 'month': 8, 'phase': 'Full Moon', 'time': '02:16', 'year': 1973}, {'day': 21, 'month': 8, 'phase': 'Last Quarter', 'time': '10:22', 'year': 1973}, {'day': 28, 'month': 8, 'phase': 'New Moon', 'time': '03:25', 'year': 1973}, {'day': 4, 'month': 9, 'phase': 'First Quarter', 'time': '15:22', 'year': 1973}, {'day': 12, 'month': 9, 'phase': 'Full Moon', 'time': '15:16', 'year': 1973}, {'day': 19, 'month': 9, 'phase': 'Last Quarter', 'time': '16:11', 'year': 1973}, {'day': 26, 'month': 9, 'phase': 'New Moon', 'time': '13:54', 'year': 1973}, {'day': 4, 'month': 10, 'phase': 'First Quarter', 'time': '10:32', 'year': 1973}, {'day': 12, 'month': 10, 'phase': 'Full Moon', 'time': '03:09', 'year': 1973}, {'day': 18, 'month': 10, 'phase': 'Last Quarter', 'time': '22:33', 'year': 1973}, {'day': 26, 'month': 10, 'phase': 'New Moon', 'time': '03:17', 'year': 1973}, {'day': 3, 'month': 11, 'phase': 'First Quarter', 'time': '06:29', 'year': 1973}, {'day': 10, 'month': 11, 'phase': 'Full Moon', 'time': '14:27', 'year': 1973}, {'day': 17, 'month': 11, 'phase': 'Last Quarter', 'time': '06:34', 'year': 1973}, {'day': 24, 'month': 11, 'phase': 'New Moon', 'time': '19:55', 'year': 1973}, {'day': 3, 'month': 12, 'phase': 'First Quarter', 'time': '01:29', 'year': 1973}, {'day': 10, 'month': 12, 'phase': 'Full Moon', 'time': '01:35', 'year': 1973}, {'day': 16, 'month': 12, 'phase': 'Last Quarter', 'time': '17:13', 'year': 1973}, {'day': 24, 'month': 12, 'phase': 'New Moon', 'time': '15:07', 'year': 1973}], 'year': 1973}, {'apiversion': '4.0.1', 'numphases': 50, 'phasedata': [{'day': 1, 'month': 1, 'phase': 'First Quarter', 'time': '18:06', 'year': 1974}, {'day': 8, 'month': 1, 'phase': 'Full Moon', 'time': '12:36', 'year': 1974}, {'day': 15, 'month': 1, 'phase': 'Last Quarter', 'time': '07:04', 'year': 1974}, {'day': 23, 'month': 1, 'phase': 'New Moon', 'time': '11:02', 'year': 1974}, {'day': 31, 'month': 1, 'phase': 'First Quarter', 'time': '07:39', 'year': 1974}, {'day': 6, 'month': 2, 'phase': 'Full Moon', 'time': '23:24', 'year': 1974}, {'day': 14, 'month': 2, 'phase': 'Last Quarter', 'time': '00:04', 'year': 1974}, {'day': 22, 'month': 2, 'phase': 'New Moon', 'time': '05:34', 'year': 1974}, {'day': 1, 'month': 3, 'phase': 'First Quarter', 'time': '18:03', 'year': 1974}, {'day': 8, 'month': 3, 'phase': 'Full Moon', 'time': '10:03', 'year': 1974}, {'day': 15, 'month': 3, 'phase': 'Last Quarter', 'time': '19:15', 'year': 1974}, {'day': 23, 'month': 3, 'phase': 'New Moon', 'time': '21:24', 'year': 1974}, {'day': 31, 'month': 3, 'phase': 'First Quarter', 'time': '01:44', 'year': 1974}, {'day': 6, 'month': 4, 'phase': 'Full Moon', 'time': '21:00', 'year': 1974}, {'day': 14, 'month': 4, 'phase': 'Last Quarter', 'time': '14:57', 'year': 1974}, {'day': 22, 'month': 4, 'phase': 'New Moon', 'time': '10:17', 'year': 1974}, {'day': 29, 'month': 4, 'phase': 'First Quarter', 'time': '07:39', 'year': 1974}, {'day': 6, 'month': 5, 'phase': 'Full Moon', 'time': '08:55', 'year': 1974}, {'day': 14, 'month': 5, 'phase': 'Last Quarter', 'time': '09:29', 'year': 1974}, {'day': 21, 'month': 5, 'phase': 'New Moon', 'time': '20:34', 'year': 1974}, {'day': 28, 'month': 5, 'phase': 'First Quarter', 'time': '13:03', 'year': 1974}, {'day': 4, 'month': 6, 'phase': 'Full Moon', 'time': '22:10', 'year': 1974}, {'day': 13, 'month': 6, 'phase': 'Last Quarter', 'time': '01:45', 'year': 1974}, {'day': 20, 'month': 6, 'phase': 'New Moon', 'time': '04:56', 'year': 1974}, {'day': 26, 'month': 6, 'phase': 'First Quarter', 'time': '19:20', 'year': 1974}, {'day': 4, 'month': 7, 'phase': 'Full Moon', 'time': '12:40', 'year': 1974}, {'day': 12, 'month': 7, 'phase': 'Last Quarter', 'time': '15:28', 'year': 1974}, {'day': 19, 'month': 7, 'phase': 'New Moon', 'time': '12:07', 'year': 1974}, {'day': 26, 'month': 7, 'phase': 'First Quarter', 'time': '03:51', 'year': 1974}, {'day': 3, 'month': 8, 'phase': 'Full Moon', 'time': '03:57', 'year': 1974}, {'day': 11, 'month': 8, 'phase': 'Last Quarter', 'time': '02:46', 'year': 1974}, {'day': 17, 'month': 8, 'phase': 'New Moon', 'time': '19:02', 'year': 1974}, {'day': 24, 'month': 8, 'phase': 'First Quarter', 'time': '15:38', 'year': 1974}, {'day': 1, 'month': 9, 'phase': 'Full Moon', 'time': '19:25', 'year': 1974}, {'day': 9, 'month': 9, 'phase': 'Last Quarter', 'time': '12:01', 'year': 1974}, {'day': 16, 'month': 9, 'phase': 'New Moon', 'time': '02:45', 'year': 1974}, {'day': 23, 'month': 9, 'phase': 'First Quarter', 'time': '07:08', 'year': 1974}, {'day': 1, 'month': 10, 'phase': 'Full Moon', 'time': '10:38', 'year': 1974}, {'day': 8, 'month': 10, 'phase': 'Last Quarter', 'time': '19:46', 'year': 1974}, {'day': 15, 'month': 10, 'phase': 'New Moon', 'time': '12:25', 'year': 1974}, {'day': 23, 'month': 10, 'phase': 'First Quarter', 'time': '01:53', 'year': 1974}, {'day': 31, 'month': 10, 'phase': 'Full Moon', 'time': '01:19', 'year': 1974}, {'day': 7, 'month': 11, 'phase': 'Last Quarter', 'time': '02:47', 'year': 1974}, {'day': 14, 'month': 11, 'phase': 'New Moon', 'time': '00:53', 'year': 1974}, {'day': 21, 'month': 11, 'phase': 'First Quarter', 'time': '22:39', 'year': 1974}, {'day': 29, 'month': 11, 'phase': 'Full Moon', 'time': '15:10', 'year': 1974}, {'day': 6, 'month': 12, 'phase': 'Last Quarter', 'time': '10:10', 'year': 1974}, {'day': 13, 'month': 12, 'phase': 'New Moon', 'time': '16:25', 'year': 1974}, {'day': 21, 'month': 12, 'phase': 'First Quarter', 'time': '19:43', 'year': 1974}, {'day': 29, 'month': 12, 'phase': 'Full Moon', 'time': '03:51', 'year': 1974}], 'year': 1974}, {'apiversion': '4.0.1', 'numphases': 49, 'phasedata': [{'day': 4, 'month': 1, 'phase': 'Last Quarter', 'time': '19:04', 'year': 1975}, {'day': 12, 'month': 1, 'phase': 'New Moon', 'time': '10:20', 'year': 1975}, {'day': 20, 'month': 1, 'phase': 'First Quarter', 'time': '15:14', 'year': 1975}, {'day': 27, 'month': 1, 'phase': 'Full Moon', 'time': '15:09', 'year': 1975}, {'day': 3, 'month': 2, 'phase': 'Last Quarter', 'time': '06:23', 'year': 1975}, {'day': 11, 'month': 2, 'phase': 'New Moon', 'time': '05:17', 'year': 1975}, {'day': 19, 'month': 2, 'phase': 'First Quarter', 'time': '07:38', 'year': 1975}, {'day': 26, 'month': 2, 'phase': 'Full Moon', 'time': '01:15', 'year': 1975}, {'day': 4, 'month': 3, 'phase': 'Last Quarter', 'time': '20:20', 'year': 1975}, {'day': 12, 'month': 3, 'phase': 'New Moon', 'time': '23:47', 'year': 1975}, {'day': 20, 'month': 3, 'phase': 'First Quarter', 'time': '20:05', 'year': 1975}, {'day': 27, 'month': 3, 'phase': 'Full Moon', 'time': '10:36', 'year': 1975}, {'day': 3, 'month': 4, 'phase': 'Last Quarter', 'time': '12:25', 'year': 1975}, {'day': 11, 'month': 4, 'phase': 'New Moon', 'time': '16:39', 'year': 1975}, {'day': 19, 'month': 4, 'phase': 'First Quarter', 'time': '04:41', 'year': 1975}, {'day': 25, 'month': 4, 'phase': 'Full Moon', 'time': '19:55', 'year': 1975}, {'day': 3, 'month': 5, 'phase': 'Last Quarter', 'time': '05:44', 'year': 1975}, {'day': 11, 'month': 5, 'phase': 'New Moon', 'time': '07:05', 'year': 1975}, {'day': 18, 'month': 5, 'phase': 'First Quarter', 'time': '10:29', 'year': 1975}, {'day': 25, 'month': 5, 'phase': 'Full Moon', 'time': '05:51', 'year': 1975}, {'day': 1, 'month': 6, 'phase': 'Last Quarter', 'time': '23:22', 'year': 1975}, {'day': 9, 'month': 6, 'phase': 'New Moon', 'time': '18:49', 'year': 1975}, {'day': 16, 'month': 6, 'phase': 'First Quarter', 'time': '14:58', 'year': 1975}, {'day': 23, 'month': 6, 'phase': 'Full Moon', 'time': '16:54', 'year': 1975}, {'day': 1, 'month': 7, 'phase': 'Last Quarter', 'time': '16:37', 'year': 1975}, {'day': 9, 'month': 7, 'phase': 'New Moon', 'time': '04:10', 'year': 1975}, {'day': 15, 'month': 7, 'phase': 'First Quarter', 'time': '19:47', 'year': 1975}, {'day': 23, 'month': 7, 'phase': 'Full Moon', 'time': '05:28', 'year': 1975}, {'day': 31, 'month': 7, 'phase': 'Last Quarter', 'time': '08:48', 'year': 1975}, {'day': 7, 'month': 8, 'phase': 'New Moon', 'time': '11:57', 'year': 1975}, {'day': 14, 'month': 8, 'phase': 'First Quarter', 'time': '02:24', 'year': 1975}, {'day': 21, 'month': 8, 'phase': 'Full Moon', 'time': '19:48', 'year': 1975}, {'day': 29, 'month': 8, 'phase': 'Last Quarter', 'time': '23:20', 'year': 1975}, {'day': 5, 'month': 9, 'phase': 'New Moon', 'time': '19:19', 'year': 1975}, {'day': 12, 'month': 9, 'phase': 'First Quarter', 'time': '11:59', 'year': 1975}, {'day': 20, 'month': 9, 'phase': 'Full Moon', 'time': '11:50', 'year': 1975}, {'day': 28, 'month': 9, 'phase': 'Last Quarter', 'time': '11:46', 'year': 1975}, {'day': 5, 'month': 10, 'phase': 'New Moon', 'time': '03:23', 'year': 1975}, {'day': 12, 'month': 10, 'phase': 'First Quarter', 'time': '01:15', 'year': 1975}, {'day': 20, 'month': 10, 'phase': 'Full Moon', 'time': '05:06', 'year': 1975}, {'day': 27, 'month': 10, 'phase': 'Last Quarter', 'time': '22:07', 'year': 1975}, {'day': 3, 'month': 11, 'phase': 'New Moon', 'time': '13:05', 'year': 1975}, {'day': 10, 'month': 11, 'phase': 'First Quarter', 'time': '18:21', 'year': 1975}, {'day': 18, 'month': 11, 'phase': 'Full Moon', 'time': '22:28', 'year': 1975}, {'day': 26, 'month': 11, 'phase': 'Last Quarter', 'time': '06:52', 'year': 1975}, {'day': 3, 'month': 12, 'phase': 'New Moon', 'time': '00:50', 'year': 1975}, {'day': 10, 'month': 12, 'phase': 'First Quarter', 'time': '14:39', 'year': 1975}, {'day': 18, 'month': 12, 'phase': 'Full Moon', 'time': '14:39', 'year': 1975}, {'day': 25, 'month': 12, 'phase': 'Last Quarter', 'time': '14:52', 'year': 1975}], 'year': 1975}, {'apiversion': '4.0.1', 'numphases': 50, 'phasedata': [{'day': 1, 'month': 1, 'phase': 'New Moon', 'time': '14:40', 'year': 1976}, {'day': 9, 'month': 1, 'phase': 'First Quarter', 'time': '12:40', 'year': 1976}, {'day': 17, 'month': 1, 'phase': 'Full Moon', 'time': '04:47', 'year': 1976}, {'day': 23, 'month': 1, 'phase': 'Last Quarter', 'time': '23:04', 'year': 1976}, {'day': 31, 'month': 1, 'phase': 'New Moon', 'time': '06:20', 'year': 1976}, {'day': 8, 'month': 2, 'phase': 'First Quarter', 'time': '10:05', 'year': 1976}, {'day': 15, 'month': 2, 'phase': 'Full Moon', 'time': '16:43', 'year': 1976}, {'day': 22, 'month': 2, 'phase': 'Last Quarter', 'time': '08:16', 'year': 1976}, {'day': 29, 'month': 2, 'phase': 'New Moon', 'time': '23:25', 'year': 1976}, {'day': 9, 'month': 3, 'phase': 'First Quarter', 'time': '04:38', 'year': 1976}, {'day': 16, 'month': 3, 'phase': 'Full Moon', 'time': '02:53', 'year': 1976}, {'day': 22, 'month': 3, 'phase': 'Last Quarter', 'time': '18:54', 'year': 1976}, {'day': 30, 'month': 3, 'phase': 'New Moon', 'time': '17:08', 'year': 1976}, {'day': 7, 'month': 4, 'phase': 'First Quarter', 'time': '19:02', 'year': 1976}, {'day': 14, 'month': 4, 'phase': 'Full Moon', 'time': '11:49', 'year': 1976}, {'day': 21, 'month': 4, 'phase': 'Last Quarter', 'time': '07:14', 'year': 1976}, {'day': 29, 'month': 4, 'phase': 'New Moon', 'time': '10:20', 'year': 1976}, {'day': 7, 'month': 5, 'phase': 'First Quarter', 'time': '05:17', 'year': 1976}, {'day': 13, 'month': 5, 'phase': 'Full Moon', 'time': '20:04', 'year': 1976}, {'day': 20, 'month': 5, 'phase': 'Last Quarter', 'time': '21:22', 'year': 1976}, {'day': 29, 'month': 5, 'phase': 'New Moon', 'time': '01:47', 'year': 1976}, {'day': 5, 'month': 6, 'phase': 'First Quarter', 'time': '12:20', 'year': 1976}, {'day': 12, 'month': 6, 'phase': 'Full Moon', 'time': '04:15', 'year': 1976}, {'day': 19, 'month': 6, 'phase': 'Last Quarter', 'time': '13:15', 'year': 1976}, {'day': 27, 'month': 6, 'phase': 'New Moon', 'time': '14:50', 'year': 1976}, {'day': 4, 'month': 7, 'phase': 'First Quarter', 'time': '17:28', 'year': 1976}, {'day': 11, 'month': 7, 'phase': 'Full Moon', 'time': '13:09', 'year': 1976}, {'day': 19, 'month': 7, 'phase': 'Last Quarter', 'time': '06:29', 'year': 1976}, {'day': 27, 'month': 7, 'phase': 'New Moon', 'time': '01:39', 'year': 1976}, {'day': 2, 'month': 8, 'phase': 'First Quarter', 'time': '22:06', 'year': 1976}, {'day': 9, 'month': 8, 'phase': 'Full Moon', 'time': '23:43', 'year': 1976}, {'day': 18, 'month': 8, 'phase': 'Last Quarter', 'time': '00:12', 'year': 1976}, {'day': 25, 'month': 8, 'phase': 'New Moon', 'time': '11:01', 'year': 1976}, {'day': 1, 'month': 9, 'phase': 'First Quarter', 'time': '03:35', 'year': 1976}, {'day': 8, 'month': 9, 'phase': 'Full Moon', 'time': '12:52', 'year': 1976}, {'day': 16, 'month': 9, 'phase': 'Last Quarter', 'time': '17:20', 'year': 1976}, {'day': 23, 'month': 9, 'phase': 'New Moon', 'time': '19:55', 'year': 1976}, {'day': 30, 'month': 9, 'phase': 'First Quarter', 'time': '11:12', 'year': 1976}, {'day': 8, 'month': 10, 'phase': 'Full Moon', 'time': '04:55', 'year': 1976}, {'day': 16, 'month': 10, 'phase': 'Last Quarter', 'time': '08:59', 'year': 1976}, {'day': 23, 'month': 10, 'phase': 'New Moon', 'time': '05:10', 'year': 1976}, {'day': 29, 'month': 10, 'phase': 'First Quarter', 'time': '22:05', 'year': 1976}, {'day': 6, 'month': 11, 'phase': 'Full Moon', 'time': '23:15', 'year': 1976}, {'day': 14, 'month': 11, 'phase': 'Last Quarter', 'time': '22:39', 'year': 1976}, {'day': 21, 'month': 11, 'phase': 'New Moon', 'time': '15:11', 'year': 1976}, {'day': 28, 'month': 11, 'phase': 'First Quarter', 'time': '12:59', 'year': 1976}, {'day': 6, 'month': 12, 'phase': 'Full Moon', 'time': '18:15', 'year': 1976}, {'day': 14, 'month': 12, 'phase': 'Last Quarter', 'time': '10:14', 'year': 1976}, {'day': 21, 'month': 12, 'phase': 'New Moon', 'time': '02:08', 'year': 1976}, {'day': 28, 'month': 12, 'phase': 'First Quarter', 'time': '07:48', 'year': 1976}], 'year': 1976}, {'apiversion': '4.0.1', 'numphases': 49, 'phasedata': [{'day': 5, 'month': 1, 'phase': 'Full Moon', 'time': '12:10', 'year': 1977}, {'day': 12, 'month': 1, 'phase': 'Last Quarter', 'time': '19:55', 'year': 1977}, {'day': 19, 'month': 1, 'phase': 'New Moon', 'time': '14:11', 'year': 1977}, {'day': 27, 'month': 1, 'phase': 'First Quarter', 'time': '05:11', 'year': 1977}, {'day': 4, 'month': 2, 'phase': 'Full Moon', 'time': '03:56', 'year': 1977}, {'day': 11, 'month': 2, 'phase': 'Last Quarter', 'time': '04:07', 'year': 1977}, {'day': 18, 'month': 2, 'phase': 'New Moon', 'time': '03:37', 'year': 1977}, {'day': 26, 'month': 2, 'phase': 'First Quarter', 'time': '02:50', 'year': 1977}, {'day': 5, 'month': 3, 'phase': 'Full Moon', 'time': '17:13', 'year': 1977}, {'day': 12, 'month': 3, 'phase': 'Last Quarter', 'time': '11:35', 'year': 1977}, {'day': 19, 'month': 3, 'phase': 'New Moon', 'time': '18:33', 'year': 1977}, {'day': 27, 'month': 3, 'phase': 'First Quarter', 'time': '22:27', 'year': 1977}, {'day': 4, 'month': 4, 'phase': 'Full Moon', 'time': '04:09', 'year': 1977}, {'day': 10, 'month': 4, 'phase': 'Last Quarter', 'time': '19:15', 'year': 1977}, {'day': 18, 'month': 4, 'phase': 'New Moon', 'time': '10:35', 'year': 1977}, {'day': 26, 'month': 4, 'phase': 'First Quarter', 'time': '14:42', 'year': 1977}, {'day': 3, 'month': 5, 'phase': 'Full Moon', 'time': '13:03', 'year': 1977}, {'day': 10, 'month': 5, 'phase': 'Last Quarter', 'time': '04:08', 'year': 1977}, {'day': 18, 'month': 5, 'phase': 'New Moon', 'time': '02:51', 'year': 1977}, {'day': 26, 'month': 5, 'phase': 'First Quarter', 'time': '03:20', 'year': 1977}, {'day': 1, 'month': 6, 'phase': 'Full Moon', 'time': '20:31', 'year': 1977}, {'day': 8, 'month': 6, 'phase': 'Last Quarter', 'time': '15:07', 'year': 1977}, {'day': 16, 'month': 6, 'phase': 'New Moon', 'time': '18:23', 'year': 1977}, {'day': 24, 'month': 6, 'phase': 'First Quarter', 'time': '12:44', 'year': 1977}, {'day': 1, 'month': 7, 'phase': 'Full Moon', 'time': '03:24', 'year': 1977}, {'day': 8, 'month': 7, 'phase': 'Last Quarter', 'time': '04:39', 'year': 1977}, {'day': 16, 'month': 7, 'phase': 'New Moon', 'time': '08:37', 'year': 1977}, {'day': 23, 'month': 7, 'phase': 'First Quarter', 'time': '19:38', 'year': 1977}, {'day': 30, 'month': 7, 'phase': 'Full Moon', 'time': '10:52', 'year': 1977}, {'day': 6, 'month': 8, 'phase': 'Last Quarter', 'time': '20:40', 'year': 1977}, {'day': 14, 'month': 8, 'phase': 'New Moon', 'time': '21:31', 'year': 1977}, {'day': 22, 'month': 8, 'phase': 'First Quarter', 'time': '01:04', 'year': 1977}, {'day': 28, 'month': 8, 'phase': 'Full Moon', 'time': '20:10', 'year': 1977}, {'day': 5, 'month': 9, 'phase': 'Last Quarter', 'time': '14:33', 'year': 1977}, {'day': 13, 'month': 9, 'phase': 'New Moon', 'time': '09:23', 'year': 1977}, {'day': 20, 'month': 9, 'phase': 'First Quarter', 'time': '06:18', 'year': 1977}, {'day': 27, 'month': 9, 'phase': 'Full Moon', 'time': '08:17', 'year': 1977}, {'day': 5, 'month': 10, 'phase': 'Last Quarter', 'time': '09:21', 'year': 1977}, {'day': 12, 'month': 10, 'phase': 'New Moon', 'time': '20:31', 'year': 1977}, {'day': 19, 'month': 10, 'phase': 'First Quarter', 'time': '12:46', 'year': 1977}, {'day': 26, 'month': 10, 'phase': 'Full Moon', 'time': '23:35', 'year': 1977}, {'day': 4, 'month': 11, 'phase': 'Last Quarter', 'time': '03:58', 'year': 1977}, {'day': 11, 'month': 11, 'phase': 'New Moon', 'time': '07:09', 'year': 1977}, {'day': 17, 'month': 11, 'phase': 'First Quarter', 'time': '21:52', 'year': 1977}, {'day': 25, 'month': 11, 'phase': 'Full Moon', 'time': '17:31', 'year': 1977}, {'day': 3, 'month': 12, 'phase': 'Last Quarter', 'time': '21:16', 'year': 1977}, {'day': 10, 'month': 12, 'phase': 'New Moon', 'time': '17:33', 'year': 1977}, {'day': 17, 'month': 12, 'phase': 'First Quarter', 'time': '10:37', 'year': 1977}, {'day': 25, 'month': 12, 'phase': 'Full Moon', 'time': '12:49', 'year': 1977}], 'year': 1977}, {'apiversion': '4.0.1', 'numphases': 50, 'phasedata': [{'day': 2, 'month': 1, 'phase': 'Last Quarter', 'time': '12:07', 'year': 1978}, {'day': 9, 'month': 1, 'phase': 'New Moon', 'time': '04:00', 'year': 1978}, {'day': 16, 'month': 1, 'phase': 'First Quarter', 'time': '03:03', 'year': 1978}, {'day': 24, 'month': 1, 'phase': 'Full Moon', 'time': '07:56', 'year': 1978}, {'day': 31, 'month': 1, 'phase': 'Last Quarter', 'time': '23:51', 'year': 1978}, {'day': 7, 'month': 2, 'phase': 'New Moon', 'time': '14:54', 'year': 1978}, {'day': 14, 'month': 2, 'phase': 'First Quarter', 'time': '22:11', 'year': 1978}, {'day': 23, 'month': 2, 'phase': 'Full Moon', 'time': '01:26', 'year': 1978}, {'day': 2, 'month': 3, 'phase': 'Last Quarter', 'time': '08:34', 'year': 1978}, {'day': 9, 'month': 3, 'phase': 'New Moon', 'time': '02:36', 'year': 1978}, {'day': 16, 'month': 3, 'phase': 'First Quarter', 'time': '18:21', 'year': 1978}, {'day': 24, 'month': 3, 'phase': 'Full Moon', 'time': '16:20', 'year': 1978}, {'day': 31, 'month': 3, 'phase': 'Last Quarter', 'time': '15:11', 'year': 1978}, {'day': 7, 'month': 4, 'phase': 'New Moon', 'time': '15:15', 'year': 1978}, {'day': 15, 'month': 4, 'phase': 'First Quarter', 'time': '13:56', 'year': 1978}, {'day': 23, 'month': 4, 'phase': 'Full Moon', 'time': '04:11', 'year': 1978}, {'day': 29, 'month': 4, 'phase': 'Last Quarter', 'time': '21:02', 'year': 1978}, {'day': 7, 'month': 5, 'phase': 'New Moon', 'time': '04:47', 'year': 1978}, {'day': 15, 'month': 5, 'phase': 'First Quarter', 'time': '07:39', 'year': 1978}, {'day': 22, 'month': 5, 'phase': 'Full Moon', 'time': '13:17', 'year': 1978}, {'day': 29, 'month': 5, 'phase': 'Last Quarter', 'time': '03:30', 'year': 1978}, {'day': 5, 'month': 6, 'phase': 'New Moon', 'time': '19:01', 'year': 1978}, {'day': 13, 'month': 6, 'phase': 'First Quarter', 'time': '22:44', 'year': 1978}, {'day': 20, 'month': 6, 'phase': 'Full Moon', 'time': '20:31', 'year': 1978}, {'day': 27, 'month': 6, 'phase': 'Last Quarter', 'time': '11:44', 'year': 1978}, {'day': 5, 'month': 7, 'phase': 'New Moon', 'time': '09:50', 'year': 1978}, {'day': 13, 'month': 7, 'phase': 'First Quarter', 'time': '10:49', 'year': 1978}, {'day': 20, 'month': 7, 'phase': 'Full Moon', 'time': '03:05', 'year': 1978}, {'day': 26, 'month': 7, 'phase': 'Last Quarter', 'time': '22:31', 'year': 1978}, {'day': 4, 'month': 8, 'phase': 'New Moon', 'time': '01:01', 'year': 1978}, {'day': 11, 'month': 8, 'phase': 'First Quarter', 'time': '20:06', 'year': 1978}, {'day': 18, 'month': 8, 'phase': 'Full Moon', 'time': '10:14', 'year': 1978}, {'day': 25, 'month': 8, 'phase': 'Last Quarter', 'time': '12:18', 'year': 1978}, {'day': 2, 'month': 9, 'phase': 'New Moon', 'time': '16:09', 'year': 1978}, {'day': 10, 'month': 9, 'phase': 'First Quarter', 'time': '03:20', 'year': 1978}, {'day': 16, 'month': 9, 'phase': 'Full Moon', 'time': '19:01', 'year': 1978}, {'day': 24, 'month': 9, 'phase': 'Last Quarter', 'time': '05:07', 'year': 1978}, {'day': 2, 'month': 10, 'phase': 'New Moon', 'time': '06:41', 'year': 1978}, {'day': 9, 'month': 10, 'phase': 'First Quarter', 'time': '09:38', 'year': 1978}, {'day': 16, 'month': 10, 'phase': 'Full Moon', 'time': '06:10', 'year': 1978}, {'day': 24, 'month': 10, 'phase': 'Last Quarter', 'time': '00:34', 'year': 1978}, {'day': 31, 'month': 10, 'phase': 'New Moon', 'time': '20:07', 'year': 1978}, {'day': 7, 'month': 11, 'phase': 'First Quarter', 'time': '16:18', 'year': 1978}, {'day': 14, 'month': 11, 'phase': 'Full Moon', 'time': '20:00', 'year': 1978}, {'day': 22, 'month': 11, 'phase': 'Last Quarter', 'time': '21:24', 'year': 1978}, {'day': 30, 'month': 11, 'phase': 'New Moon', 'time': '08:19', 'year': 1978}, {'day': 7, 'month': 12, 'phase': 'First Quarter', 'time': '00:34', 'year': 1978}, {'day': 14, 'month': 12, 'phase': 'Full Moon', 'time': '12:31', 'year': 1978}, {'day': 22, 'month': 12, 'phase': 'Last Quarter', 'time': '17:42', 'year': 1978}, {'day': 29, 'month': 12, 'phase': 'New Moon', 'time': '19:36', 'year': 1978}], 'year': 1978}, {'apiversion': '4.0.1', 'numphases': 49, 'phasedata': [{'day': 5, 'month': 1, 'phase': 'First Quarter', 'time': '11:15', 'year': 1979}, {'day': 13, 'month': 1, 'phase': 'Full Moon', 'time': '07:09', 'year': 1979}, {'day': 21, 'month': 1, 'phase': 'Last Quarter', 'time': '11:23', 'year': 1979}, {'day': 28, 'month': 1, 'phase': 'New Moon', 'time': '06:20', 'year': 1979}, {'day': 4, 'month': 2, 'phase': 'First Quarter', 'time': '00:36', 'year': 1979}, {'day': 12, 'month': 2, 'phase': 'Full Moon', 'time': '02:39', 'year': 1979}, {'day': 20, 'month': 2, 'phase': 'Last Quarter', 'time': '01:17', 'year': 1979}, {'day': 26, 'month': 2, 'phase': 'New Moon', 'time': '16:45', 'year': 1979}, {'day': 5, 'month': 3, 'phase': 'First Quarter', 'time': '16:23', 'year': 1979}, {'day': 13, 'month': 3, 'phase': 'Full Moon', 'time': '21:14', 'year': 1979}, {'day': 21, 'month': 3, 'phase': 'Last Quarter', 'time': '11:22', 'year': 1979}, {'day': 28, 'month': 3, 'phase': 'New Moon', 'time': '03:00', 'year': 1979}, {'day': 4, 'month': 4, 'phase': 'First Quarter', 'time': '09:57', 'year': 1979}, {'day': 12, 'month': 4, 'phase': 'Full Moon', 'time': '13:15', 'year': 1979}, {'day': 19, 'month': 4, 'phase': 'Last Quarter', 'time': '18:30', 'year': 1979}, {'day': 26, 'month': 4, 'phase': 'New Moon', 'time': '13:15', 'year': 1979}, {'day': 4, 'month': 5, 'phase': 'First Quarter', 'time': '04:25', 'year': 1979}, {'day': 12, 'month': 5, 'phase': 'Full Moon', 'time': '02:01', 'year': 1979}, {'day': 18, 'month': 5, 'phase': 'Last Quarter', 'time': '23:57', 'year': 1979}, {'day': 26, 'month': 5, 'phase': 'New Moon', 'time': '00:00', 'year': 1979}, {'day': 2, 'month': 6, 'phase': 'First Quarter', 'time': '22:37', 'year': 1979}, {'day': 10, 'month': 6, 'phase': 'Full Moon', 'time': '11:55', 'year': 1979}, {'day': 17, 'month': 6, 'phase': 'Last Quarter', 'time': '05:01', 'year': 1979}, {'day': 24, 'month': 6, 'phase': 'New Moon', 'time': '11:58', 'year': 1979}, {'day': 2, 'month': 7, 'phase': 'First Quarter', 'time': '15:24', 'year': 1979}, {'day': 9, 'month': 7, 'phase': 'Full Moon', 'time': '19:59', 'year': 1979}, {'day': 16, 'month': 7, 'phase': 'Last Quarter', 'time': '10:59', 'year': 1979}, {'day': 24, 'month': 7, 'phase': 'New Moon', 'time': '01:41', 'year': 1979}, {'day': 1, 'month': 8, 'phase': 'First Quarter', 'time': '05:57', 'year': 1979}, {'day': 8, 'month': 8, 'phase': 'Full Moon', 'time': '03:21', 'year': 1979}, {'day': 14, 'month': 8, 'phase': 'Last Quarter', 'time': '19:02', 'year': 1979}, {'day': 22, 'month': 8, 'phase': 'New Moon', 'time': '17:10', 'year': 1979}, {'day': 30, 'month': 8, 'phase': 'First Quarter', 'time': '18:09', 'year': 1979}, {'day': 6, 'month': 9, 'phase': 'Full Moon', 'time': '10:59', 'year': 1979}, {'day': 13, 'month': 9, 'phase': 'Last Quarter', 'time': '06:15', 'year': 1979}, {'day': 21, 'month': 9, 'phase': 'New Moon', 'time': '09:47', 'year': 1979}, {'day': 29, 'month': 9, 'phase': 'First Quarter', 'time': '04:20', 'year': 1979}, {'day': 5, 'month': 10, 'phase': 'Full Moon', 'time': '19:35', 'year': 1979}, {'day': 12, 'month': 10, 'phase': 'Last Quarter', 'time': '21:24', 'year': 1979}, {'day': 21, 'month': 10, 'phase': 'New Moon', 'time': '02:23', 'year': 1979}, {'day': 28, 'month': 10, 'phase': 'First Quarter', 'time': '13:06', 'year': 1979}, {'day': 4, 'month': 11, 'phase': 'Full Moon', 'time': '05:47', 'year': 1979}, {'day': 11, 'month': 11, 'phase': 'Last Quarter', 'time': '16:24', 'year': 1979}, {'day': 19, 'month': 11, 'phase': 'New Moon', 'time': '18:04', 'year': 1979}, {'day': 26, 'month': 11, 'phase': 'First Quarter', 'time': '21:09', 'year': 1979}, {'day': 3, 'month': 12, 'phase': 'Full Moon', 'time': '18:08', 'year': 1979}, {'day': 11, 'month': 12, 'phase': 'Last Quarter', 'time': '13:59', 'year': 1979}, {'day': 19, 'month': 12, 'phase': 'New Moon', 'time': '08:23', 'year': 1979}, {'day': 26, 'month': 12, 'phase': 'First Quarter', 'time': '05:11', 'year': 1979}], 'year': 1979}, {'apiversion': '4.0.1', 'numphases': 50, 'phasedata': [{'day': 2, 'month': 1, 'phase': 'Full Moon', 'time': '09:02', 'year': 1980}, {'day': 10, 'month': 1, 'phase': 'Last Quarter', 'time': '11:50', 'year': 1980}, {'day': 17, 'month': 1, 'phase': 'New Moon', 'time': '21:19', 'year': 1980}, {'day': 24, 'month': 1, 'phase': 'First Quarter', 'time': '13:58', 'year': 1980}, {'day': 1, 'month': 2, 'phase': 'Full Moon', 'time': '02:21', 'year': 1980}, {'day': 9, 'month': 2, 'phase': 'Last Quarter', 'time': '07:35', 'year': 1980}, {'day': 16, 'month': 2, 'phase': 'New Moon', 'time': '08:51', 'year': 1980}, {'day': 23, 'month': 2, 'phase': 'First Quarter', 'time': '00:14', 'year': 1980}, {'day': 1, 'month': 3, 'phase': 'Full Moon', 'time': '21:00', 'year': 1980}, {'day': 9, 'month': 3, 'phase': 'Last Quarter', 'time': '23:49', 'year': 1980}, {'day': 16, 'month': 3, 'phase': 'New Moon', 'time': '18:56', 'year': 1980}, {'day': 23, 'month': 3, 'phase': 'First Quarter', 'time': '12:31', 'year': 1980}, {'day': 31, 'month': 3, 'phase': 'Full Moon', 'time': '15:14', 'year': 1980}, {'day': 8, 'month': 4, 'phase': 'Last Quarter', 'time': '12:06', 'year': 1980}, {'day': 15, 'month': 4, 'phase': 'New Moon', 'time': '03:46', 'year': 1980}, {'day': 22, 'month': 4, 'phase': 'First Quarter', 'time': '02:59', 'year': 1980}, {'day': 30, 'month': 4, 'phase': 'Full Moon', 'time': '07:35', 'year': 1980}, {'day': 7, 'month': 5, 'phase': 'Last Quarter', 'time': '20:51', 'year': 1980}, {'day': 14, 'month': 5, 'phase': 'New Moon', 'time': '12:00', 'year': 1980}, {'day': 21, 'month': 5, 'phase': 'First Quarter', 'time': '19:16', 'year': 1980}, {'day': 29, 'month': 5, 'phase': 'Full Moon', 'time': '21:28', 'year': 1980}, {'day': 6, 'month': 6, 'phase': 'Last Quarter', 'time': '02:53', 'year': 1980}, {'day': 12, 'month': 6, 'phase': 'New Moon', 'time': '20:38', 'year': 1980}, {'day': 20, 'month': 6, 'phase': 'First Quarter', 'time': '12:32', 'year': 1980}, {'day': 28, 'month': 6, 'phase': 'Full Moon', 'time': '09:02', 'year': 1980}, {'day': 5, 'month': 7, 'phase': 'Last Quarter', 'time': '07:27', 'year': 1980}, {'day': 12, 'month': 7, 'phase': 'New Moon', 'time': '06:46', 'year': 1980}, {'day': 20, 'month': 7, 'phase': 'First Quarter', 'time': '05:51', 'year': 1980}, {'day': 27, 'month': 7, 'phase': 'Full Moon', 'time': '18:54', 'year': 1980}, {'day': 3, 'month': 8, 'phase': 'Last Quarter', 'time': '12:00', 'year': 1980}, {'day': 10, 'month': 8, 'phase': 'New Moon', 'time': '19:09', 'year': 1980}, {'day': 18, 'month': 8, 'phase': 'First Quarter', 'time': '22:28', 'year': 1980}, {'day': 26, 'month': 8, 'phase': 'Full Moon', 'time': '03:42', 'year': 1980}, {'day': 1, 'month': 9, 'phase': 'Last Quarter', 'time': '18:08', 'year': 1980}, {'day': 9, 'month': 9, 'phase': 'New Moon', 'time': '10:00', 'year': 1980}, {'day': 17, 'month': 9, 'phase': 'First Quarter', 'time': '13:54', 'year': 1980}, {'day': 24, 'month': 9, 'phase': 'Full Moon', 'time': '12:08', 'year': 1980}, {'day': 1, 'month': 10, 'phase': 'Last Quarter', 'time': '03:18', 'year': 1980}, {'day': 9, 'month': 10, 'phase': 'New Moon', 'time': '02:50', 'year': 1980}, {'day': 17, 'month': 10, 'phase': 'First Quarter', 'time': '03:47', 'year': 1980}, {'day': 23, 'month': 10, 'phase': 'Full Moon', 'time': '20:52', 'year': 1980}, {'day': 30, 'month': 10, 'phase': 'Last Quarter', 'time': '16:33', 'year': 1980}, {'day': 7, 'month': 11, 'phase': 'New Moon', 'time': '20:43', 'year': 1980}, {'day': 15, 'month': 11, 'phase': 'First Quarter', 'time': '15:47', 'year': 1980}, {'day': 22, 'month': 11, 'phase': 'Full Moon', 'time': '06:39', 'year': 1980}, {'day': 29, 'month': 11, 'phase': 'Last Quarter', 'time': '09:59', 'year': 1980}, {'day': 7, 'month': 12, 'phase': 'New Moon', 'time': '14:35', 'year': 1980}, {'day': 15, 'month': 12, 'phase': 'First Quarter', 'time': '01:47', 'year': 1980}, {'day': 21, 'month': 12, 'phase': 'Full Moon', 'time': '18:08', 'year': 1980}, {'day': 29, 'month': 12, 'phase': 'Last Quarter', 'time': '06:32', 'year': 1980}], 'year': 1980}, {'apiversion': '4.0.1', 'numphases': 49, 'phasedata': [{'day': 6, 'month': 1, 'phase': 'New Moon', 'time': '07:24', 'year': 1981}, {'day': 13, 'month': 1, 'phase': 'First Quarter', 'time': '10:10', 'year': 1981}, {'day': 20, 'month': 1, 'phase': 'Full Moon', 'time': '07:39', 'year': 1981}, {'day': 28, 'month': 1, 'phase': 'Last Quarter', 'time': '04:19', 'year': 1981}, {'day': 4, 'month': 2, 'phase': 'New Moon', 'time': '22:14', 'year': 1981}, {'day': 11, 'month': 2, 'phase': 'First Quarter', 'time': '17:49', 'year': 1981}, {'day': 18, 'month': 2, 'phase': 'Full Moon', 'time': '22:58', 'year': 1981}, {'day': 27, 'month': 2, 'phase': 'Last Quarter', 'time': '01:14', 'year': 1981}, {'day': 6, 'month': 3, 'phase': 'New Moon', 'time': '10:31', 'year': 1981}, {'day': 13, 'month': 3, 'phase': 'First Quarter', 'time': '01:51', 'year': 1981}, {'day': 20, 'month': 3, 'phase': 'Full Moon', 'time': '15:23', 'year': 1981}, {'day': 28, 'month': 3, 'phase': 'Last Quarter', 'time': '19:34', 'year': 1981}, {'day': 4, 'month': 4, 'phase': 'New Moon', 'time': '20:19', 'year': 1981}, {'day': 11, 'month': 4, 'phase': 'First Quarter', 'time': '11:11', 'year': 1981}, {'day': 19, 'month': 4, 'phase': 'Full Moon', 'time': '07:59', 'year': 1981}, {'day': 27, 'month': 4, 'phase': 'Last Quarter', 'time': '10:14', 'year': 1981}, {'day': 4, 'month': 5, 'phase': 'New Moon', 'time': '04:19', 'year': 1981}, {'day': 10, 'month': 5, 'phase': 'First Quarter', 'time': '22:22', 'year': 1981}, {'day': 19, 'month': 5, 'phase': 'Full Moon', 'time': '00:04', 'year': 1981}, {'day': 26, 'month': 5, 'phase': 'Last Quarter', 'time': '21:00', 'year': 1981}, {'day': 2, 'month': 6, 'phase': 'New Moon', 'time': '11:32', 'year': 1981}, {'day': 9, 'month': 6, 'phase': 'First Quarter', 'time': '11:33', 'year': 1981}, {'day': 17, 'month': 6, 'phase': 'Full Moon', 'time': '15:04', 'year': 1981}, {'day': 25, 'month': 6, 'phase': 'Last Quarter', 'time': '04:25', 'year': 1981}, {'day': 1, 'month': 7, 'phase': 'New Moon', 'time': '19:03', 'year': 1981}, {'day': 9, 'month': 7, 'phase': 'First Quarter', 'time': '02:39', 'year': 1981}, {'day': 17, 'month': 7, 'phase': 'Full Moon', 'time': '04:39', 'year': 1981}, {'day': 24, 'month': 7, 'phase': 'Last Quarter', 'time': '09:40', 'year': 1981}, {'day': 31, 'month': 7, 'phase': 'New Moon', 'time': '03:52', 'year': 1981}, {'day': 7, 'month': 8, 'phase': 'First Quarter', 'time': '19:26', 'year': 1981}, {'day': 15, 'month': 8, 'phase': 'Full Moon', 'time': '16:37', 'year': 1981}, {'day': 22, 'month': 8, 'phase': 'Last Quarter', 'time': '14:16', 'year': 1981}, {'day': 29, 'month': 8, 'phase': 'New Moon', 'time': '14:43', 'year': 1981}, {'day': 6, 'month': 9, 'phase': 'First Quarter', 'time': '13:26', 'year': 1981}, {'day': 14, 'month': 9, 'phase': 'Full Moon', 'time': '03:09', 'year': 1981}, {'day': 20, 'month': 9, 'phase': 'Last Quarter', 'time': '19:47', 'year': 1981}, {'day': 28, 'month': 9, 'phase': 'New Moon', 'time': '04:07', 'year': 1981}, {'day': 6, 'month': 10, 'phase': 'First Quarter', 'time': '07:45', 'year': 1981}, {'day': 13, 'month': 10, 'phase': 'Full Moon', 'time': '12:49', 'year': 1981}, {'day': 20, 'month': 10, 'phase': 'Last Quarter', 'time': '03:41', 'year': 1981}, {'day': 27, 'month': 10, 'phase': 'New Moon', 'time': '20:13', 'year': 1981}, {'day': 5, 'month': 11, 'phase': 'First Quarter', 'time': '01:09', 'year': 1981}, {'day': 11, 'month': 11, 'phase': 'Full Moon', 'time': '22:27', 'year': 1981}, {'day': 18, 'month': 11, 'phase': 'Last Quarter', 'time': '14:54', 'year': 1981}, {'day': 26, 'month': 11, 'phase': 'New Moon', 'time': '14:38', 'year': 1981}, {'day': 4, 'month': 12, 'phase': 'First Quarter', 'time': '16:22', 'year': 1981}, {'day': 11, 'month': 12, 'phase': 'Full Moon', 'time': '08:41', 'year': 1981}, {'day': 18, 'month': 12, 'phase': 'Last Quarter', 'time': '05:47', 'year': 1981}, {'day': 26, 'month': 12, 'phase': 'New Moon', 'time': '10:10', 'year': 1981}], 'year': 1981}, {'apiversion': '4.0.1', 'numphases': 50, 'phasedata': [{'day': 3, 'month': 1, 'phase': 'First Quarter', 'time': '04:46', 'year': 1982}, {'day': 9, 'month': 1, 'phase': 'Full Moon', 'time': '19:53', 'year': 1982}, {'day': 16, 'month': 1, 'phase': 'Last Quarter', 'time': '23:58', 'year': 1982}, {'day': 25, 'month': 1, 'phase': 'New Moon', 'time': '04:56', 'year': 1982}, {'day': 1, 'month': 2, 'phase': 'First Quarter', 'time': '14:28', 'year': 1982}, {'day': 8, 'month': 2, 'phase': 'Full Moon', 'time': '07:57', 'year': 1982}, {'day': 15, 'month': 2, 'phase': 'Last Quarter', 'time': '20:21', 'year': 1982}, {'day': 23, 'month': 2, 'phase': 'New Moon', 'time': '21:13', 'year': 1982}, {'day': 2, 'month': 3, 'phase': 'First Quarter', 'time': '22:15', 'year': 1982}, {'day': 9, 'month': 3, 'phase': 'Full Moon', 'time': '20:45', 'year': 1982}, {'day': 17, 'month': 3, 'phase': 'Last Quarter', 'time': '17:15', 'year': 1982}, {'day': 25, 'month': 3, 'phase': 'New Moon', 'time': '10:18', 'year': 1982}, {'day': 1, 'month': 4, 'phase': 'First Quarter', 'time': '05:08', 'year': 1982}, {'day': 8, 'month': 4, 'phase': 'Full Moon', 'time': '10:18', 'year': 1982}, {'day': 16, 'month': 4, 'phase': 'Last Quarter', 'time': '12:42', 'year': 1982}, {'day': 23, 'month': 4, 'phase': 'New Moon', 'time': '20:29', 'year': 1982}, {'day': 30, 'month': 4, 'phase': 'First Quarter', 'time': '12:07', 'year': 1982}, {'day': 8, 'month': 5, 'phase': 'Full Moon', 'time': '00:45', 'year': 1982}, {'day': 16, 'month': 5, 'phase': 'Last Quarter', 'time': '05:11', 'year': 1982}, {'day': 23, 'month': 5, 'phase': 'New Moon', 'time': '04:40', 'year': 1982}, {'day': 29, 'month': 5, 'phase': 'First Quarter', 'time': '20:07', 'year': 1982}, {'day': 6, 'month': 6, 'phase': 'Full Moon', 'time': '15:59', 'year': 1982}, {'day': 14, 'month': 6, 'phase': 'Last Quarter', 'time': '18:06', 'year': 1982}, {'day': 21, 'month': 6, 'phase': 'New Moon', 'time': '11:52', 'year': 1982}, {'day': 28, 'month': 6, 'phase': 'First Quarter', 'time': '05:56', 'year': 1982}, {'day': 6, 'month': 7, 'phase': 'Full Moon', 'time': '07:32', 'year': 1982}, {'day': 14, 'month': 7, 'phase': 'Last Quarter', 'time': '03:47', 'year': 1982}, {'day': 20, 'month': 7, 'phase': 'New Moon', 'time': '18:57', 'year': 1982}, {'day': 27, 'month': 7, 'phase': 'First Quarter', 'time': '18:22', 'year': 1982}, {'day': 4, 'month': 8, 'phase': 'Full Moon', 'time': '22:34', 'year': 1982}, {'day': 12, 'month': 8, 'phase': 'Last Quarter', 'time': '11:09', 'year': 1982}, {'day': 19, 'month': 8, 'phase': 'New Moon', 'time': '02:45', 'year': 1982}, {'day': 26, 'month': 8, 'phase': 'First Quarter', 'time': '09:49', 'year': 1982}, {'day': 3, 'month': 9, 'phase': 'Full Moon', 'time': '12:28', 'year': 1982}, {'day': 10, 'month': 9, 'phase': 'Last Quarter', 'time': '17:19', 'year': 1982}, {'day': 17, 'month': 9, 'phase': 'New Moon', 'time': '12:09', 'year': 1982}, {'day': 25, 'month': 9, 'phase': 'First Quarter', 'time': '04:07', 'year': 1982}, {'day': 3, 'month': 10, 'phase': 'Full Moon', 'time': '01:09', 'year': 1982}, {'day': 9, 'month': 10, 'phase': 'Last Quarter', 'time': '23:26', 'year': 1982}, {'day': 17, 'month': 10, 'phase': 'New Moon', 'time': '00:04', 'year': 1982}, {'day': 25, 'month': 10, 'phase': 'First Quarter', 'time': '00:08', 'year': 1982}, {'day': 1, 'month': 11, 'phase': 'Full Moon', 'time': '12:57', 'year': 1982}, {'day': 8, 'month': 11, 'phase': 'Last Quarter', 'time': '06:38', 'year': 1982}, {'day': 15, 'month': 11, 'phase': 'New Moon', 'time': '15:10', 'year': 1982}, {'day': 23, 'month': 11, 'phase': 'First Quarter', 'time': '20:06', 'year': 1982}, {'day': 1, 'month': 12, 'phase': 'Full Moon', 'time': '00:21', 'year': 1982}, {'day': 7, 'month': 12, 'phase': 'Last Quarter', 'time': '15:53', 'year': 1982}, {'day': 15, 'month': 12, 'phase': 'New Moon', 'time': '09:18', 'year': 1982}, {'day': 23, 'month': 12, 'phase': 'First Quarter', 'time': '14:17', 'year': 1982}, {'day': 30, 'month': 12, 'phase': 'Full Moon', 'time': '11:33', 'year': 1982}], 'year': 1982}, {'apiversion': '4.0.1', 'numphases': 49, 'phasedata': [{'day': 6, 'month': 1, 'phase': 'Last Quarter', 'time': '04:00', 'year': 1983}, {'day': 14, 'month': 1, 'phase': 'New Moon', 'time': '05:08', 'year': 1983}, {'day': 22, 'month': 1, 'phase': 'First Quarter', 'time': '05:33', 'year': 1983}, {'day': 28, 'month': 1, 'phase': 'Full Moon', 'time': '22:26', 'year': 1983}, {'day': 4, 'month': 2, 'phase': 'Last Quarter', 'time': '19:17', 'year': 1983}, {'day': 13, 'month': 2, 'phase': 'New Moon', 'time': '00:32', 'year': 1983}, {'day': 20, 'month': 2, 'phase': 'First Quarter', 'time': '17:32', 'year': 1983}, {'day': 27, 'month': 2, 'phase': 'Full Moon', 'time': '08:58', 'year': 1983}, {'day': 6, 'month': 3, 'phase': 'Last Quarter', 'time': '13:16', 'year': 1983}, {'day': 14, 'month': 3, 'phase': 'New Moon', 'time': '17:43', 'year': 1983}, {'day': 22, 'month': 3, 'phase': 'First Quarter', 'time': '02:25', 'year': 1983}, {'day': 28, 'month': 3, 'phase': 'Full Moon', 'time': '19:27', 'year': 1983}, {'day': 5, 'month': 4, 'phase': 'Last Quarter', 'time': '08:38', 'year': 1983}, {'day': 13, 'month': 4, 'phase': 'New Moon', 'time': '07:58', 'year': 1983}, {'day': 20, 'month': 4, 'phase': 'First Quarter', 'time': '08:58', 'year': 1983}, {'day': 27, 'month': 4, 'phase': 'Full Moon', 'time': '06:31', 'year': 1983}, {'day': 5, 'month': 5, 'phase': 'Last Quarter', 'time': '03:43', 'year': 1983}, {'day': 12, 'month': 5, 'phase': 'New Moon', 'time': '19:25', 'year': 1983}, {'day': 19, 'month': 5, 'phase': 'First Quarter', 'time': '14:17', 'year': 1983}, {'day': 26, 'month': 5, 'phase': 'Full Moon', 'time': '18:48', 'year': 1983}, {'day': 3, 'month': 6, 'phase': 'Last Quarter', 'time': '21:07', 'year': 1983}, {'day': 11, 'month': 6, 'phase': 'New Moon', 'time': '04:38', 'year': 1983}, {'day': 17, 'month': 6, 'phase': 'First Quarter', 'time': '19:46', 'year': 1983}, {'day': 25, 'month': 6, 'phase': 'Full Moon', 'time': '08:32', 'year': 1983}, {'day': 3, 'month': 7, 'phase': 'Last Quarter', 'time': '12:12', 'year': 1983}, {'day': 10, 'month': 7, 'phase': 'New Moon', 'time': '12:19', 'year': 1983}, {'day': 17, 'month': 7, 'phase': 'First Quarter', 'time': '02:50', 'year': 1983}, {'day': 24, 'month': 7, 'phase': 'Full Moon', 'time': '23:27', 'year': 1983}, {'day': 2, 'month': 8, 'phase': 'Last Quarter', 'time': '00:52', 'year': 1983}, {'day': 8, 'month': 8, 'phase': 'New Moon', 'time': '19:18', 'year': 1983}, {'day': 15, 'month': 8, 'phase': 'First Quarter', 'time': '12:47', 'year': 1983}, {'day': 23, 'month': 8, 'phase': 'Full Moon', 'time': '14:59', 'year': 1983}, {'day': 31, 'month': 8, 'phase': 'Last Quarter', 'time': '11:22', 'year': 1983}, {'day': 7, 'month': 9, 'phase': 'New Moon', 'time': '02:35', 'year': 1983}, {'day': 14, 'month': 9, 'phase': 'First Quarter', 'time': '02:24', 'year': 1983}, {'day': 22, 'month': 9, 'phase': 'Full Moon', 'time': '06:36', 'year': 1983}, {'day': 29, 'month': 9, 'phase': 'Last Quarter', 'time': '20:05', 'year': 1983}, {'day': 6, 'month': 10, 'phase': 'New Moon', 'time': '11:16', 'year': 1983}, {'day': 13, 'month': 10, 'phase': 'First Quarter', 'time': '19:42', 'year': 1983}, {'day': 21, 'month': 10, 'phase': 'Full Moon', 'time': '21:53', 'year': 1983}, {'day': 29, 'month': 10, 'phase': 'Last Quarter', 'time': '03:37', 'year': 1983}, {'day': 4, 'month': 11, 'phase': 'New Moon', 'time': '22:21', 'year': 1983}, {'day': 12, 'month': 11, 'phase': 'First Quarter', 'time': '15:49', 'year': 1983}, {'day': 20, 'month': 11, 'phase': 'Full Moon', 'time': '12:29', 'year': 1983}, {'day': 27, 'month': 11, 'phase': 'Last Quarter', 'time': '10:50', 'year': 1983}, {'day': 4, 'month': 12, 'phase': 'New Moon', 'time': '12:26', 'year': 1983}, {'day': 12, 'month': 12, 'phase': 'First Quarter', 'time': '13:09', 'year': 1983}, {'day': 20, 'month': 12, 'phase': 'Full Moon', 'time': '02:00', 'year': 1983}, {'day': 26, 'month': 12, 'phase': 'Last Quarter', 'time': '18:52', 'year': 1983}], 'year': 1983}, {'apiversion': '4.0.1', 'numphases': 50, 'phasedata': [{'day': 3, 'month': 1, 'phase': 'New Moon', 'time': '05:16', 'year': 1984}, {'day': 11, 'month': 1, 'phase': 'First Quarter', 'time': '09:48', 'year': 1984}, {'day': 18, 'month': 1, 'phase': 'Full Moon', 'time': '14:05', 'year': 1984}, {'day': 25, 'month': 1, 'phase': 'Last Quarter', 'time': '04:48', 'year': 1984}, {'day': 1, 'month': 2, 'phase': 'New Moon', 'time': '23:46', 'year': 1984}, {'day': 10, 'month': 2, 'phase': 'First Quarter', 'time': '04:00', 'year': 1984}, {'day': 17, 'month': 2, 'phase': 'Full Moon', 'time': '00:41', 'year': 1984}, {'day': 23, 'month': 2, 'phase': 'Last Quarter', 'time': '17:12', 'year': 1984}, {'day': 2, 'month': 3, 'phase': 'New Moon', 'time': '18:31', 'year': 1984}, {'day': 10, 'month': 3, 'phase': 'First Quarter', 'time': '18:28', 'year': 1984}, {'day': 17, 'month': 3, 'phase': 'Full Moon', 'time': '10:10', 'year': 1984}, {'day': 24, 'month': 3, 'phase': 'Last Quarter', 'time': '07:58', 'year': 1984}, {'day': 1, 'month': 4, 'phase': 'New Moon', 'time': '12:10', 'year': 1984}, {'day': 9, 'month': 4, 'phase': 'First Quarter', 'time': '04:51', 'year': 1984}, {'day': 15, 'month': 4, 'phase': 'Full Moon', 'time': '19:11', 'year': 1984}, {'day': 23, 'month': 4, 'phase': 'Last Quarter', 'time': '00:26', 'year': 1984}, {'day': 1, 'month': 5, 'phase': 'New Moon', 'time': '03:45', 'year': 1984}, {'day': 8, 'month': 5, 'phase': 'First Quarter', 'time': '11:50', 'year': 1984}, {'day': 15, 'month': 5, 'phase': 'Full Moon', 'time': '04:29', 'year': 1984}, {'day': 22, 'month': 5, 'phase': 'Last Quarter', 'time': '17:45', 'year': 1984}, {'day': 30, 'month': 5, 'phase': 'New Moon', 'time': '16:48', 'year': 1984}, {'day': 6, 'month': 6, 'phase': 'First Quarter', 'time': '16:42', 'year': 1984}, {'day': 13, 'month': 6, 'phase': 'Full Moon', 'time': '14:42', 'year': 1984}, {'day': 21, 'month': 6, 'phase': 'Last Quarter', 'time': '11:10', 'year': 1984}, {'day': 29, 'month': 6, 'phase': 'New Moon', 'time': '03:18', 'year': 1984}, {'day': 5, 'month': 7, 'phase': 'First Quarter', 'time': '21:04', 'year': 1984}, {'day': 13, 'month': 7, 'phase': 'Full Moon', 'time': '02:20', 'year': 1984}, {'day': 21, 'month': 7, 'phase': 'Last Quarter', 'time': '04:01', 'year': 1984}, {'day': 28, 'month': 7, 'phase': 'New Moon', 'time': '11:51', 'year': 1984}, {'day': 4, 'month': 8, 'phase': 'First Quarter', 'time': '02:33', 'year': 1984}, {'day': 11, 'month': 8, 'phase': 'Full Moon', 'time': '15:43', 'year': 1984}, {'day': 19, 'month': 8, 'phase': 'Last Quarter', 'time': '19:41', 'year': 1984}, {'day': 26, 'month': 8, 'phase': 'New Moon', 'time': '19:26', 'year': 1984}, {'day': 2, 'month': 9, 'phase': 'First Quarter', 'time': '10:30', 'year': 1984}, {'day': 10, 'month': 9, 'phase': 'Full Moon', 'time': '07:01', 'year': 1984}, {'day': 18, 'month': 9, 'phase': 'Last Quarter', 'time': '09:31', 'year': 1984}, {'day': 25, 'month': 9, 'phase': 'New Moon', 'time': '03:11', 'year': 1984}, {'day': 1, 'month': 10, 'phase': 'First Quarter', 'time': '21:53', 'year': 1984}, {'day': 9, 'month': 10, 'phase': 'Full Moon', 'time': '23:58', 'year': 1984}, {'day': 17, 'month': 10, 'phase': 'Last Quarter', 'time': '21:14', 'year': 1984}, {'day': 24, 'month': 10, 'phase': 'New Moon', 'time': '12:08', 'year': 1984}, {'day': 31, 'month': 10, 'phase': 'First Quarter', 'time': '13:07', 'year': 1984}, {'day': 8, 'month': 11, 'phase': 'Full Moon', 'time': '17:43', 'year': 1984}, {'day': 16, 'month': 11, 'phase': 'Last Quarter', 'time': '06:59', 'year': 1984}, {'day': 22, 'month': 11, 'phase': 'New Moon', 'time': '22:57', 'year': 1984}, {'day': 30, 'month': 11, 'phase': 'First Quarter', 'time': '08:01', 'year': 1984}, {'day': 8, 'month': 12, 'phase': 'Full Moon', 'time': '10:53', 'year': 1984}, {'day': 15, 'month': 12, 'phase': 'Last Quarter', 'time': '15:25', 'year': 1984}, {'day': 22, 'month': 12, 'phase': 'New Moon', 'time': '11:47', 'year': 1984}, {'day': 30, 'month': 12, 'phase': 'First Quarter', 'time': '05:27', 'year': 1984}], 'year': 1984}, {'apiversion': '4.0.1', 'numphases': 49, 'phasedata': [{'day': 7, 'month': 1, 'phase': 'Full Moon', 'time': '02:16', 'year': 1985}, {'day': 13, 'month': 1, 'phase': 'Last Quarter', 'time': '23:27', 'year': 1985}, {'day': 21, 'month': 1, 'phase': 'New Moon', 'time': '02:28', 'year': 1985}, {'day': 29, 'month': 1, 'phase': 'First Quarter', 'time': '03:29', 'year': 1985}, {'day': 5, 'month': 2, 'phase': 'Full Moon', 'time': '15:19', 'year': 1985}, {'day': 12, 'month': 2, 'phase': 'Last Quarter', 'time': '07:57', 'year': 1985}, {'day': 19, 'month': 2, 'phase': 'New Moon', 'time': '18:43', 'year': 1985}, {'day': 27, 'month': 2, 'phase': 'First Quarter', 'time': '23:41', 'year': 1985}, {'day': 7, 'month': 3, 'phase': 'Full Moon', 'time': '02:13', 'year': 1985}, {'day': 13, 'month': 3, 'phase': 'Last Quarter', 'time': '17:34', 'year': 1985}, {'day': 21, 'month': 3, 'phase': 'New Moon', 'time': '11:59', 'year': 1985}, {'day': 29, 'month': 3, 'phase': 'First Quarter', 'time': '16:11', 'year': 1985}, {'day': 5, 'month': 4, 'phase': 'Full Moon', 'time': '11:32', 'year': 1985}, {'day': 12, 'month': 4, 'phase': 'Last Quarter', 'time': '04:42', 'year': 1985}, {'day': 20, 'month': 4, 'phase': 'New Moon', 'time': '05:22', 'year': 1985}, {'day': 28, 'month': 4, 'phase': 'First Quarter', 'time': '04:25', 'year': 1985}, {'day': 4, 'month': 5, 'phase': 'Full Moon', 'time': '19:53', 'year': 1985}, {'day': 11, 'month': 5, 'phase': 'Last Quarter', 'time': '17:34', 'year': 1985}, {'day': 19, 'month': 5, 'phase': 'New Moon', 'time': '21:41', 'year': 1985}, {'day': 27, 'month': 5, 'phase': 'First Quarter', 'time': '12:56', 'year': 1985}, {'day': 3, 'month': 6, 'phase': 'Full Moon', 'time': '03:50', 'year': 1985}, {'day': 10, 'month': 6, 'phase': 'Last Quarter', 'time': '08:19', 'year': 1985}, {'day': 18, 'month': 6, 'phase': 'New Moon', 'time': '11:58', 'year': 1985}, {'day': 25, 'month': 6, 'phase': 'First Quarter', 'time': '18:53', 'year': 1985}, {'day': 2, 'month': 7, 'phase': 'Full Moon', 'time': '12:08', 'year': 1985}, {'day': 10, 'month': 7, 'phase': 'Last Quarter', 'time': '00:49', 'year': 1985}, {'day': 17, 'month': 7, 'phase': 'New Moon', 'time': '23:56', 'year': 1985}, {'day': 24, 'month': 7, 'phase': 'First Quarter', 'time': '23:39', 'year': 1985}, {'day': 31, 'month': 7, 'phase': 'Full Moon', 'time': '21:41', 'year': 1985}, {'day': 8, 'month': 8, 'phase': 'Last Quarter', 'time': '18:29', 'year': 1985}, {'day': 16, 'month': 8, 'phase': 'New Moon', 'time': '10:06', 'year': 1985}, {'day': 23, 'month': 8, 'phase': 'First Quarter', 'time': '04:36', 'year': 1985}, {'day': 30, 'month': 8, 'phase': 'Full Moon', 'time': '09:27', 'year': 1985}, {'day': 7, 'month': 9, 'phase': 'Last Quarter', 'time': '12:16', 'year': 1985}, {'day': 14, 'month': 9, 'phase': 'New Moon', 'time': '19:20', 'year': 1985}, {'day': 21, 'month': 9, 'phase': 'First Quarter', 'time': '11:03', 'year': 1985}, {'day': 29, 'month': 9, 'phase': 'Full Moon', 'time': '00:09', 'year': 1985}, {'day': 7, 'month': 10, 'phase': 'Last Quarter', 'time': '05:04', 'year': 1985}, {'day': 14, 'month': 10, 'phase': 'New Moon', 'time': '04:33', 'year': 1985}, {'day': 20, 'month': 10, 'phase': 'First Quarter', 'time': '20:13', 'year': 1985}, {'day': 28, 'month': 10, 'phase': 'Full Moon', 'time': '17:38', 'year': 1985}, {'day': 5, 'month': 11, 'phase': 'Last Quarter', 'time': '20:07', 'year': 1985}, {'day': 12, 'month': 11, 'phase': 'New Moon', 'time': '14:20', 'year': 1985}, {'day': 19, 'month': 11, 'phase': 'First Quarter', 'time': '09:04', 'year': 1985}, {'day': 27, 'month': 11, 'phase': 'Full Moon', 'time': '12:42', 'year': 1985}, {'day': 5, 'month': 12, 'phase': 'Last Quarter', 'time': '09:01', 'year': 1985}, {'day': 12, 'month': 12, 'phase': 'New Moon', 'time': '00:54', 'year': 1985}, {'day': 19, 'month': 12, 'phase': 'First Quarter', 'time': '01:58', 'year': 1985}, {'day': 27, 'month': 12, 'phase': 'Full Moon', 'time': '07:30', 'year': 1985}], 'year': 1985}, {'apiversion': '4.0.1', 'numphases': 50, 'phasedata': [{'day': 3, 'month': 1, 'phase': 'Last Quarter', 'time': '19:47', 'year': 1986}, {'day': 10, 'month': 1, 'phase': 'New Moon', 'time': '12:22', 'year': 1986}, {'day': 17, 'month': 1, 'phase': 'First Quarter', 'time': '22:13', 'year': 1986}, {'day': 26, 'month': 1, 'phase': 'Full Moon', 'time': '00:31', 'year': 1986}, {'day': 2, 'month': 2, 'phase': 'Last Quarter', 'time': '04:41', 'year': 1986}, {'day': 9, 'month': 2, 'phase': 'New Moon', 'time': '00:55', 'year': 1986}, {'day': 16, 'month': 2, 'phase': 'First Quarter', 'time': '19:55', 'year': 1986}, {'day': 24, 'month': 2, 'phase': 'Full Moon', 'time': '15:02', 'year': 1986}, {'day': 3, 'month': 3, 'phase': 'Last Quarter', 'time': '12:17', 'year': 1986}, {'day': 10, 'month': 3, 'phase': 'New Moon', 'time': '14:52', 'year': 1986}, {'day': 18, 'month': 3, 'phase': 'First Quarter', 'time': '16:39', 'year': 1986}, {'day': 26, 'month': 3, 'phase': 'Full Moon', 'time': '03:02', 'year': 1986}, {'day': 1, 'month': 4, 'phase': 'Last Quarter', 'time': '19:30', 'year': 1986}, {'day': 9, 'month': 4, 'phase': 'New Moon', 'time': '06:08', 'year': 1986}, {'day': 17, 'month': 4, 'phase': 'First Quarter', 'time': '10:35', 'year': 1986}, {'day': 24, 'month': 4, 'phase': 'Full Moon', 'time': '12:46', 'year': 1986}, {'day': 1, 'month': 5, 'phase': 'Last Quarter', 'time': '03:22', 'year': 1986}, {'day': 8, 'month': 5, 'phase': 'New Moon', 'time': '22:10', 'year': 1986}, {'day': 17, 'month': 5, 'phase': 'First Quarter', 'time': '01:00', 'year': 1986}, {'day': 23, 'month': 5, 'phase': 'Full Moon', 'time': '20:45', 'year': 1986}, {'day': 30, 'month': 5, 'phase': 'Last Quarter', 'time': '12:55', 'year': 1986}, {'day': 7, 'month': 6, 'phase': 'New Moon', 'time': '14:00', 'year': 1986}, {'day': 15, 'month': 6, 'phase': 'First Quarter', 'time': '12:00', 'year': 1986}, {'day': 22, 'month': 6, 'phase': 'Full Moon', 'time': '03:42', 'year': 1986}, {'day': 29, 'month': 6, 'phase': 'Last Quarter', 'time': '00:53', 'year': 1986}, {'day': 7, 'month': 7, 'phase': 'New Moon', 'time': '04:55', 'year': 1986}, {'day': 14, 'month': 7, 'phase': 'First Quarter', 'time': '20:10', 'year': 1986}, {'day': 21, 'month': 7, 'phase': 'Full Moon', 'time': '10:40', 'year': 1986}, {'day': 28, 'month': 7, 'phase': 'Last Quarter', 'time': '15:34', 'year': 1986}, {'day': 5, 'month': 8, 'phase': 'New Moon', 'time': '18:36', 'year': 1986}, {'day': 13, 'month': 8, 'phase': 'First Quarter', 'time': '02:22', 'year': 1986}, {'day': 19, 'month': 8, 'phase': 'Full Moon', 'time': '18:54', 'year': 1986}, {'day': 27, 'month': 8, 'phase': 'Last Quarter', 'time': '08:39', 'year': 1986}, {'day': 4, 'month': 9, 'phase': 'New Moon', 'time': '07:10', 'year': 1986}, {'day': 11, 'month': 9, 'phase': 'First Quarter', 'time': '07:41', 'year': 1986}, {'day': 18, 'month': 9, 'phase': 'Full Moon', 'time': '05:34', 'year': 1986}, {'day': 26, 'month': 9, 'phase': 'Last Quarter', 'time': '03:17', 'year': 1986}, {'day': 3, 'month': 10, 'phase': 'New Moon', 'time': '18:55', 'year': 1986}, {'day': 10, 'month': 10, 'phase': 'First Quarter', 'time': '13:28', 'year': 1986}, {'day': 17, 'month': 10, 'phase': 'Full Moon', 'time': '19:22', 'year': 1986}, {'day': 25, 'month': 10, 'phase': 'Last Quarter', 'time': '22:26', 'year': 1986}, {'day': 2, 'month': 11, 'phase': 'New Moon', 'time': '06:02', 'year': 1986}, {'day': 8, 'month': 11, 'phase': 'First Quarter', 'time': '21:11', 'year': 1986}, {'day': 16, 'month': 11, 'phase': 'Full Moon', 'time': '12:12', 'year': 1986}, {'day': 24, 'month': 11, 'phase': 'Last Quarter', 'time': '16:50', 'year': 1986}, {'day': 1, 'month': 12, 'phase': 'New Moon', 'time': '16:43', 'year': 1986}, {'day': 8, 'month': 12, 'phase': 'First Quarter', 'time': '08:02', 'year': 1986}, {'day': 16, 'month': 12, 'phase': 'Full Moon', 'time': '07:05', 'year': 1986}, {'day': 24, 'month': 12, 'phase': 'Last Quarter', 'time': '09:17', 'year': 1986}, {'day': 31, 'month': 12, 'phase': 'New Moon', 'time': '03:10', 'year': 1986}], 'year': 1986}, {'apiversion': '4.0.1', 'numphases': 49, 'phasedata': [{'day': 6, 'month': 1, 'phase': 'First Quarter', 'time': '22:35', 'year': 1987}, {'day': 15, 'month': 1, 'phase': 'Full Moon', 'time': '02:30', 'year': 1987}, {'day': 22, 'month': 1, 'phase': 'Last Quarter', 'time': '22:45', 'year': 1987}, {'day': 29, 'month': 1, 'phase': 'New Moon', 'time': '13:45', 'year': 1987}, {'day': 5, 'month': 2, 'phase': 'First Quarter', 'time': '16:21', 'year': 1987}, {'day': 13, 'month': 2, 'phase': 'Full Moon', 'time': '20:58', 'year': 1987}, {'day': 21, 'month': 2, 'phase': 'Last Quarter', 'time': '08:56', 'year': 1987}, {'day': 28, 'month': 2, 'phase': 'New Moon', 'time': '00:51', 'year': 1987}, {'day': 7, 'month': 3, 'phase': 'First Quarter', 'time': '11:58', 'year': 1987}, {'day': 15, 'month': 3, 'phase': 'Full Moon', 'time': '13:13', 'year': 1987}, {'day': 22, 'month': 3, 'phase': 'Last Quarter', 'time': '16:22', 'year': 1987}, {'day': 29, 'month': 3, 'phase': 'New Moon', 'time': '12:46', 'year': 1987}, {'day': 6, 'month': 4, 'phase': 'First Quarter', 'time': '07:48', 'year': 1987}, {'day': 14, 'month': 4, 'phase': 'Full Moon', 'time': '02:31', 'year': 1987}, {'day': 20, 'month': 4, 'phase': 'Last Quarter', 'time': '22:15', 'year': 1987}, {'day': 28, 'month': 4, 'phase': 'New Moon', 'time': '01:34', 'year': 1987}, {'day': 6, 'month': 5, 'phase': 'First Quarter', 'time': '02:26', 'year': 1987}, {'day': 13, 'month': 5, 'phase': 'Full Moon', 'time': '12:50', 'year': 1987}, {'day': 20, 'month': 5, 'phase': 'Last Quarter', 'time': '04:02', 'year': 1987}, {'day': 27, 'month': 5, 'phase': 'New Moon', 'time': '15:13', 'year': 1987}, {'day': 4, 'month': 6, 'phase': 'First Quarter', 'time': '18:53', 'year': 1987}, {'day': 11, 'month': 6, 'phase': 'Full Moon', 'time': '20:49', 'year': 1987}, {'day': 18, 'month': 6, 'phase': 'Last Quarter', 'time': '11:03', 'year': 1987}, {'day': 26, 'month': 6, 'phase': 'New Moon', 'time': '05:37', 'year': 1987}, {'day': 4, 'month': 7, 'phase': 'First Quarter', 'time': '08:34', 'year': 1987}, {'day': 11, 'month': 7, 'phase': 'Full Moon', 'time': '03:33', 'year': 1987}, {'day': 17, 'month': 7, 'phase': 'Last Quarter', 'time': '20:17', 'year': 1987}, {'day': 25, 'month': 7, 'phase': 'New Moon', 'time': '20:38', 'year': 1987}, {'day': 2, 'month': 8, 'phase': 'First Quarter', 'time': '19:24', 'year': 1987}, {'day': 9, 'month': 8, 'phase': 'Full Moon', 'time': '10:17', 'year': 1987}, {'day': 16, 'month': 8, 'phase': 'Last Quarter', 'time': '08:25', 'year': 1987}, {'day': 24, 'month': 8, 'phase': 'New Moon', 'time': '11:59', 'year': 1987}, {'day': 1, 'month': 9, 'phase': 'First Quarter', 'time': '03:48', 'year': 1987}, {'day': 7, 'month': 9, 'phase': 'Full Moon', 'time': '18:13', 'year': 1987}, {'day': 14, 'month': 9, 'phase': 'Last Quarter', 'time': '23:45', 'year': 1987}, {'day': 23, 'month': 9, 'phase': 'New Moon', 'time': '03:08', 'year': 1987}, {'day': 30, 'month': 9, 'phase': 'First Quarter', 'time': '10:39', 'year': 1987}, {'day': 7, 'month': 10, 'phase': 'Full Moon', 'time': '04:12', 'year': 1987}, {'day': 14, 'month': 10, 'phase': 'Last Quarter', 'time': '18:06', 'year': 1987}, {'day': 22, 'month': 10, 'phase': 'New Moon', 'time': '17:28', 'year': 1987}, {'day': 29, 'month': 10, 'phase': 'First Quarter', 'time': '17:10', 'year': 1987}, {'day': 5, 'month': 11, 'phase': 'Full Moon', 'time': '16:46', 'year': 1987}, {'day': 13, 'month': 11, 'phase': 'Last Quarter', 'time': '14:38', 'year': 1987}, {'day': 21, 'month': 11, 'phase': 'New Moon', 'time': '06:33', 'year': 1987}, {'day': 28, 'month': 11, 'phase': 'First Quarter', 'time': '00:37', 'year': 1987}, {'day': 5, 'month': 12, 'phase': 'Full Moon', 'time': '08:01', 'year': 1987}, {'day': 13, 'month': 12, 'phase': 'Last Quarter', 'time': '11:41', 'year': 1987}, {'day': 20, 'month': 12, 'phase': 'New Moon', 'time': '18:25', 'year': 1987}, {'day': 27, 'month': 12, 'phase': 'First Quarter', 'time': '10:01', 'year': 1987}], 'year': 1987}, {'apiversion': '4.0.1', 'numphases': 50, 'phasedata': [{'day': 4, 'month': 1, 'phase': 'Full Moon', 'time': '01:40', 'year': 1988}, {'day': 12, 'month': 1, 'phase': 'Last Quarter', 'time': '07:04', 'year': 1988}, {'day': 19, 'month': 1, 'phase': 'New Moon', 'time': '05:26', 'year': 1988}, {'day': 25, 'month': 1, 'phase': 'First Quarter', 'time': '21:54', 'year': 1988}, {'day': 2, 'month': 2, 'phase': 'Full Moon', 'time': '20:52', 'year': 1988}, {'day': 10, 'month': 2, 'phase': 'Last Quarter', 'time': '23:01', 'year': 1988}, {'day': 17, 'month': 2, 'phase': 'New Moon', 'time': '15:54', 'year': 1988}, {'day': 24, 'month': 2, 'phase': 'First Quarter', 'time': '12:15', 'year': 1988}, {'day': 3, 'month': 3, 'phase': 'Full Moon', 'time': '16:01', 'year': 1988}, {'day': 11, 'month': 3, 'phase': 'Last Quarter', 'time': '10:56', 'year': 1988}, {'day': 18, 'month': 3, 'phase': 'New Moon', 'time': '02:02', 'year': 1988}, {'day': 25, 'month': 3, 'phase': 'First Quarter', 'time': '04:42', 'year': 1988}, {'day': 2, 'month': 4, 'phase': 'Full Moon', 'time': '09:21', 'year': 1988}, {'day': 9, 'month': 4, 'phase': 'Last Quarter', 'time': '19:21', 'year': 1988}, {'day': 16, 'month': 4, 'phase': 'New Moon', 'time': '12:00', 'year': 1988}, {'day': 23, 'month': 4, 'phase': 'First Quarter', 'time': '22:32', 'year': 1988}, {'day': 1, 'month': 5, 'phase': 'Full Moon', 'time': '23:41', 'year': 1988}, {'day': 9, 'month': 5, 'phase': 'Last Quarter', 'time': '01:23', 'year': 1988}, {'day': 15, 'month': 5, 'phase': 'New Moon', 'time': '22:11', 'year': 1988}, {'day': 23, 'month': 5, 'phase': 'First Quarter', 'time': '16:49', 'year': 1988}, {'day': 31, 'month': 5, 'phase': 'Full Moon', 'time': '10:54', 'year': 1988}, {'day': 7, 'month': 6, 'phase': 'Last Quarter', 'time': '06:22', 'year': 1988}, {'day': 14, 'month': 6, 'phase': 'New Moon', 'time': '09:14', 'year': 1988}, {'day': 22, 'month': 6, 'phase': 'First Quarter', 'time': '10:23', 'year': 1988}, {'day': 29, 'month': 6, 'phase': 'Full Moon', 'time': '19:46', 'year': 1988}, {'day': 6, 'month': 7, 'phase': 'Last Quarter', 'time': '11:36', 'year': 1988}, {'day': 13, 'month': 7, 'phase': 'New Moon', 'time': '21:53', 'year': 1988}, {'day': 22, 'month': 7, 'phase': 'First Quarter', 'time': '02:14', 'year': 1988}, {'day': 29, 'month': 7, 'phase': 'Full Moon', 'time': '03:25', 'year': 1988}, {'day': 4, 'month': 8, 'phase': 'Last Quarter', 'time': '18:22', 'year': 1988}, {'day': 12, 'month': 8, 'phase': 'New Moon', 'time': '12:31', 'year': 1988}, {'day': 20, 'month': 8, 'phase': 'First Quarter', 'time': '15:51', 'year': 1988}, {'day': 27, 'month': 8, 'phase': 'Full Moon', 'time': '10:56', 'year': 1988}, {'day': 3, 'month': 9, 'phase': 'Last Quarter', 'time': '03:50', 'year': 1988}, {'day': 11, 'month': 9, 'phase': 'New Moon', 'time': '04:49', 'year': 1988}, {'day': 19, 'month': 9, 'phase': 'First Quarter', 'time': '03:18', 'year': 1988}, {'day': 25, 'month': 9, 'phase': 'Full Moon', 'time': '19:07', 'year': 1988}, {'day': 2, 'month': 10, 'phase': 'Last Quarter', 'time': '16:59', 'year': 1988}, {'day': 10, 'month': 10, 'phase': 'New Moon', 'time': '21:49', 'year': 1988}, {'day': 18, 'month': 10, 'phase': 'First Quarter', 'time': '13:01', 'year': 1988}, {'day': 25, 'month': 10, 'phase': 'Full Moon', 'time': '04:36', 'year': 1988}, {'day': 1, 'month': 11, 'phase': 'Last Quarter', 'time': '10:12', 'year': 1988}, {'day': 9, 'month': 11, 'phase': 'New Moon', 'time': '14:20', 'year': 1988}, {'day': 16, 'month': 11, 'phase': 'First Quarter', 'time': '21:35', 'year': 1988}, {'day': 23, 'month': 11, 'phase': 'Full Moon', 'time': '15:53', 'year': 1988}, {'day': 1, 'month': 12, 'phase': 'Last Quarter', 'time': '06:49', 'year': 1988}, {'day': 9, 'month': 12, 'phase': 'New Moon', 'time': '05:36', 'year': 1988}, {'day': 16, 'month': 12, 'phase': 'First Quarter', 'time': '05:40', 'year': 1988}, {'day': 23, 'month': 12, 'phase': 'Full Moon', 'time': '05:29', 'year': 1988}, {'day': 31, 'month': 12, 'phase': 'Last Quarter', 'time': '04:57', 'year': 1988}], 'year': 1988}, {'apiversion': '4.0.1', 'numphases': 49, 'phasedata': [{'day': 7, 'month': 1, 'phase': 'New Moon', 'time': '19:22', 'year': 1989}, {'day': 14, 'month': 1, 'phase': 'First Quarter', 'time': '13:58', 'year': 1989}, {'day': 21, 'month': 1, 'phase': 'Full Moon', 'time': '21:34', 'year': 1989}, {'day': 30, 'month': 1, 'phase': 'Last Quarter', 'time': '02:02', 'year': 1989}, {'day': 6, 'month': 2, 'phase': 'New Moon', 'time': '07:37', 'year': 1989}, {'day': 12, 'month': 2, 'phase': 'First Quarter', 'time': '23:15', 'year': 1989}, {'day': 20, 'month': 2, 'phase': 'Full Moon', 'time': '15:32', 'year': 1989}, {'day': 28, 'month': 2, 'phase': 'Last Quarter', 'time': '20:08', 'year': 1989}, {'day': 7, 'month': 3, 'phase': 'New Moon', 'time': '18:19', 'year': 1989}, {'day': 14, 'month': 3, 'phase': 'First Quarter', 'time': '10:11', 'year': 1989}, {'day': 22, 'month': 3, 'phase': 'Full Moon', 'time': '09:58', 'year': 1989}, {'day': 30, 'month': 3, 'phase': 'Last Quarter', 'time': '10:21', 'year': 1989}, {'day': 6, 'month': 4, 'phase': 'New Moon', 'time': '03:33', 'year': 1989}, {'day': 12, 'month': 4, 'phase': 'First Quarter', 'time': '23:13', 'year': 1989}, {'day': 21, 'month': 4, 'phase': 'Full Moon', 'time': '03:13', 'year': 1989}, {'day': 28, 'month': 4, 'phase': 'Last Quarter', 'time': '20:46', 'year': 1989}, {'day': 5, 'month': 5, 'phase': 'New Moon', 'time': '11:46', 'year': 1989}, {'day': 12, 'month': 5, 'phase': 'First Quarter', 'time': '14:20', 'year': 1989}, {'day': 20, 'month': 5, 'phase': 'Full Moon', 'time': '18:16', 'year': 1989}, {'day': 28, 'month': 5, 'phase': 'Last Quarter', 'time': '04:01', 'year': 1989}, {'day': 3, 'month': 6, 'phase': 'New Moon', 'time': '19:53', 'year': 1989}, {'day': 11, 'month': 6, 'phase': 'First Quarter', 'time': '06:59', 'year': 1989}, {'day': 19, 'month': 6, 'phase': 'Full Moon', 'time': '06:57', 'year': 1989}, {'day': 26, 'month': 6, 'phase': 'Last Quarter', 'time': '09:09', 'year': 1989}, {'day': 3, 'month': 7, 'phase': 'New Moon', 'time': '04:59', 'year': 1989}, {'day': 11, 'month': 7, 'phase': 'First Quarter', 'time': '00:19', 'year': 1989}, {'day': 18, 'month': 7, 'phase': 'Full Moon', 'time': '17:42', 'year': 1989}, {'day': 25, 'month': 7, 'phase': 'Last Quarter', 'time': '13:31', 'year': 1989}, {'day': 1, 'month': 8, 'phase': 'New Moon', 'time': '16:06', 'year': 1989}, {'day': 9, 'month': 8, 'phase': 'First Quarter', 'time': '17:29', 'year': 1989}, {'day': 17, 'month': 8, 'phase': 'Full Moon', 'time': '03:07', 'year': 1989}, {'day': 23, 'month': 8, 'phase': 'Last Quarter', 'time': '18:40', 'year': 1989}, {'day': 31, 'month': 8, 'phase': 'New Moon', 'time': '05:45', 'year': 1989}, {'day': 8, 'month': 9, 'phase': 'First Quarter', 'time': '09:49', 'year': 1989}, {'day': 15, 'month': 9, 'phase': 'Full Moon', 'time': '11:51', 'year': 1989}, {'day': 22, 'month': 9, 'phase': 'Last Quarter', 'time': '02:10', 'year': 1989}, {'day': 29, 'month': 9, 'phase': 'New Moon', 'time': '21:47', 'year': 1989}, {'day': 8, 'month': 10, 'phase': 'First Quarter', 'time': '00:52', 'year': 1989}, {'day': 14, 'month': 10, 'phase': 'Full Moon', 'time': '20:32', 'year': 1989}, {'day': 21, 'month': 10, 'phase': 'Last Quarter', 'time': '13:19', 'year': 1989}, {'day': 29, 'month': 10, 'phase': 'New Moon', 'time': '15:27', 'year': 1989}, {'day': 6, 'month': 11, 'phase': 'First Quarter', 'time': '14:11', 'year': 1989}, {'day': 13, 'month': 11, 'phase': 'Full Moon', 'time': '05:51', 'year': 1989}, {'day': 20, 'month': 11, 'phase': 'Last Quarter', 'time': '04:44', 'year': 1989}, {'day': 28, 'month': 11, 'phase': 'New Moon', 'time': '09:41', 'year': 1989}, {'day': 6, 'month': 12, 'phase': 'First Quarter', 'time': '01:26', 'year': 1989}, {'day': 12, 'month': 12, 'phase': 'Full Moon', 'time': '16:30', 'year': 1989}, {'day': 19, 'month': 12, 'phase': 'Last Quarter', 'time': '23:55', 'year': 1989}, {'day': 28, 'month': 12, 'phase': 'New Moon', 'time': '03:20', 'year': 1989}], 'year': 1989}, {'apiversion': '4.0.1', 'numphases': 50, 'phasedata': [{'day': 4, 'month': 1, 'phase': 'First Quarter', 'time': '10:40', 'year': 1990}, {'day': 11, 'month': 1, 'phase': 'Full Moon', 'time': '04:57', 'year': 1990}, {'day': 18, 'month': 1, 'phase': 'Last Quarter', 'time': '21:17', 'year': 1990}, {'day': 26, 'month': 1, 'phase': 'New Moon', 'time': '19:20', 'year': 1990}, {'day': 2, 'month': 2, 'phase': 'First Quarter', 'time': '18:32', 'year': 1990}, {'day': 9, 'month': 2, 'phase': 'Full Moon', 'time': '19:16', 'year': 1990}, {'day': 17, 'month': 2, 'phase': 'Last Quarter', 'time': '18:48', 'year': 1990}, {'day': 25, 'month': 2, 'phase': 'New Moon', 'time': '08:54', 'year': 1990}, {'day': 4, 'month': 3, 'phase': 'First Quarter', 'time': '02:05', 'year': 1990}, {'day': 11, 'month': 3, 'phase': 'Full Moon', 'time': '10:59', 'year': 1990}, {'day': 19, 'month': 3, 'phase': 'Last Quarter', 'time': '14:30', 'year': 1990}, {'day': 26, 'month': 3, 'phase': 'New Moon', 'time': '19:48', 'year': 1990}, {'day': 2, 'month': 4, 'phase': 'First Quarter', 'time': '10:24', 'year': 1990}, {'day': 10, 'month': 4, 'phase': 'Full Moon', 'time': '03:19', 'year': 1990}, {'day': 18, 'month': 4, 'phase': 'Last Quarter', 'time': '07:03', 'year': 1990}, {'day': 25, 'month': 4, 'phase': 'New Moon', 'time': '04:27', 'year': 1990}, {'day': 1, 'month': 5, 'phase': 'First Quarter', 'time': '20:18', 'year': 1990}, {'day': 9, 'month': 5, 'phase': 'Full Moon', 'time': '19:31', 'year': 1990}, {'day': 17, 'month': 5, 'phase': 'Last Quarter', 'time': '19:45', 'year': 1990}, {'day': 24, 'month': 5, 'phase': 'New Moon', 'time': '11:47', 'year': 1990}, {'day': 31, 'month': 5, 'phase': 'First Quarter', 'time': '08:11', 'year': 1990}, {'day': 8, 'month': 6, 'phase': 'Full Moon', 'time': '11:01', 'year': 1990}, {'day': 16, 'month': 6, 'phase': 'Last Quarter', 'time': '04:48', 'year': 1990}, {'day': 22, 'month': 6, 'phase': 'New Moon', 'time': '18:55', 'year': 1990}, {'day': 29, 'month': 6, 'phase': 'First Quarter', 'time': '22:08', 'year': 1990}, {'day': 8, 'month': 7, 'phase': 'Full Moon', 'time': '01:24', 'year': 1990}, {'day': 15, 'month': 7, 'phase': 'Last Quarter', 'time': '11:04', 'year': 1990}, {'day': 22, 'month': 7, 'phase': 'New Moon', 'time': '02:54', 'year': 1990}, {'day': 29, 'month': 7, 'phase': 'First Quarter', 'time': '14:01', 'year': 1990}, {'day': 6, 'month': 8, 'phase': 'Full Moon', 'time': '14:19', 'year': 1990}, {'day': 13, 'month': 8, 'phase': 'Last Quarter', 'time': '15:54', 'year': 1990}, {'day': 20, 'month': 8, 'phase': 'New Moon', 'time': '12:39', 'year': 1990}, {'day': 28, 'month': 8, 'phase': 'First Quarter', 'time': '07:34', 'year': 1990}, {'day': 5, 'month': 9, 'phase': 'Full Moon', 'time': '01:46', 'year': 1990}, {'day': 11, 'month': 9, 'phase': 'Last Quarter', 'time': '20:53', 'year': 1990}, {'day': 19, 'month': 9, 'phase': 'New Moon', 'time': '00:46', 'year': 1990}, {'day': 27, 'month': 9, 'phase': 'First Quarter', 'time': '02:06', 'year': 1990}, {'day': 4, 'month': 10, 'phase': 'Full Moon', 'time': '12:02', 'year': 1990}, {'day': 11, 'month': 10, 'phase': 'Last Quarter', 'time': '03:31', 'year': 1990}, {'day': 18, 'month': 10, 'phase': 'New Moon', 'time': '15:37', 'year': 1990}, {'day': 26, 'month': 10, 'phase': 'First Quarter', 'time': '20:26', 'year': 1990}, {'day': 2, 'month': 11, 'phase': 'Full Moon', 'time': '21:48', 'year': 1990}, {'day': 9, 'month': 11, 'phase': 'Last Quarter', 'time': '13:02', 'year': 1990}, {'day': 17, 'month': 11, 'phase': 'New Moon', 'time': '09:05', 'year': 1990}, {'day': 25, 'month': 11, 'phase': 'First Quarter', 'time': '13:12', 'year': 1990}, {'day': 2, 'month': 12, 'phase': 'Full Moon', 'time': '07:50', 'year': 1990}, {'day': 9, 'month': 12, 'phase': 'Last Quarter', 'time': '02:04', 'year': 1990}, {'day': 17, 'month': 12, 'phase': 'New Moon', 'time': '04:22', 'year': 1990}, {'day': 25, 'month': 12, 'phase': 'First Quarter', 'time': '03:16', 'year': 1990}, {'day': 31, 'month': 12, 'phase': 'Full Moon', 'time': '18:35', 'year': 1990}], 'year': 1990}, {'apiversion': '4.0.1', 'numphases': 49, 'phasedata': [{'day': 7, 'month': 1, 'phase': 'Last Quarter', 'time': '18:36', 'year': 1991}, {'day': 15, 'month': 1, 'phase': 'New Moon', 'time': '23:50', 'year': 1991}, {'day': 23, 'month': 1, 'phase': 'First Quarter', 'time': '14:22', 'year': 1991}, {'day': 30, 'month': 1, 'phase': 'Full Moon', 'time': '06:10', 'year': 1991}, {'day': 6, 'month': 2, 'phase': 'Last Quarter', 'time': '13:52', 'year': 1991}, {'day': 14, 'month': 2, 'phase': 'New Moon', 'time': '17:32', 'year': 1991}, {'day': 21, 'month': 2, 'phase': 'First Quarter', 'time': '22:58', 'year': 1991}, {'day': 28, 'month': 2, 'phase': 'Full Moon', 'time': '18:25', 'year': 1991}, {'day': 8, 'month': 3, 'phase': 'Last Quarter', 'time': '10:32', 'year': 1991}, {'day': 16, 'month': 3, 'phase': 'New Moon', 'time': '08:11', 'year': 1991}, {'day': 23, 'month': 3, 'phase': 'First Quarter', 'time': '06:03', 'year': 1991}, {'day': 30, 'month': 3, 'phase': 'Full Moon', 'time': '07:17', 'year': 1991}, {'day': 7, 'month': 4, 'phase': 'Last Quarter', 'time': '06:45', 'year': 1991}, {'day': 14, 'month': 4, 'phase': 'New Moon', 'time': '19:38', 'year': 1991}, {'day': 21, 'month': 4, 'phase': 'First Quarter', 'time': '12:39', 'year': 1991}, {'day': 28, 'month': 4, 'phase': 'Full Moon', 'time': '20:59', 'year': 1991}, {'day': 7, 'month': 5, 'phase': 'Last Quarter', 'time': '00:46', 'year': 1991}, {'day': 14, 'month': 5, 'phase': 'New Moon', 'time': '04:36', 'year': 1991}, {'day': 20, 'month': 5, 'phase': 'First Quarter', 'time': '19:46', 'year': 1991}, {'day': 28, 'month': 5, 'phase': 'Full Moon', 'time': '11:37', 'year': 1991}, {'day': 5, 'month': 6, 'phase': 'Last Quarter', 'time': '15:30', 'year': 1991}, {'day': 12, 'month': 6, 'phase': 'New Moon', 'time': '12:06', 'year': 1991}, {'day': 19, 'month': 6, 'phase': 'First Quarter', 'time': '04:19', 'year': 1991}, {'day': 27, 'month': 6, 'phase': 'Full Moon', 'time': '02:58', 'year': 1991}, {'day': 5, 'month': 7, 'phase': 'Last Quarter', 'time': '02:50', 'year': 1991}, {'day': 11, 'month': 7, 'phase': 'New Moon', 'time': '19:06', 'year': 1991}, {'day': 18, 'month': 7, 'phase': 'First Quarter', 'time': '15:11', 'year': 1991}, {'day': 26, 'month': 7, 'phase': 'Full Moon', 'time': '18:24', 'year': 1991}, {'day': 3, 'month': 8, 'phase': 'Last Quarter', 'time': '11:26', 'year': 1991}, {'day': 10, 'month': 8, 'phase': 'New Moon', 'time': '02:28', 'year': 1991}, {'day': 17, 'month': 8, 'phase': 'First Quarter', 'time': '05:01', 'year': 1991}, {'day': 25, 'month': 8, 'phase': 'Full Moon', 'time': '09:07', 'year': 1991}, {'day': 1, 'month': 9, 'phase': 'Last Quarter', 'time': '18:16', 'year': 1991}, {'day': 8, 'month': 9, 'phase': 'New Moon', 'time': '11:01', 'year': 1991}, {'day': 15, 'month': 9, 'phase': 'First Quarter', 'time': '22:01', 'year': 1991}, {'day': 23, 'month': 9, 'phase': 'Full Moon', 'time': '22:40', 'year': 1991}, {'day': 1, 'month': 10, 'phase': 'Last Quarter', 'time': '00:30', 'year': 1991}, {'day': 7, 'month': 10, 'phase': 'New Moon', 'time': '21:39', 'year': 1991}, {'day': 15, 'month': 10, 'phase': 'First Quarter', 'time': '17:33', 'year': 1991}, {'day': 23, 'month': 10, 'phase': 'Full Moon', 'time': '11:08', 'year': 1991}, {'day': 30, 'month': 10, 'phase': 'Last Quarter', 'time': '07:11', 'year': 1991}, {'day': 6, 'month': 11, 'phase': 'New Moon', 'time': '11:11', 'year': 1991}, {'day': 14, 'month': 11, 'phase': 'First Quarter', 'time': '14:02', 'year': 1991}, {'day': 21, 'month': 11, 'phase': 'Full Moon', 'time': '22:56', 'year': 1991}, {'day': 28, 'month': 11, 'phase': 'Last Quarter', 'time': '15:21', 'year': 1991}, {'day': 6, 'month': 12, 'phase': 'New Moon', 'time': '03:56', 'year': 1991}, {'day': 14, 'month': 12, 'phase': 'First Quarter', 'time': '09:32', 'year': 1991}, {'day': 21, 'month': 12, 'phase': 'Full Moon', 'time': '10:23', 'year': 1991}, {'day': 28, 'month': 12, 'phase': 'Last Quarter', 'time': '01:55', 'year': 1991}], 'year': 1991}, {'apiversion': '4.0.1', 'numphases': 49, 'phasedata': [{'day': 4, 'month': 1, 'phase': 'New Moon', 'time': '23:10', 'year': 1992}, {'day': 13, 'month': 1, 'phase': 'First Quarter', 'time': '02:32', 'year': 1992}, {'day': 19, 'month': 1, 'phase': 'Full Moon', 'time': '21:29', 'year': 1992}, {'day': 26, 'month': 1, 'phase': 'Last Quarter', 'time': '15:27', 'year': 1992}, {'day': 3, 'month': 2, 'phase': 'New Moon', 'time': '19:00', 'year': 1992}, {'day': 11, 'month': 2, 'phase': 'First Quarter', 'time': '16:15', 'year': 1992}, {'day': 18, 'month': 2, 'phase': 'Full Moon', 'time': '08:04', 'year': 1992}, {'day': 25, 'month': 2, 'phase': 'Last Quarter', 'time': '07:56', 'year': 1992}, {'day': 4, 'month': 3, 'phase': 'New Moon', 'time': '13:22', 'year': 1992}, {'day': 12, 'month': 3, 'phase': 'First Quarter', 'time': '02:36', 'year': 1992}, {'day': 18, 'month': 3, 'phase': 'Full Moon', 'time': '18:18', 'year': 1992}, {'day': 26, 'month': 3, 'phase': 'Last Quarter', 'time': '02:30', 'year': 1992}, {'day': 3, 'month': 4, 'phase': 'New Moon', 'time': '05:01', 'year': 1992}, {'day': 10, 'month': 4, 'phase': 'First Quarter', 'time': '10:06', 'year': 1992}, {'day': 17, 'month': 4, 'phase': 'Full Moon', 'time': '04:42', 'year': 1992}, {'day': 24, 'month': 4, 'phase': 'Last Quarter', 'time': '21:40', 'year': 1992}, {'day': 2, 'month': 5, 'phase': 'New Moon', 'time': '17:44', 'year': 1992}, {'day': 9, 'month': 5, 'phase': 'First Quarter', 'time': '15:44', 'year': 1992}, {'day': 16, 'month': 5, 'phase': 'Full Moon', 'time': '16:03', 'year': 1992}, {'day': 24, 'month': 5, 'phase': 'Last Quarter', 'time': '15:53', 'year': 1992}, {'day': 1, 'month': 6, 'phase': 'New Moon', 'time': '03:57', 'year': 1992}, {'day': 7, 'month': 6, 'phase': 'First Quarter', 'time': '20:47', 'year': 1992}, {'day': 15, 'month': 6, 'phase': 'Full Moon', 'time': '04:50', 'year': 1992}, {'day': 23, 'month': 6, 'phase': 'Last Quarter', 'time': '08:11', 'year': 1992}, {'day': 30, 'month': 6, 'phase': 'New Moon', 'time': '12:18', 'year': 1992}, {'day': 7, 'month': 7, 'phase': 'First Quarter', 'time': '02:43', 'year': 1992}, {'day': 14, 'month': 7, 'phase': 'Full Moon', 'time': '19:06', 'year': 1992}, {'day': 22, 'month': 7, 'phase': 'Last Quarter', 'time': '22:12', 'year': 1992}, {'day': 29, 'month': 7, 'phase': 'New Moon', 'time': '19:35', 'year': 1992}, {'day': 5, 'month': 8, 'phase': 'First Quarter', 'time': '10:59', 'year': 1992}, {'day': 13, 'month': 8, 'phase': 'Full Moon', 'time': '10:27', 'year': 1992}, {'day': 21, 'month': 8, 'phase': 'Last Quarter', 'time': '10:01', 'year': 1992}, {'day': 28, 'month': 8, 'phase': 'New Moon', 'time': '02:42', 'year': 1992}, {'day': 3, 'month': 9, 'phase': 'First Quarter', 'time': '22:39', 'year': 1992}, {'day': 12, 'month': 9, 'phase': 'Full Moon', 'time': '02:17', 'year': 1992}, {'day': 19, 'month': 9, 'phase': 'Last Quarter', 'time': '19:53', 'year': 1992}, {'day': 26, 'month': 9, 'phase': 'New Moon', 'time': '10:40', 'year': 1992}, {'day': 3, 'month': 10, 'phase': 'First Quarter', 'time': '14:12', 'year': 1992}, {'day': 11, 'month': 10, 'phase': 'Full Moon', 'time': '18:03', 'year': 1992}, {'day': 19, 'month': 10, 'phase': 'Last Quarter', 'time': '04:12', 'year': 1992}, {'day': 25, 'month': 10, 'phase': 'New Moon', 'time': '20:34', 'year': 1992}, {'day': 2, 'month': 11, 'phase': 'First Quarter', 'time': '09:11', 'year': 1992}, {'day': 10, 'month': 11, 'phase': 'Full Moon', 'time': '09:20', 'year': 1992}, {'day': 17, 'month': 11, 'phase': 'Last Quarter', 'time': '11:39', 'year': 1992}, {'day': 24, 'month': 11, 'phase': 'New Moon', 'time': '09:11', 'year': 1992}, {'day': 2, 'month': 12, 'phase': 'First Quarter', 'time': '06:17', 'year': 1992}, {'day': 9, 'month': 12, 'phase': 'Full Moon', 'time': '23:41', 'year': 1992}, {'day': 16, 'month': 12, 'phase': 'Last Quarter', 'time': '19:13', 'year': 1992}, {'day': 24, 'month': 12, 'phase': 'New Moon', 'time': '00:43', 'year': 1992}], 'year': 1992}, {'apiversion': '4.0.1', 'numphases': 50, 'phasedata': [{'day': 1, 'month': 1, 'phase': 'First Quarter', 'time': '03:38', 'year': 1993}, {'day': 8, 'month': 1, 'phase': 'Full Moon', 'time': '12:37', 'year': 1993}, {'day': 15, 'month': 1, 'phase': 'Last Quarter', 'time': '04:01', 'year': 1993}, {'day': 22, 'month': 1, 'phase': 'New Moon', 'time': '18:27', 'year': 1993}, {'day': 30, 'month': 1, 'phase': 'First Quarter', 'time': '23:20', 'year': 1993}, {'day': 6, 'month': 2, 'phase': 'Full Moon', 'time': '23:55', 'year': 1993}, {'day': 13, 'month': 2, 'phase': 'Last Quarter', 'time': '14:57', 'year': 1993}, {'day': 21, 'month': 2, 'phase': 'New Moon', 'time': '13:05', 'year': 1993}, {'day': 1, 'month': 3, 'phase': 'First Quarter', 'time': '15:47', 'year': 1993}, {'day': 8, 'month': 3, 'phase': 'Full Moon', 'time': '09:46', 'year': 1993}, {'day': 15, 'month': 3, 'phase': 'Last Quarter', 'time': '04:17', 'year': 1993}, {'day': 23, 'month': 3, 'phase': 'New Moon', 'time': '07:14', 'year': 1993}, {'day': 31, 'month': 3, 'phase': 'First Quarter', 'time': '04:10', 'year': 1993}, {'day': 6, 'month': 4, 'phase': 'Full Moon', 'time': '18:43', 'year': 1993}, {'day': 13, 'month': 4, 'phase': 'Last Quarter', 'time': '19:39', 'year': 1993}, {'day': 21, 'month': 4, 'phase': 'New Moon', 'time': '23:49', 'year': 1993}, {'day': 29, 'month': 4, 'phase': 'First Quarter', 'time': '12:41', 'year': 1993}, {'day': 6, 'month': 5, 'phase': 'Full Moon', 'time': '03:34', 'year': 1993}, {'day': 13, 'month': 5, 'phase': 'Last Quarter', 'time': '12:20', 'year': 1993}, {'day': 21, 'month': 5, 'phase': 'New Moon', 'time': '14:07', 'year': 1993}, {'day': 28, 'month': 5, 'phase': 'First Quarter', 'time': '18:21', 'year': 1993}, {'day': 4, 'month': 6, 'phase': 'Full Moon', 'time': '13:02', 'year': 1993}, {'day': 12, 'month': 6, 'phase': 'Last Quarter', 'time': '05:36', 'year': 1993}, {'day': 20, 'month': 6, 'phase': 'New Moon', 'time': '01:52', 'year': 1993}, {'day': 26, 'month': 6, 'phase': 'First Quarter', 'time': '22:43', 'year': 1993}, {'day': 3, 'month': 7, 'phase': 'Full Moon', 'time': '23:45', 'year': 1993}, {'day': 11, 'month': 7, 'phase': 'Last Quarter', 'time': '22:49', 'year': 1993}, {'day': 19, 'month': 7, 'phase': 'New Moon', 'time': '11:24', 'year': 1993}, {'day': 26, 'month': 7, 'phase': 'First Quarter', 'time': '03:25', 'year': 1993}, {'day': 2, 'month': 8, 'phase': 'Full Moon', 'time': '12:10', 'year': 1993}, {'day': 10, 'month': 8, 'phase': 'Last Quarter', 'time': '15:19', 'year': 1993}, {'day': 17, 'month': 8, 'phase': 'New Moon', 'time': '19:28', 'year': 1993}, {'day': 24, 'month': 8, 'phase': 'First Quarter', 'time': '09:57', 'year': 1993}, {'day': 1, 'month': 9, 'phase': 'Full Moon', 'time': '02:33', 'year': 1993}, {'day': 9, 'month': 9, 'phase': 'Last Quarter', 'time': '06:26', 'year': 1993}, {'day': 16, 'month': 9, 'phase': 'New Moon', 'time': '03:10', 'year': 1993}, {'day': 22, 'month': 9, 'phase': 'First Quarter', 'time': '19:32', 'year': 1993}, {'day': 30, 'month': 9, 'phase': 'Full Moon', 'time': '18:54', 'year': 1993}, {'day': 8, 'month': 10, 'phase': 'Last Quarter', 'time': '19:35', 'year': 1993}, {'day': 15, 'month': 10, 'phase': 'New Moon', 'time': '11:36', 'year': 1993}, {'day': 22, 'month': 10, 'phase': 'First Quarter', 'time': '08:52', 'year': 1993}, {'day': 30, 'month': 10, 'phase': 'Full Moon', 'time': '12:38', 'year': 1993}, {'day': 7, 'month': 11, 'phase': 'Last Quarter', 'time': '06:36', 'year': 1993}, {'day': 13, 'month': 11, 'phase': 'New Moon', 'time': '21:34', 'year': 1993}, {'day': 21, 'month': 11, 'phase': 'First Quarter', 'time': '02:03', 'year': 1993}, {'day': 29, 'month': 11, 'phase': 'Full Moon', 'time': '06:31', 'year': 1993}, {'day': 6, 'month': 12, 'phase': 'Last Quarter', 'time': '15:49', 'year': 1993}, {'day': 13, 'month': 12, 'phase': 'New Moon', 'time': '09:27', 'year': 1993}, {'day': 20, 'month': 12, 'phase': 'First Quarter', 'time': '22:26', 'year': 1993}, {'day': 28, 'month': 12, 'phase': 'Full Moon', 'time': '23:05', 'year': 1993}], 'year': 1993}, {'apiversion': '4.0.1', 'numphases': 49, 'phasedata': [{'day': 5, 'month': 1, 'phase': 'Last Quarter', 'time': '00:01', 'year': 1994}, {'day': 11, 'month': 1, 'phase': 'New Moon', 'time': '23:10', 'year': 1994}, {'day': 19, 'month': 1, 'phase': 'First Quarter', 'time': '20:27', 'year': 1994}, {'day': 27, 'month': 1, 'phase': 'Full Moon', 'time': '13:23', 'year': 1994}, {'day': 3, 'month': 2, 'phase': 'Last Quarter', 'time': '08:06', 'year': 1994}, {'day': 10, 'month': 2, 'phase': 'New Moon', 'time': '14:30', 'year': 1994}, {'day': 18, 'month': 2, 'phase': 'First Quarter', 'time': '17:47', 'year': 1994}, {'day': 26, 'month': 2, 'phase': 'Full Moon', 'time': '01:15', 'year': 1994}, {'day': 4, 'month': 3, 'phase': 'Last Quarter', 'time': '16:53', 'year': 1994}, {'day': 12, 'month': 3, 'phase': 'New Moon', 'time': '07:05', 'year': 1994}, {'day': 20, 'month': 3, 'phase': 'First Quarter', 'time': '12:14', 'year': 1994}, {'day': 27, 'month': 3, 'phase': 'Full Moon', 'time': '11:10', 'year': 1994}, {'day': 3, 'month': 4, 'phase': 'Last Quarter', 'time': '02:55', 'year': 1994}, {'day': 11, 'month': 4, 'phase': 'New Moon', 'time': '00:17', 'year': 1994}, {'day': 19, 'month': 4, 'phase': 'First Quarter', 'time': '02:34', 'year': 1994}, {'day': 25, 'month': 4, 'phase': 'Full Moon', 'time': '19:45', 'year': 1994}, {'day': 2, 'month': 5, 'phase': 'Last Quarter', 'time': '14:32', 'year': 1994}, {'day': 10, 'month': 5, 'phase': 'New Moon', 'time': '17:07', 'year': 1994}, {'day': 18, 'month': 5, 'phase': 'First Quarter', 'time': '12:50', 'year': 1994}, {'day': 25, 'month': 5, 'phase': 'Full Moon', 'time': '03:39', 'year': 1994}, {'day': 1, 'month': 6, 'phase': 'Last Quarter', 'time': '04:02', 'year': 1994}, {'day': 9, 'month': 6, 'phase': 'New Moon', 'time': '08:26', 'year': 1994}, {'day': 16, 'month': 6, 'phase': 'First Quarter', 'time': '19:57', 'year': 1994}, {'day': 23, 'month': 6, 'phase': 'Full Moon', 'time': '11:33', 'year': 1994}, {'day': 30, 'month': 6, 'phase': 'Last Quarter', 'time': '19:31', 'year': 1994}, {'day': 8, 'month': 7, 'phase': 'New Moon', 'time': '21:37', 'year': 1994}, {'day': 16, 'month': 7, 'phase': 'First Quarter', 'time': '01:12', 'year': 1994}, {'day': 22, 'month': 7, 'phase': 'Full Moon', 'time': '20:16', 'year': 1994}, {'day': 30, 'month': 7, 'phase': 'Last Quarter', 'time': '12:40', 'year': 1994}, {'day': 7, 'month': 8, 'phase': 'New Moon', 'time': '08:45', 'year': 1994}, {'day': 14, 'month': 8, 'phase': 'First Quarter', 'time': '05:57', 'year': 1994}, {'day': 21, 'month': 8, 'phase': 'Full Moon', 'time': '06:47', 'year': 1994}, {'day': 29, 'month': 8, 'phase': 'Last Quarter', 'time': '06:41', 'year': 1994}, {'day': 5, 'month': 9, 'phase': 'New Moon', 'time': '18:33', 'year': 1994}, {'day': 12, 'month': 9, 'phase': 'First Quarter', 'time': '11:34', 'year': 1994}, {'day': 19, 'month': 9, 'phase': 'Full Moon', 'time': '20:01', 'year': 1994}, {'day': 28, 'month': 9, 'phase': 'Last Quarter', 'time': '00:23', 'year': 1994}, {'day': 5, 'month': 10, 'phase': 'New Moon', 'time': '03:55', 'year': 1994}, {'day': 11, 'month': 10, 'phase': 'First Quarter', 'time': '19:17', 'year': 1994}, {'day': 19, 'month': 10, 'phase': 'Full Moon', 'time': '12:18', 'year': 1994}, {'day': 27, 'month': 10, 'phase': 'Last Quarter', 'time': '16:44', 'year': 1994}, {'day': 3, 'month': 11, 'phase': 'New Moon', 'time': '13:36', 'year': 1994}, {'day': 10, 'month': 11, 'phase': 'First Quarter', 'time': '06:14', 'year': 1994}, {'day': 18, 'month': 11, 'phase': 'Full Moon', 'time': '06:57', 'year': 1994}, {'day': 26, 'month': 11, 'phase': 'Last Quarter', 'time': '07:04', 'year': 1994}, {'day': 2, 'month': 12, 'phase': 'New Moon', 'time': '23:54', 'year': 1994}, {'day': 9, 'month': 12, 'phase': 'First Quarter', 'time': '21:06', 'year': 1994}, {'day': 18, 'month': 12, 'phase': 'Full Moon', 'time': '02:17', 'year': 1994}, {'day': 25, 'month': 12, 'phase': 'Last Quarter', 'time': '19:06', 'year': 1994}], 'year': 1994}, {'apiversion': '4.0.1', 'numphases': 50, 'phasedata': [{'day': 1, 'month': 1, 'phase': 'New Moon', 'time': '10:56', 'year': 1995}, {'day': 8, 'month': 1, 'phase': 'First Quarter', 'time': '15:46', 'year': 1995}, {'day': 16, 'month': 1, 'phase': 'Full Moon', 'time': '20:26', 'year': 1995}, {'day': 24, 'month': 1, 'phase': 'Last Quarter', 'time': '04:58', 'year': 1995}, {'day': 30, 'month': 1, 'phase': 'New Moon', 'time': '22:48', 'year': 1995}, {'day': 7, 'month': 2, 'phase': 'First Quarter', 'time': '12:54', 'year': 1995}, {'day': 15, 'month': 2, 'phase': 'Full Moon', 'time': '12:15', 'year': 1995}, {'day': 22, 'month': 2, 'phase': 'Last Quarter', 'time': '13:04', 'year': 1995}, {'day': 1, 'month': 3, 'phase': 'New Moon', 'time': '11:48', 'year': 1995}, {'day': 9, 'month': 3, 'phase': 'First Quarter', 'time': '10:14', 'year': 1995}, {'day': 17, 'month': 3, 'phase': 'Full Moon', 'time': '01:26', 'year': 1995}, {'day': 23, 'month': 3, 'phase': 'Last Quarter', 'time': '20:10', 'year': 1995}, {'day': 31, 'month': 3, 'phase': 'New Moon', 'time': '02:09', 'year': 1995}, {'day': 8, 'month': 4, 'phase': 'First Quarter', 'time': '05:35', 'year': 1995}, {'day': 15, 'month': 4, 'phase': 'Full Moon', 'time': '12:08', 'year': 1995}, {'day': 22, 'month': 4, 'phase': 'Last Quarter', 'time': '03:18', 'year': 1995}, {'day': 29, 'month': 4, 'phase': 'New Moon', 'time': '17:36', 'year': 1995}, {'day': 7, 'month': 5, 'phase': 'First Quarter', 'time': '21:44', 'year': 1995}, {'day': 14, 'month': 5, 'phase': 'Full Moon', 'time': '20:48', 'year': 1995}, {'day': 21, 'month': 5, 'phase': 'Last Quarter', 'time': '11:36', 'year': 1995}, {'day': 29, 'month': 5, 'phase': 'New Moon', 'time': '09:27', 'year': 1995}, {'day': 6, 'month': 6, 'phase': 'First Quarter', 'time': '10:26', 'year': 1995}, {'day': 13, 'month': 6, 'phase': 'Full Moon', 'time': '04:04', 'year': 1995}, {'day': 19, 'month': 6, 'phase': 'Last Quarter', 'time': '22:01', 'year': 1995}, {'day': 28, 'month': 6, 'phase': 'New Moon', 'time': '00:50', 'year': 1995}, {'day': 5, 'month': 7, 'phase': 'First Quarter', 'time': '20:02', 'year': 1995}, {'day': 12, 'month': 7, 'phase': 'Full Moon', 'time': '10:49', 'year': 1995}, {'day': 19, 'month': 7, 'phase': 'Last Quarter', 'time': '11:10', 'year': 1995}, {'day': 27, 'month': 7, 'phase': 'New Moon', 'time': '15:13', 'year': 1995}, {'day': 4, 'month': 8, 'phase': 'First Quarter', 'time': '03:16', 'year': 1995}, {'day': 10, 'month': 8, 'phase': 'Full Moon', 'time': '18:16', 'year': 1995}, {'day': 18, 'month': 8, 'phase': 'Last Quarter', 'time': '03:04', 'year': 1995}, {'day': 26, 'month': 8, 'phase': 'New Moon', 'time': '04:31', 'year': 1995}, {'day': 2, 'month': 9, 'phase': 'First Quarter', 'time': '09:03', 'year': 1995}, {'day': 9, 'month': 9, 'phase': 'Full Moon', 'time': '03:37', 'year': 1995}, {'day': 16, 'month': 9, 'phase': 'Last Quarter', 'time': '21:09', 'year': 1995}, {'day': 24, 'month': 9, 'phase': 'New Moon', 'time': '16:55', 'year': 1995}, {'day': 1, 'month': 10, 'phase': 'First Quarter', 'time': '14:36', 'year': 1995}, {'day': 8, 'month': 10, 'phase': 'Full Moon', 'time': '15:52', 'year': 1995}, {'day': 16, 'month': 10, 'phase': 'Last Quarter', 'time': '16:26', 'year': 1995}, {'day': 24, 'month': 10, 'phase': 'New Moon', 'time': '04:36', 'year': 1995}, {'day': 30, 'month': 10, 'phase': 'First Quarter', 'time': '21:17', 'year': 1995}, {'day': 7, 'month': 11, 'phase': 'Full Moon', 'time': '07:21', 'year': 1995}, {'day': 15, 'month': 11, 'phase': 'Last Quarter', 'time': '11:40', 'year': 1995}, {'day': 22, 'month': 11, 'phase': 'New Moon', 'time': '15:43', 'year': 1995}, {'day': 29, 'month': 11, 'phase': 'First Quarter', 'time': '06:28', 'year': 1995}, {'day': 7, 'month': 12, 'phase': 'Full Moon', 'time': '01:27', 'year': 1995}, {'day': 15, 'month': 12, 'phase': 'Last Quarter', 'time': '05:31', 'year': 1995}, {'day': 22, 'month': 12, 'phase': 'New Moon', 'time': '02:22', 'year': 1995}, {'day': 28, 'month': 12, 'phase': 'First Quarter', 'time': '19:06', 'year': 1995}], 'year': 1995}, {'apiversion': '4.0.1', 'numphases': 49, 'phasedata': [{'day': 5, 'month': 1, 'phase': 'Full Moon', 'time': '20:51', 'year': 1996}, {'day': 13, 'month': 1, 'phase': 'Last Quarter', 'time': '20:45', 'year': 1996}, {'day': 20, 'month': 1, 'phase': 'New Moon', 'time': '12:50', 'year': 1996}, {'day': 27, 'month': 1, 'phase': 'First Quarter', 'time': '11:14', 'year': 1996}, {'day': 4, 'month': 2, 'phase': 'Full Moon', 'time': '15:58', 'year': 1996}, {'day': 12, 'month': 2, 'phase': 'Last Quarter', 'time': '08:37', 'year': 1996}, {'day': 18, 'month': 2, 'phase': 'New Moon', 'time': '23:30', 'year': 1996}, {'day': 26, 'month': 2, 'phase': 'First Quarter', 'time': '05:52', 'year': 1996}, {'day': 5, 'month': 3, 'phase': 'Full Moon', 'time': '09:23', 'year': 1996}, {'day': 12, 'month': 3, 'phase': 'Last Quarter', 'time': '17:15', 'year': 1996}, {'day': 19, 'month': 3, 'phase': 'New Moon', 'time': '10:45', 'year': 1996}, {'day': 27, 'month': 3, 'phase': 'First Quarter', 'time': '01:31', 'year': 1996}, {'day': 4, 'month': 4, 'phase': 'Full Moon', 'time': '00:07', 'year': 1996}, {'day': 10, 'month': 4, 'phase': 'Last Quarter', 'time': '23:36', 'year': 1996}, {'day': 17, 'month': 4, 'phase': 'New Moon', 'time': '22:49', 'year': 1996}, {'day': 25, 'month': 4, 'phase': 'First Quarter', 'time': '20:40', 'year': 1996}, {'day': 3, 'month': 5, 'phase': 'Full Moon', 'time': '11:48', 'year': 1996}, {'day': 10, 'month': 5, 'phase': 'Last Quarter', 'time': '05:04', 'year': 1996}, {'day': 17, 'month': 5, 'phase': 'New Moon', 'time': '11:46', 'year': 1996}, {'day': 25, 'month': 5, 'phase': 'First Quarter', 'time': '14:13', 'year': 1996}, {'day': 1, 'month': 6, 'phase': 'Full Moon', 'time': '20:47', 'year': 1996}, {'day': 8, 'month': 6, 'phase': 'Last Quarter', 'time': '11:06', 'year': 1996}, {'day': 16, 'month': 6, 'phase': 'New Moon', 'time': '01:36', 'year': 1996}, {'day': 24, 'month': 6, 'phase': 'First Quarter', 'time': '05:23', 'year': 1996}, {'day': 1, 'month': 7, 'phase': 'Full Moon', 'time': '03:58', 'year': 1996}, {'day': 7, 'month': 7, 'phase': 'Last Quarter', 'time': '18:55', 'year': 1996}, {'day': 15, 'month': 7, 'phase': 'New Moon', 'time': '16:15', 'year': 1996}, {'day': 23, 'month': 7, 'phase': 'First Quarter', 'time': '17:49', 'year': 1996}, {'day': 30, 'month': 7, 'phase': 'Full Moon', 'time': '10:35', 'year': 1996}, {'day': 6, 'month': 8, 'phase': 'Last Quarter', 'time': '05:25', 'year': 1996}, {'day': 14, 'month': 8, 'phase': 'New Moon', 'time': '07:34', 'year': 1996}, {'day': 22, 'month': 8, 'phase': 'First Quarter', 'time': '03:36', 'year': 1996}, {'day': 28, 'month': 8, 'phase': 'Full Moon', 'time': '17:52', 'year': 1996}, {'day': 4, 'month': 9, 'phase': 'Last Quarter', 'time': '19:06', 'year': 1996}, {'day': 12, 'month': 9, 'phase': 'New Moon', 'time': '23:07', 'year': 1996}, {'day': 20, 'month': 9, 'phase': 'First Quarter', 'time': '11:23', 'year': 1996}, {'day': 27, 'month': 9, 'phase': 'Full Moon', 'time': '02:51', 'year': 1996}, {'day': 4, 'month': 10, 'phase': 'Last Quarter', 'time': '12:04', 'year': 1996}, {'day': 12, 'month': 10, 'phase': 'New Moon', 'time': '14:14', 'year': 1996}, {'day': 19, 'month': 10, 'phase': 'First Quarter', 'time': '18:09', 'year': 1996}, {'day': 26, 'month': 10, 'phase': 'Full Moon', 'time': '14:11', 'year': 1996}, {'day': 3, 'month': 11, 'phase': 'Last Quarter', 'time': '07:50', 'year': 1996}, {'day': 11, 'month': 11, 'phase': 'New Moon', 'time': '04:16', 'year': 1996}, {'day': 18, 'month': 11, 'phase': 'First Quarter', 'time': '01:09', 'year': 1996}, {'day': 25, 'month': 11, 'phase': 'Full Moon', 'time': '04:10', 'year': 1996}, {'day': 3, 'month': 12, 'phase': 'Last Quarter', 'time': '05:06', 'year': 1996}, {'day': 10, 'month': 12, 'phase': 'New Moon', 'time': '16:56', 'year': 1996}, {'day': 17, 'month': 12, 'phase': 'First Quarter', 'time': '09:31', 'year': 1996}, {'day': 24, 'month': 12, 'phase': 'Full Moon', 'time': '20:41', 'year': 1996}], 'year': 1996}, {'apiversion': '4.0.1', 'numphases': 50, 'phasedata': [{'day': 2, 'month': 1, 'phase': 'Last Quarter', 'time': '01:45', 'year': 1997}, {'day': 9, 'month': 1, 'phase': 'New Moon', 'time': '04:26', 'year': 1997}, {'day': 15, 'month': 1, 'phase': 'First Quarter', 'time': '20:02', 'year': 1997}, {'day': 23, 'month': 1, 'phase': 'Full Moon', 'time': '15:11', 'year': 1997}, {'day': 31, 'month': 1, 'phase': 'Last Quarter', 'time': '19:40', 'year': 1997}, {'day': 7, 'month': 2, 'phase': 'New Moon', 'time': '15:06', 'year': 1997}, {'day': 14, 'month': 2, 'phase': 'First Quarter', 'time': '08:58', 'year': 1997}, {'day': 22, 'month': 2, 'phase': 'Full Moon', 'time': '10:27', 'year': 1997}, {'day': 2, 'month': 3, 'phase': 'Last Quarter', 'time': '09:38', 'year': 1997}, {'day': 9, 'month': 3, 'phase': 'New Moon', 'time': '01:15', 'year': 1997}, {'day': 16, 'month': 3, 'phase': 'First Quarter', 'time': '00:06', 'year': 1997}, {'day': 24, 'month': 3, 'phase': 'Full Moon', 'time': '04:45', 'year': 1997}, {'day': 31, 'month': 3, 'phase': 'Last Quarter', 'time': '19:38', 'year': 1997}, {'day': 7, 'month': 4, 'phase': 'New Moon', 'time': '11:02', 'year': 1997}, {'day': 14, 'month': 4, 'phase': 'First Quarter', 'time': '17:00', 'year': 1997}, {'day': 22, 'month': 4, 'phase': 'Full Moon', 'time': '20:34', 'year': 1997}, {'day': 30, 'month': 4, 'phase': 'Last Quarter', 'time': '02:37', 'year': 1997}, {'day': 6, 'month': 5, 'phase': 'New Moon', 'time': '20:47', 'year': 1997}, {'day': 14, 'month': 5, 'phase': 'First Quarter', 'time': '10:55', 'year': 1997}, {'day': 22, 'month': 5, 'phase': 'Full Moon', 'time': '09:13', 'year': 1997}, {'day': 29, 'month': 5, 'phase': 'Last Quarter', 'time': '07:51', 'year': 1997}, {'day': 5, 'month': 6, 'phase': 'New Moon', 'time': '07:04', 'year': 1997}, {'day': 13, 'month': 6, 'phase': 'First Quarter', 'time': '04:52', 'year': 1997}, {'day': 20, 'month': 6, 'phase': 'Full Moon', 'time': '19:09', 'year': 1997}, {'day': 27, 'month': 6, 'phase': 'Last Quarter', 'time': '12:42', 'year': 1997}, {'day': 4, 'month': 7, 'phase': 'New Moon', 'time': '18:40', 'year': 1997}, {'day': 12, 'month': 7, 'phase': 'First Quarter', 'time': '21:44', 'year': 1997}, {'day': 20, 'month': 7, 'phase': 'Full Moon', 'time': '03:20', 'year': 1997}, {'day': 26, 'month': 7, 'phase': 'Last Quarter', 'time': '18:28', 'year': 1997}, {'day': 3, 'month': 8, 'phase': 'New Moon', 'time': '08:14', 'year': 1997}, {'day': 11, 'month': 8, 'phase': 'First Quarter', 'time': '12:42', 'year': 1997}, {'day': 18, 'month': 8, 'phase': 'Full Moon', 'time': '10:55', 'year': 1997}, {'day': 25, 'month': 8, 'phase': 'Last Quarter', 'time': '02:24', 'year': 1997}, {'day': 1, 'month': 9, 'phase': 'New Moon', 'time': '23:52', 'year': 1997}, {'day': 10, 'month': 9, 'phase': 'First Quarter', 'time': '01:31', 'year': 1997}, {'day': 16, 'month': 9, 'phase': 'Full Moon', 'time': '18:51', 'year': 1997}, {'day': 23, 'month': 9, 'phase': 'Last Quarter', 'time': '13:35', 'year': 1997}, {'day': 1, 'month': 10, 'phase': 'New Moon', 'time': '16:52', 'year': 1997}, {'day': 9, 'month': 10, 'phase': 'First Quarter', 'time': '12:22', 'year': 1997}, {'day': 16, 'month': 10, 'phase': 'Full Moon', 'time': '03:46', 'year': 1997}, {'day': 23, 'month': 10, 'phase': 'Last Quarter', 'time': '04:48', 'year': 1997}, {'day': 31, 'month': 10, 'phase': 'New Moon', 'time': '10:01', 'year': 1997}, {'day': 7, 'month': 11, 'phase': 'First Quarter', 'time': '21:43', 'year': 1997}, {'day': 14, 'month': 11, 'phase': 'Full Moon', 'time': '14:12', 'year': 1997}, {'day': 21, 'month': 11, 'phase': 'Last Quarter', 'time': '23:58', 'year': 1997}, {'day': 30, 'month': 11, 'phase': 'New Moon', 'time': '02:14', 'year': 1997}, {'day': 7, 'month': 12, 'phase': 'First Quarter', 'time': '06:09', 'year': 1997}, {'day': 14, 'month': 12, 'phase': 'Full Moon', 'time': '02:37', 'year': 1997}, {'day': 21, 'month': 12, 'phase': 'Last Quarter', 'time': '21:43', 'year': 1997}, {'day': 29, 'month': 12, 'phase': 'New Moon', 'time': '16:57', 'year': 1997}], 'year': 1997}, {'apiversion': '4.0.1', 'numphases': 49, 'phasedata': [{'day': 5, 'month': 1, 'phase': 'First Quarter', 'time': '14:18', 'year': 1998}, {'day': 12, 'month': 1, 'phase': 'Full Moon', 'time': '17:24', 'year': 1998}, {'day': 20, 'month': 1, 'phase': 'Last Quarter', 'time': '19:40', 'year': 1998}, {'day': 28, 'month': 1, 'phase': 'New Moon', 'time': '06:01', 'year': 1998}, {'day': 3, 'month': 2, 'phase': 'First Quarter', 'time': '22:53', 'year': 1998}, {'day': 11, 'month': 2, 'phase': 'Full Moon', 'time': '10:23', 'year': 1998}, {'day': 19, 'month': 2, 'phase': 'Last Quarter', 'time': '15:27', 'year': 1998}, {'day': 26, 'month': 2, 'phase': 'New Moon', 'time': '17:26', 'year': 1998}, {'day': 5, 'month': 3, 'phase': 'First Quarter', 'time': '08:41', 'year': 1998}, {'day': 13, 'month': 3, 'phase': 'Full Moon', 'time': '04:34', 'year': 1998}, {'day': 21, 'month': 3, 'phase': 'Last Quarter', 'time': '07:38', 'year': 1998}, {'day': 28, 'month': 3, 'phase': 'New Moon', 'time': '03:14', 'year': 1998}, {'day': 3, 'month': 4, 'phase': 'First Quarter', 'time': '20:18', 'year': 1998}, {'day': 11, 'month': 4, 'phase': 'Full Moon', 'time': '22:24', 'year': 1998}, {'day': 19, 'month': 4, 'phase': 'Last Quarter', 'time': '19:53', 'year': 1998}, {'day': 26, 'month': 4, 'phase': 'New Moon', 'time': '11:41', 'year': 1998}, {'day': 3, 'month': 5, 'phase': 'First Quarter', 'time': '10:04', 'year': 1998}, {'day': 11, 'month': 5, 'phase': 'Full Moon', 'time': '14:29', 'year': 1998}, {'day': 19, 'month': 5, 'phase': 'Last Quarter', 'time': '04:35', 'year': 1998}, {'day': 25, 'month': 5, 'phase': 'New Moon', 'time': '19:32', 'year': 1998}, {'day': 2, 'month': 6, 'phase': 'First Quarter', 'time': '01:45', 'year': 1998}, {'day': 10, 'month': 6, 'phase': 'Full Moon', 'time': '04:18', 'year': 1998}, {'day': 17, 'month': 6, 'phase': 'Last Quarter', 'time': '10:38', 'year': 1998}, {'day': 24, 'month': 6, 'phase': 'New Moon', 'time': '03:50', 'year': 1998}, {'day': 1, 'month': 7, 'phase': 'First Quarter', 'time': '18:43', 'year': 1998}, {'day': 9, 'month': 7, 'phase': 'Full Moon', 'time': '16:01', 'year': 1998}, {'day': 16, 'month': 7, 'phase': 'Last Quarter', 'time': '15:13', 'year': 1998}, {'day': 23, 'month': 7, 'phase': 'New Moon', 'time': '13:44', 'year': 1998}, {'day': 31, 'month': 7, 'phase': 'First Quarter', 'time': '12:05', 'year': 1998}, {'day': 8, 'month': 8, 'phase': 'Full Moon', 'time': '02:10', 'year': 1998}, {'day': 14, 'month': 8, 'phase': 'Last Quarter', 'time': '19:48', 'year': 1998}, {'day': 22, 'month': 8, 'phase': 'New Moon', 'time': '02:03', 'year': 1998}, {'day': 30, 'month': 8, 'phase': 'First Quarter', 'time': '05:07', 'year': 1998}, {'day': 6, 'month': 9, 'phase': 'Full Moon', 'time': '11:21', 'year': 1998}, {'day': 13, 'month': 9, 'phase': 'Last Quarter', 'time': '01:58', 'year': 1998}, {'day': 20, 'month': 9, 'phase': 'New Moon', 'time': '17:01', 'year': 1998}, {'day': 28, 'month': 9, 'phase': 'First Quarter', 'time': '21:11', 'year': 1998}, {'day': 5, 'month': 10, 'phase': 'Full Moon', 'time': '20:12', 'year': 1998}, {'day': 12, 'month': 10, 'phase': 'Last Quarter', 'time': '11:11', 'year': 1998}, {'day': 20, 'month': 10, 'phase': 'New Moon', 'time': '10:09', 'year': 1998}, {'day': 28, 'month': 10, 'phase': 'First Quarter', 'time': '11:46', 'year': 1998}, {'day': 4, 'month': 11, 'phase': 'Full Moon', 'time': '05:18', 'year': 1998}, {'day': 11, 'month': 11, 'phase': 'Last Quarter', 'time': '00:28', 'year': 1998}, {'day': 19, 'month': 11, 'phase': 'New Moon', 'time': '04:27', 'year': 1998}, {'day': 27, 'month': 11, 'phase': 'First Quarter', 'time': '00:23', 'year': 1998}, {'day': 3, 'month': 12, 'phase': 'Full Moon', 'time': '15:19', 'year': 1998}, {'day': 10, 'month': 12, 'phase': 'Last Quarter', 'time': '17:54', 'year': 1998}, {'day': 18, 'month': 12, 'phase': 'New Moon', 'time': '22:42', 'year': 1998}, {'day': 26, 'month': 12, 'phase': 'First Quarter', 'time': '10:46', 'year': 1998}], 'year': 1998}, {'apiversion': '4.0.1', 'numphases': 50, 'phasedata': [{'day': 2, 'month': 1, 'phase': 'Full Moon', 'time': '02:50', 'year': 1999}, {'day': 9, 'month': 1, 'phase': 'Last Quarter', 'time': '14:22', 'year': 1999}, {'day': 17, 'month': 1, 'phase': 'New Moon', 'time': '15:46', 'year': 1999}, {'day': 24, 'month': 1, 'phase': 'First Quarter', 'time': '19:15', 'year': 1999}, {'day': 31, 'month': 1, 'phase': 'Full Moon', 'time': '16:07', 'year': 1999}, {'day': 8, 'month': 2, 'phase': 'Last Quarter', 'time': '11:58', 'year': 1999}, {'day': 16, 'month': 2, 'phase': 'New Moon', 'time': '06:39', 'year': 1999}, {'day': 23, 'month': 2, 'phase': 'First Quarter', 'time': '02:43', 'year': 1999}, {'day': 2, 'month': 3, 'phase': 'Full Moon', 'time': '06:58', 'year': 1999}, {'day': 10, 'month': 3, 'phase': 'Last Quarter', 'time': '08:40', 'year': 1999}, {'day': 17, 'month': 3, 'phase': 'New Moon', 'time': '18:48', 'year': 1999}, {'day': 24, 'month': 3, 'phase': 'First Quarter', 'time': '10:18', 'year': 1999}, {'day': 31, 'month': 3, 'phase': 'Full Moon', 'time': '22:49', 'year': 1999}, {'day': 9, 'month': 4, 'phase': 'Last Quarter', 'time': '02:51', 'year': 1999}, {'day': 16, 'month': 4, 'phase': 'New Moon', 'time': '04:22', 'year': 1999}, {'day': 22, 'month': 4, 'phase': 'First Quarter', 'time': '19:02', 'year': 1999}, {'day': 30, 'month': 4, 'phase': 'Full Moon', 'time': '14:55', 'year': 1999}, {'day': 8, 'month': 5, 'phase': 'Last Quarter', 'time': '17:29', 'year': 1999}, {'day': 15, 'month': 5, 'phase': 'New Moon', 'time': '12:05', 'year': 1999}, {'day': 22, 'month': 5, 'phase': 'First Quarter', 'time': '05:34', 'year': 1999}, {'day': 30, 'month': 5, 'phase': 'Full Moon', 'time': '06:40', 'year': 1999}, {'day': 7, 'month': 6, 'phase': 'Last Quarter', 'time': '04:20', 'year': 1999}, {'day': 13, 'month': 6, 'phase': 'New Moon', 'time': '19:03', 'year': 1999}, {'day': 20, 'month': 6, 'phase': 'First Quarter', 'time': '18:13', 'year': 1999}, {'day': 28, 'month': 6, 'phase': 'Full Moon', 'time': '21:37', 'year': 1999}, {'day': 6, 'month': 7, 'phase': 'Last Quarter', 'time': '11:57', 'year': 1999}, {'day': 13, 'month': 7, 'phase': 'New Moon', 'time': '02:24', 'year': 1999}, {'day': 20, 'month': 7, 'phase': 'First Quarter', 'time': '09:00', 'year': 1999}, {'day': 28, 'month': 7, 'phase': 'Full Moon', 'time': '11:25', 'year': 1999}, {'day': 4, 'month': 8, 'phase': 'Last Quarter', 'time': '17:27', 'year': 1999}, {'day': 11, 'month': 8, 'phase': 'New Moon', 'time': '11:09', 'year': 1999}, {'day': 19, 'month': 8, 'phase': 'First Quarter', 'time': '01:47', 'year': 1999}, {'day': 26, 'month': 8, 'phase': 'Full Moon', 'time': '23:48', 'year': 1999}, {'day': 2, 'month': 9, 'phase': 'Last Quarter', 'time': '22:17', 'year': 1999}, {'day': 9, 'month': 9, 'phase': 'New Moon', 'time': '22:02', 'year': 1999}, {'day': 17, 'month': 9, 'phase': 'First Quarter', 'time': '20:06', 'year': 1999}, {'day': 25, 'month': 9, 'phase': 'Full Moon', 'time': '10:51', 'year': 1999}, {'day': 2, 'month': 10, 'phase': 'Last Quarter', 'time': '04:02', 'year': 1999}, {'day': 9, 'month': 10, 'phase': 'New Moon', 'time': '11:34', 'year': 1999}, {'day': 17, 'month': 10, 'phase': 'First Quarter', 'time': '15:00', 'year': 1999}, {'day': 24, 'month': 10, 'phase': 'Full Moon', 'time': '21:02', 'year': 1999}, {'day': 31, 'month': 10, 'phase': 'Last Quarter', 'time': '12:04', 'year': 1999}, {'day': 8, 'month': 11, 'phase': 'New Moon', 'time': '03:53', 'year': 1999}, {'day': 16, 'month': 11, 'phase': 'First Quarter', 'time': '09:03', 'year': 1999}, {'day': 23, 'month': 11, 'phase': 'Full Moon', 'time': '07:04', 'year': 1999}, {'day': 29, 'month': 11, 'phase': 'Last Quarter', 'time': '23:19', 'year': 1999}, {'day': 7, 'month': 12, 'phase': 'New Moon', 'time': '22:32', 'year': 1999}, {'day': 16, 'month': 12, 'phase': 'First Quarter', 'time': '00:50', 'year': 1999}, {'day': 22, 'month': 12, 'phase': 'Full Moon', 'time': '17:31', 'year': 1999}, {'day': 29, 'month': 12, 'phase': 'Last Quarter', 'time': '14:04', 'year': 1999}], 'year': 1999}, {'apiversion': '4.0.1', 'numphases': 49, 'phasedata': [{'day': 6, 'month': 1, 'phase': 'New Moon', 'time': '18:14', 'year': 2000}, {'day': 14, 'month': 1, 'phase': 'First Quarter', 'time': '13:34', 'year': 2000}, {'day': 21, 'month': 1, 'phase': 'Full Moon', 'time': '04:40', 'year': 2000}, {'day': 28, 'month': 1, 'phase': 'Last Quarter', 'time': '07:57', 'year': 2000}, {'day': 5, 'month': 2, 'phase': 'New Moon', 'time': '13:03', 'year': 2000}, {'day': 12, 'month': 2, 'phase': 'First Quarter', 'time': '23:21', 'year': 2000}, {'day': 19, 'month': 2, 'phase': 'Full Moon', 'time': '16:27', 'year': 2000}, {'day': 27, 'month': 2, 'phase': 'Last Quarter', 'time': '03:54', 'year': 2000}, {'day': 6, 'month': 3, 'phase': 'New Moon', 'time': '05:17', 'year': 2000}, {'day': 13, 'month': 3, 'phase': 'First Quarter', 'time': '06:59', 'year': 2000}, {'day': 20, 'month': 3, 'phase': 'Full Moon', 'time': '04:44', 'year': 2000}, {'day': 28, 'month': 3, 'phase': 'Last Quarter', 'time': '00:21', 'year': 2000}, {'day': 4, 'month': 4, 'phase': 'New Moon', 'time': '18:12', 'year': 2000}, {'day': 11, 'month': 4, 'phase': 'First Quarter', 'time': '13:30', 'year': 2000}, {'day': 18, 'month': 4, 'phase': 'Full Moon', 'time': '17:42', 'year': 2000}, {'day': 26, 'month': 4, 'phase': 'Last Quarter', 'time': '19:30', 'year': 2000}, {'day': 4, 'month': 5, 'phase': 'New Moon', 'time': '04:12', 'year': 2000}, {'day': 10, 'month': 5, 'phase': 'First Quarter', 'time': '20:01', 'year': 2000}, {'day': 18, 'month': 5, 'phase': 'Full Moon', 'time': '07:34', 'year': 2000}, {'day': 26, 'month': 5, 'phase': 'Last Quarter', 'time': '11:55', 'year': 2000}, {'day': 2, 'month': 6, 'phase': 'New Moon', 'time': '12:14', 'year': 2000}, {'day': 9, 'month': 6, 'phase': 'First Quarter', 'time': '03:29', 'year': 2000}, {'day': 16, 'month': 6, 'phase': 'Full Moon', 'time': '22:27', 'year': 2000}, {'day': 25, 'month': 6, 'phase': 'Last Quarter', 'time': '01:00', 'year': 2000}, {'day': 1, 'month': 7, 'phase': 'New Moon', 'time': '19:20', 'year': 2000}, {'day': 8, 'month': 7, 'phase': 'First Quarter', 'time': '12:53', 'year': 2000}, {'day': 16, 'month': 7, 'phase': 'Full Moon', 'time': '13:55', 'year': 2000}, {'day': 24, 'month': 7, 'phase': 'Last Quarter', 'time': '11:02', 'year': 2000}, {'day': 31, 'month': 7, 'phase': 'New Moon', 'time': '02:25', 'year': 2000}, {'day': 7, 'month': 8, 'phase': 'First Quarter', 'time': '01:02', 'year': 2000}, {'day': 15, 'month': 8, 'phase': 'Full Moon', 'time': '05:13', 'year': 2000}, {'day': 22, 'month': 8, 'phase': 'Last Quarter', 'time': '18:51', 'year': 2000}, {'day': 29, 'month': 8, 'phase': 'New Moon', 'time': '10:19', 'year': 2000}, {'day': 5, 'month': 9, 'phase': 'First Quarter', 'time': '16:27', 'year': 2000}, {'day': 13, 'month': 9, 'phase': 'Full Moon', 'time': '19:37', 'year': 2000}, {'day': 21, 'month': 9, 'phase': 'Last Quarter', 'time': '01:28', 'year': 2000}, {'day': 27, 'month': 9, 'phase': 'New Moon', 'time': '19:53', 'year': 2000}, {'day': 5, 'month': 10, 'phase': 'First Quarter', 'time': '10:59', 'year': 2000}, {'day': 13, 'month': 10, 'phase': 'Full Moon', 'time': '08:53', 'year': 2000}, {'day': 20, 'month': 10, 'phase': 'Last Quarter', 'time': '07:59', 'year': 2000}, {'day': 27, 'month': 10, 'phase': 'New Moon', 'time': '07:58', 'year': 2000}, {'day': 4, 'month': 11, 'phase': 'First Quarter', 'time': '07:27', 'year': 2000}, {'day': 11, 'month': 11, 'phase': 'Full Moon', 'time': '21:15', 'year': 2000}, {'day': 18, 'month': 11, 'phase': 'Last Quarter', 'time': '15:24', 'year': 2000}, {'day': 25, 'month': 11, 'phase': 'New Moon', 'time': '23:11', 'year': 2000}, {'day': 4, 'month': 12, 'phase': 'First Quarter', 'time': '03:55', 'year': 2000}, {'day': 11, 'month': 12, 'phase': 'Full Moon', 'time': '09:03', 'year': 2000}, {'day': 18, 'month': 12, 'phase': 'Last Quarter', 'time': '00:41', 'year': 2000}, {'day': 25, 'month': 12, 'phase': 'New Moon', 'time': '17:22', 'year': 2000}], 'year': 2000}, {'apiversion': '4.0.1', 'numphases': 50, 'phasedata': [{'day': 2, 'month': 1, 'phase': 'First Quarter', 'time': '22:32', 'year': 2001}, {'day': 9, 'month': 1, 'phase': 'Full Moon', 'time': '20:24', 'year': 2001}, {'day': 16, 'month': 1, 'phase': 'Last Quarter', 'time': '12:35', 'year': 2001}, {'day': 24, 'month': 1, 'phase': 'New Moon', 'time': '13:07', 'year': 2001}, {'day': 1, 'month': 2, 'phase': 'First Quarter', 'time': '14:02', 'year': 2001}, {'day': 8, 'month': 2, 'phase': 'Full Moon', 'time': '07:12', 'year': 2001}, {'day': 15, 'month': 2, 'phase': 'Last Quarter', 'time': '03:24', 'year': 2001}, {'day': 23, 'month': 2, 'phase': 'New Moon', 'time': '08:21', 'year': 2001}, {'day': 3, 'month': 3, 'phase': 'First Quarter', 'time': '02:03', 'year': 2001}, {'day': 9, 'month': 3, 'phase': 'Full Moon', 'time': '17:23', 'year': 2001}, {'day': 16, 'month': 3, 'phase': 'Last Quarter', 'time': '20:45', 'year': 2001}, {'day': 25, 'month': 3, 'phase': 'New Moon', 'time': '01:21', 'year': 2001}, {'day': 1, 'month': 4, 'phase': 'First Quarter', 'time': '10:49', 'year': 2001}, {'day': 8, 'month': 4, 'phase': 'Full Moon', 'time': '03:22', 'year': 2001}, {'day': 15, 'month': 4, 'phase': 'Last Quarter', 'time': '15:31', 'year': 2001}, {'day': 23, 'month': 4, 'phase': 'New Moon', 'time': '15:26', 'year': 2001}, {'day': 30, 'month': 4, 'phase': 'First Quarter', 'time': '17:08', 'year': 2001}, {'day': 7, 'month': 5, 'phase': 'Full Moon', 'time': '13:53', 'year': 2001}, {'day': 15, 'month': 5, 'phase': 'Last Quarter', 'time': '10:11', 'year': 2001}, {'day': 23, 'month': 5, 'phase': 'New Moon', 'time': '02:46', 'year': 2001}, {'day': 29, 'month': 5, 'phase': 'First Quarter', 'time': '22:09', 'year': 2001}, {'day': 6, 'month': 6, 'phase': 'Full Moon', 'time': '01:39', 'year': 2001}, {'day': 14, 'month': 6, 'phase': 'Last Quarter', 'time': '03:28', 'year': 2001}, {'day': 21, 'month': 6, 'phase': 'New Moon', 'time': '11:58', 'year': 2001}, {'day': 28, 'month': 6, 'phase': 'First Quarter', 'time': '03:20', 'year': 2001}, {'day': 5, 'month': 7, 'phase': 'Full Moon', 'time': '15:04', 'year': 2001}, {'day': 13, 'month': 7, 'phase': 'Last Quarter', 'time': '18:45', 'year': 2001}, {'day': 20, 'month': 7, 'phase': 'New Moon', 'time': '19:44', 'year': 2001}, {'day': 27, 'month': 7, 'phase': 'First Quarter', 'time': '10:08', 'year': 2001}, {'day': 4, 'month': 8, 'phase': 'Full Moon', 'time': '05:56', 'year': 2001}, {'day': 12, 'month': 8, 'phase': 'Last Quarter', 'time': '07:53', 'year': 2001}, {'day': 19, 'month': 8, 'phase': 'New Moon', 'time': '02:55', 'year': 2001}, {'day': 25, 'month': 8, 'phase': 'First Quarter', 'time': '19:55', 'year': 2001}, {'day': 2, 'month': 9, 'phase': 'Full Moon', 'time': '21:43', 'year': 2001}, {'day': 10, 'month': 9, 'phase': 'Last Quarter', 'time': '19:00', 'year': 2001}, {'day': 17, 'month': 9, 'phase': 'New Moon', 'time': '10:27', 'year': 2001}, {'day': 24, 'month': 9, 'phase': 'First Quarter', 'time': '09:31', 'year': 2001}, {'day': 2, 'month': 10, 'phase': 'Full Moon', 'time': '13:49', 'year': 2001}, {'day': 10, 'month': 10, 'phase': 'Last Quarter', 'time': '04:20', 'year': 2001}, {'day': 16, 'month': 10, 'phase': 'New Moon', 'time': '19:23', 'year': 2001}, {'day': 24, 'month': 10, 'phase': 'First Quarter', 'time': '02:58', 'year': 2001}, {'day': 1, 'month': 11, 'phase': 'Full Moon', 'time': '05:41', 'year': 2001}, {'day': 8, 'month': 11, 'phase': 'Last Quarter', 'time': '12:21', 'year': 2001}, {'day': 15, 'month': 11, 'phase': 'New Moon', 'time': '06:40', 'year': 2001}, {'day': 22, 'month': 11, 'phase': 'First Quarter', 'time': '23:21', 'year': 2001}, {'day': 30, 'month': 11, 'phase': 'Full Moon', 'time': '20:49', 'year': 2001}, {'day': 7, 'month': 12, 'phase': 'Last Quarter', 'time': '19:52', 'year': 2001}, {'day': 14, 'month': 12, 'phase': 'New Moon', 'time': '20:47', 'year': 2001}, {'day': 22, 'month': 12, 'phase': 'First Quarter', 'time': '20:56', 'year': 2001}, {'day': 30, 'month': 12, 'phase': 'Full Moon', 'time': '10:41', 'year': 2001}], 'year': 2001}, {'apiversion': '4.0.1', 'numphases': 49, 'phasedata': [{'day': 6, 'month': 1, 'phase': 'Last Quarter', 'time': '03:55', 'year': 2002}, {'day': 13, 'month': 1, 'phase': 'New Moon', 'time': '13:29', 'year': 2002}, {'day': 21, 'month': 1, 'phase': 'First Quarter', 'time': '17:47', 'year': 2002}, {'day': 28, 'month': 1, 'phase': 'Full Moon', 'time': '22:50', 'year': 2002}, {'day': 4, 'month': 2, 'phase': 'Last Quarter', 'time': '13:33', 'year': 2002}, {'day': 12, 'month': 2, 'phase': 'New Moon', 'time': '07:41', 'year': 2002}, {'day': 20, 'month': 2, 'phase': 'First Quarter', 'time': '12:02', 'year': 2002}, {'day': 27, 'month': 2, 'phase': 'Full Moon', 'time': '09:17', 'year': 2002}, {'day': 6, 'month': 3, 'phase': 'Last Quarter', 'time': '01:25', 'year': 2002}, {'day': 14, 'month': 3, 'phase': 'New Moon', 'time': '02:03', 'year': 2002}, {'day': 22, 'month': 3, 'phase': 'First Quarter', 'time': '02:28', 'year': 2002}, {'day': 28, 'month': 3, 'phase': 'Full Moon', 'time': '18:25', 'year': 2002}, {'day': 4, 'month': 4, 'phase': 'Last Quarter', 'time': '15:29', 'year': 2002}, {'day': 12, 'month': 4, 'phase': 'New Moon', 'time': '19:21', 'year': 2002}, {'day': 20, 'month': 4, 'phase': 'First Quarter', 'time': '12:48', 'year': 2002}, {'day': 27, 'month': 4, 'phase': 'Full Moon', 'time': '03:00', 'year': 2002}, {'day': 4, 'month': 5, 'phase': 'Last Quarter', 'time': '07:16', 'year': 2002}, {'day': 12, 'month': 5, 'phase': 'New Moon', 'time': '10:45', 'year': 2002}, {'day': 19, 'month': 5, 'phase': 'First Quarter', 'time': '19:42', 'year': 2002}, {'day': 26, 'month': 5, 'phase': 'Full Moon', 'time': '11:51', 'year': 2002}, {'day': 3, 'month': 6, 'phase': 'Last Quarter', 'time': '00:05', 'year': 2002}, {'day': 10, 'month': 6, 'phase': 'New Moon', 'time': '23:46', 'year': 2002}, {'day': 18, 'month': 6, 'phase': 'First Quarter', 'time': '00:29', 'year': 2002}, {'day': 24, 'month': 6, 'phase': 'Full Moon', 'time': '21:42', 'year': 2002}, {'day': 2, 'month': 7, 'phase': 'Last Quarter', 'time': '17:19', 'year': 2002}, {'day': 10, 'month': 7, 'phase': 'New Moon', 'time': '10:26', 'year': 2002}, {'day': 17, 'month': 7, 'phase': 'First Quarter', 'time': '04:47', 'year': 2002}, {'day': 24, 'month': 7, 'phase': 'Full Moon', 'time': '09:07', 'year': 2002}, {'day': 1, 'month': 8, 'phase': 'Last Quarter', 'time': '10:22', 'year': 2002}, {'day': 8, 'month': 8, 'phase': 'New Moon', 'time': '19:15', 'year': 2002}, {'day': 15, 'month': 8, 'phase': 'First Quarter', 'time': '10:12', 'year': 2002}, {'day': 22, 'month': 8, 'phase': 'Full Moon', 'time': '22:29', 'year': 2002}, {'day': 31, 'month': 8, 'phase': 'Last Quarter', 'time': '02:31', 'year': 2002}, {'day': 7, 'month': 9, 'phase': 'New Moon', 'time': '03:10', 'year': 2002}, {'day': 13, 'month': 9, 'phase': 'First Quarter', 'time': '18:08', 'year': 2002}, {'day': 21, 'month': 9, 'phase': 'Full Moon', 'time': '13:59', 'year': 2002}, {'day': 29, 'month': 9, 'phase': 'Last Quarter', 'time': '17:03', 'year': 2002}, {'day': 6, 'month': 10, 'phase': 'New Moon', 'time': '11:18', 'year': 2002}, {'day': 13, 'month': 10, 'phase': 'First Quarter', 'time': '05:33', 'year': 2002}, {'day': 21, 'month': 10, 'phase': 'Full Moon', 'time': '07:20', 'year': 2002}, {'day': 29, 'month': 10, 'phase': 'Last Quarter', 'time': '05:28', 'year': 2002}, {'day': 4, 'month': 11, 'phase': 'New Moon', 'time': '20:34', 'year': 2002}, {'day': 11, 'month': 11, 'phase': 'First Quarter', 'time': '20:52', 'year': 2002}, {'day': 20, 'month': 11, 'phase': 'Full Moon', 'time': '01:34', 'year': 2002}, {'day': 27, 'month': 11, 'phase': 'Last Quarter', 'time': '15:46', 'year': 2002}, {'day': 4, 'month': 12, 'phase': 'New Moon', 'time': '07:34', 'year': 2002}, {'day': 11, 'month': 12, 'phase': 'First Quarter', 'time': '15:49', 'year': 2002}, {'day': 19, 'month': 12, 'phase': 'Full Moon', 'time': '19:10', 'year': 2002}, {'day': 27, 'month': 12, 'phase': 'Last Quarter', 'time': '00:31', 'year': 2002}], 'year': 2002}, {'apiversion': '4.0.1', 'numphases': 50, 'phasedata': [{'day': 2, 'month': 1, 'phase': 'New Moon', 'time': '20:23', 'year': 2003}, {'day': 10, 'month': 1, 'phase': 'First Quarter', 'time': '13:15', 'year': 2003}, {'day': 18, 'month': 1, 'phase': 'Full Moon', 'time': '10:48', 'year': 2003}, {'day': 25, 'month': 1, 'phase': 'Last Quarter', 'time': '08:33', 'year': 2003}, {'day': 1, 'month': 2, 'phase': 'New Moon', 'time': '10:48', 'year': 2003}, {'day': 9, 'month': 2, 'phase': 'First Quarter', 'time': '11:11', 'year': 2003}, {'day': 16, 'month': 2, 'phase': 'Full Moon', 'time': '23:51', 'year': 2003}, {'day': 23, 'month': 2, 'phase': 'Last Quarter', 'time': '16:46', 'year': 2003}, {'day': 3, 'month': 3, 'phase': 'New Moon', 'time': '02:35', 'year': 2003}, {'day': 11, 'month': 3, 'phase': 'First Quarter', 'time': '07:15', 'year': 2003}, {'day': 18, 'month': 3, 'phase': 'Full Moon', 'time': '10:35', 'year': 2003}, {'day': 25, 'month': 3, 'phase': 'Last Quarter', 'time': '01:51', 'year': 2003}, {'day': 1, 'month': 4, 'phase': 'New Moon', 'time': '19:19', 'year': 2003}, {'day': 9, 'month': 4, 'phase': 'First Quarter', 'time': '23:40', 'year': 2003}, {'day': 16, 'month': 4, 'phase': 'Full Moon', 'time': '19:36', 'year': 2003}, {'day': 23, 'month': 4, 'phase': 'Last Quarter', 'time': '12:18', 'year': 2003}, {'day': 1, 'month': 5, 'phase': 'New Moon', 'time': '12:15', 'year': 2003}, {'day': 9, 'month': 5, 'phase': 'First Quarter', 'time': '11:53', 'year': 2003}, {'day': 16, 'month': 5, 'phase': 'Full Moon', 'time': '03:36', 'year': 2003}, {'day': 23, 'month': 5, 'phase': 'Last Quarter', 'time': '00:31', 'year': 2003}, {'day': 31, 'month': 5, 'phase': 'New Moon', 'time': '04:20', 'year': 2003}, {'day': 7, 'month': 6, 'phase': 'First Quarter', 'time': '20:28', 'year': 2003}, {'day': 14, 'month': 6, 'phase': 'Full Moon', 'time': '11:16', 'year': 2003}, {'day': 21, 'month': 6, 'phase': 'Last Quarter', 'time': '14:45', 'year': 2003}, {'day': 29, 'month': 6, 'phase': 'New Moon', 'time': '18:39', 'year': 2003}, {'day': 7, 'month': 7, 'phase': 'First Quarter', 'time': '02:32', 'year': 2003}, {'day': 13, 'month': 7, 'phase': 'Full Moon', 'time': '19:21', 'year': 2003}, {'day': 21, 'month': 7, 'phase': 'Last Quarter', 'time': '07:01', 'year': 2003}, {'day': 29, 'month': 7, 'phase': 'New Moon', 'time': '06:53', 'year': 2003}, {'day': 5, 'month': 8, 'phase': 'First Quarter', 'time': '07:28', 'year': 2003}, {'day': 12, 'month': 8, 'phase': 'Full Moon', 'time': '04:48', 'year': 2003}, {'day': 20, 'month': 8, 'phase': 'Last Quarter', 'time': '00:48', 'year': 2003}, {'day': 27, 'month': 8, 'phase': 'New Moon', 'time': '17:26', 'year': 2003}, {'day': 3, 'month': 9, 'phase': 'First Quarter', 'time': '12:34', 'year': 2003}, {'day': 10, 'month': 9, 'phase': 'Full Moon', 'time': '16:36', 'year': 2003}, {'day': 18, 'month': 9, 'phase': 'Last Quarter', 'time': '19:03', 'year': 2003}, {'day': 26, 'month': 9, 'phase': 'New Moon', 'time': '03:09', 'year': 2003}, {'day': 2, 'month': 10, 'phase': 'First Quarter', 'time': '19:09', 'year': 2003}, {'day': 10, 'month': 10, 'phase': 'Full Moon', 'time': '07:27', 'year': 2003}, {'day': 18, 'month': 10, 'phase': 'Last Quarter', 'time': '12:31', 'year': 2003}, {'day': 25, 'month': 10, 'phase': 'New Moon', 'time': '12:50', 'year': 2003}, {'day': 1, 'month': 11, 'phase': 'First Quarter', 'time': '04:25', 'year': 2003}, {'day': 9, 'month': 11, 'phase': 'Full Moon', 'time': '01:13', 'year': 2003}, {'day': 17, 'month': 11, 'phase': 'Last Quarter', 'time': '04:15', 'year': 2003}, {'day': 23, 'month': 11, 'phase': 'New Moon', 'time': '22:59', 'year': 2003}, {'day': 30, 'month': 11, 'phase': 'First Quarter', 'time': '17:16', 'year': 2003}, {'day': 8, 'month': 12, 'phase': 'Full Moon', 'time': '20:37', 'year': 2003}, {'day': 16, 'month': 12, 'phase': 'Last Quarter', 'time': '17:42', 'year': 2003}, {'day': 23, 'month': 12, 'phase': 'New Moon', 'time': '09:43', 'year': 2003}, {'day': 30, 'month': 12, 'phase': 'First Quarter', 'time': '10:03', 'year': 2003}], 'year': 2003}, {'apiversion': '4.0.1', 'numphases': 49, 'phasedata': [{'day': 7, 'month': 1, 'phase': 'Full Moon', 'time': '15:40', 'year': 2004}, {'day': 15, 'month': 1, 'phase': 'Last Quarter', 'time': '04:46', 'year': 2004}, {'day': 21, 'month': 1, 'phase': 'New Moon', 'time': '21:05', 'year': 2004}, {'day': 29, 'month': 1, 'phase': 'First Quarter', 'time': '06:03', 'year': 2004}, {'day': 6, 'month': 2, 'phase': 'Full Moon', 'time': '08:47', 'year': 2004}, {'day': 13, 'month': 2, 'phase': 'Last Quarter', 'time': '13:40', 'year': 2004}, {'day': 20, 'month': 2, 'phase': 'New Moon', 'time': '09:18', 'year': 2004}, {'day': 28, 'month': 2, 'phase': 'First Quarter', 'time': '03:24', 'year': 2004}, {'day': 6, 'month': 3, 'phase': 'Full Moon', 'time': '23:14', 'year': 2004}, {'day': 13, 'month': 3, 'phase': 'Last Quarter', 'time': '21:01', 'year': 2004}, {'day': 20, 'month': 3, 'phase': 'New Moon', 'time': '22:41', 'year': 2004}, {'day': 28, 'month': 3, 'phase': 'First Quarter', 'time': '23:48', 'year': 2004}, {'day': 5, 'month': 4, 'phase': 'Full Moon', 'time': '11:03', 'year': 2004}, {'day': 12, 'month': 4, 'phase': 'Last Quarter', 'time': '03:46', 'year': 2004}, {'day': 19, 'month': 4, 'phase': 'New Moon', 'time': '13:21', 'year': 2004}, {'day': 27, 'month': 4, 'phase': 'First Quarter', 'time': '17:32', 'year': 2004}, {'day': 4, 'month': 5, 'phase': 'Full Moon', 'time': '20:33', 'year': 2004}, {'day': 11, 'month': 5, 'phase': 'Last Quarter', 'time': '11:04', 'year': 2004}, {'day': 19, 'month': 5, 'phase': 'New Moon', 'time': '04:52', 'year': 2004}, {'day': 27, 'month': 5, 'phase': 'First Quarter', 'time': '07:57', 'year': 2004}, {'day': 3, 'month': 6, 'phase': 'Full Moon', 'time': '04:20', 'year': 2004}, {'day': 9, 'month': 6, 'phase': 'Last Quarter', 'time': '20:02', 'year': 2004}, {'day': 17, 'month': 6, 'phase': 'New Moon', 'time': '20:27', 'year': 2004}, {'day': 25, 'month': 6, 'phase': 'First Quarter', 'time': '19:08', 'year': 2004}, {'day': 2, 'month': 7, 'phase': 'Full Moon', 'time': '11:09', 'year': 2004}, {'day': 9, 'month': 7, 'phase': 'Last Quarter', 'time': '07:34', 'year': 2004}, {'day': 17, 'month': 7, 'phase': 'New Moon', 'time': '11:24', 'year': 2004}, {'day': 25, 'month': 7, 'phase': 'First Quarter', 'time': '03:37', 'year': 2004}, {'day': 31, 'month': 7, 'phase': 'Full Moon', 'time': '18:05', 'year': 2004}, {'day': 7, 'month': 8, 'phase': 'Last Quarter', 'time': '22:01', 'year': 2004}, {'day': 16, 'month': 8, 'phase': 'New Moon', 'time': '01:24', 'year': 2004}, {'day': 23, 'month': 8, 'phase': 'First Quarter', 'time': '10:12', 'year': 2004}, {'day': 30, 'month': 8, 'phase': 'Full Moon', 'time': '02:22', 'year': 2004}, {'day': 6, 'month': 9, 'phase': 'Last Quarter', 'time': '15:11', 'year': 2004}, {'day': 14, 'month': 9, 'phase': 'New Moon', 'time': '14:29', 'year': 2004}, {'day': 21, 'month': 9, 'phase': 'First Quarter', 'time': '15:54', 'year': 2004}, {'day': 28, 'month': 9, 'phase': 'Full Moon', 'time': '13:09', 'year': 2004}, {'day': 6, 'month': 10, 'phase': 'Last Quarter', 'time': '10:12', 'year': 2004}, {'day': 14, 'month': 10, 'phase': 'New Moon', 'time': '02:48', 'year': 2004}, {'day': 20, 'month': 10, 'phase': 'First Quarter', 'time': '21:59', 'year': 2004}, {'day': 28, 'month': 10, 'phase': 'Full Moon', 'time': '03:07', 'year': 2004}, {'day': 5, 'month': 11, 'phase': 'Last Quarter', 'time': '05:53', 'year': 2004}, {'day': 12, 'month': 11, 'phase': 'New Moon', 'time': '14:27', 'year': 2004}, {'day': 19, 'month': 11, 'phase': 'First Quarter', 'time': '05:50', 'year': 2004}, {'day': 26, 'month': 11, 'phase': 'Full Moon', 'time': '20:07', 'year': 2004}, {'day': 5, 'month': 12, 'phase': 'Last Quarter', 'time': '00:53', 'year': 2004}, {'day': 12, 'month': 12, 'phase': 'New Moon', 'time': '01:29', 'year': 2004}, {'day': 18, 'month': 12, 'phase': 'First Quarter', 'time': '16:40', 'year': 2004}, {'day': 26, 'month': 12, 'phase': 'Full Moon', 'time': '15:06', 'year': 2004}], 'year': 2004}, {'apiversion': '4.0.1', 'numphases': 50, 'phasedata': [{'day': 3, 'month': 1, 'phase': 'Last Quarter', 'time': '17:46', 'year': 2005}, {'day': 10, 'month': 1, 'phase': 'New Moon', 'time': '12:03', 'year': 2005}, {'day': 17, 'month': 1, 'phase': 'First Quarter', 'time': '06:57', 'year': 2005}, {'day': 25, 'month': 1, 'phase': 'Full Moon', 'time': '10:32', 'year': 2005}, {'day': 2, 'month': 2, 'phase': 'Last Quarter', 'time': '07:27', 'year': 2005}, {'day': 8, 'month': 2, 'phase': 'New Moon', 'time': '22:28', 'year': 2005}, {'day': 16, 'month': 2, 'phase': 'First Quarter', 'time': '00:16', 'year': 2005}, {'day': 24, 'month': 2, 'phase': 'Full Moon', 'time': '04:54', 'year': 2005}, {'day': 3, 'month': 3, 'phase': 'Last Quarter', 'time': '17:36', 'year': 2005}, {'day': 10, 'month': 3, 'phase': 'New Moon', 'time': '09:10', 'year': 2005}, {'day': 17, 'month': 3, 'phase': 'First Quarter', 'time': '19:19', 'year': 2005}, {'day': 25, 'month': 3, 'phase': 'Full Moon', 'time': '20:59', 'year': 2005}, {'day': 2, 'month': 4, 'phase': 'Last Quarter', 'time': '00:50', 'year': 2005}, {'day': 8, 'month': 4, 'phase': 'New Moon', 'time': '20:32', 'year': 2005}, {'day': 16, 'month': 4, 'phase': 'First Quarter', 'time': '14:37', 'year': 2005}, {'day': 24, 'month': 4, 'phase': 'Full Moon', 'time': '10:06', 'year': 2005}, {'day': 1, 'month': 5, 'phase': 'Last Quarter', 'time': '06:24', 'year': 2005}, {'day': 8, 'month': 5, 'phase': 'New Moon', 'time': '08:45', 'year': 2005}, {'day': 16, 'month': 5, 'phase': 'First Quarter', 'time': '08:57', 'year': 2005}, {'day': 23, 'month': 5, 'phase': 'Full Moon', 'time': '20:18', 'year': 2005}, {'day': 30, 'month': 5, 'phase': 'Last Quarter', 'time': '11:47', 'year': 2005}, {'day': 6, 'month': 6, 'phase': 'New Moon', 'time': '21:55', 'year': 2005}, {'day': 15, 'month': 6, 'phase': 'First Quarter', 'time': '01:22', 'year': 2005}, {'day': 22, 'month': 6, 'phase': 'Full Moon', 'time': '04:14', 'year': 2005}, {'day': 28, 'month': 6, 'phase': 'Last Quarter', 'time': '18:23', 'year': 2005}, {'day': 6, 'month': 7, 'phase': 'New Moon', 'time': '12:02', 'year': 2005}, {'day': 14, 'month': 7, 'phase': 'First Quarter', 'time': '15:20', 'year': 2005}, {'day': 21, 'month': 7, 'phase': 'Full Moon', 'time': '11:00', 'year': 2005}, {'day': 28, 'month': 7, 'phase': 'Last Quarter', 'time': '03:19', 'year': 2005}, {'day': 5, 'month': 8, 'phase': 'New Moon', 'time': '03:05', 'year': 2005}, {'day': 13, 'month': 8, 'phase': 'First Quarter', 'time': '02:39', 'year': 2005}, {'day': 19, 'month': 8, 'phase': 'Full Moon', 'time': '17:53', 'year': 2005}, {'day': 26, 'month': 8, 'phase': 'Last Quarter', 'time': '15:18', 'year': 2005}, {'day': 3, 'month': 9, 'phase': 'New Moon', 'time': '18:45', 'year': 2005}, {'day': 11, 'month': 9, 'phase': 'First Quarter', 'time': '11:37', 'year': 2005}, {'day': 18, 'month': 9, 'phase': 'Full Moon', 'time': '02:01', 'year': 2005}, {'day': 25, 'month': 9, 'phase': 'Last Quarter', 'time': '06:41', 'year': 2005}, {'day': 3, 'month': 10, 'phase': 'New Moon', 'time': '10:28', 'year': 2005}, {'day': 10, 'month': 10, 'phase': 'First Quarter', 'time': '19:01', 'year': 2005}, {'day': 17, 'month': 10, 'phase': 'Full Moon', 'time': '12:14', 'year': 2005}, {'day': 25, 'month': 10, 'phase': 'Last Quarter', 'time': '01:17', 'year': 2005}, {'day': 2, 'month': 11, 'phase': 'New Moon', 'time': '01:25', 'year': 2005}, {'day': 9, 'month': 11, 'phase': 'First Quarter', 'time': '01:57', 'year': 2005}, {'day': 16, 'month': 11, 'phase': 'Full Moon', 'time': '00:58', 'year': 2005}, {'day': 23, 'month': 11, 'phase': 'Last Quarter', 'time': '22:11', 'year': 2005}, {'day': 1, 'month': 12, 'phase': 'New Moon', 'time': '15:01', 'year': 2005}, {'day': 8, 'month': 12, 'phase': 'First Quarter', 'time': '09:36', 'year': 2005}, {'day': 15, 'month': 12, 'phase': 'Full Moon', 'time': '16:16', 'year': 2005}, {'day': 23, 'month': 12, 'phase': 'Last Quarter', 'time': '19:36', 'year': 2005}, {'day': 31, 'month': 12, 'phase': 'New Moon', 'time': '03:12', 'year': 2005}], 'year': 2005}, {'apiversion': '4.0.1', 'numphases': 49, 'phasedata': [{'day': 6, 'month': 1, 'phase': 'First Quarter', 'time': '18:56', 'year': 2006}, {'day': 14, 'month': 1, 'phase': 'Full Moon', 'time': '09:48', 'year': 2006}, {'day': 22, 'month': 1, 'phase': 'Last Quarter', 'time': '15:14', 'year': 2006}, {'day': 29, 'month': 1, 'phase': 'New Moon', 'time': '14:15', 'year': 2006}, {'day': 5, 'month': 2, 'phase': 'First Quarter', 'time': '06:29', 'year': 2006}, {'day': 13, 'month': 2, 'phase': 'Full Moon', 'time': '04:44', 'year': 2006}, {'day': 21, 'month': 2, 'phase': 'Last Quarter', 'time': '07:17', 'year': 2006}, {'day': 28, 'month': 2, 'phase': 'New Moon', 'time': '00:31', 'year': 2006}, {'day': 6, 'month': 3, 'phase': 'First Quarter', 'time': '20:16', 'year': 2006}, {'day': 14, 'month': 3, 'phase': 'Full Moon', 'time': '23:35', 'year': 2006}, {'day': 22, 'month': 3, 'phase': 'Last Quarter', 'time': '19:11', 'year': 2006}, {'day': 29, 'month': 3, 'phase': 'New Moon', 'time': '10:15', 'year': 2006}, {'day': 5, 'month': 4, 'phase': 'First Quarter', 'time': '12:01', 'year': 2006}, {'day': 13, 'month': 4, 'phase': 'Full Moon', 'time': '16:40', 'year': 2006}, {'day': 21, 'month': 4, 'phase': 'Last Quarter', 'time': '03:28', 'year': 2006}, {'day': 27, 'month': 4, 'phase': 'New Moon', 'time': '19:44', 'year': 2006}, {'day': 5, 'month': 5, 'phase': 'First Quarter', 'time': '05:13', 'year': 2006}, {'day': 13, 'month': 5, 'phase': 'Full Moon', 'time': '06:51', 'year': 2006}, {'day': 20, 'month': 5, 'phase': 'Last Quarter', 'time': '09:21', 'year': 2006}, {'day': 27, 'month': 5, 'phase': 'New Moon', 'time': '05:26', 'year': 2006}, {'day': 3, 'month': 6, 'phase': 'First Quarter', 'time': '23:06', 'year': 2006}, {'day': 11, 'month': 6, 'phase': 'Full Moon', 'time': '18:03', 'year': 2006}, {'day': 18, 'month': 6, 'phase': 'Last Quarter', 'time': '14:08', 'year': 2006}, {'day': 25, 'month': 6, 'phase': 'New Moon', 'time': '16:05', 'year': 2006}, {'day': 3, 'month': 7, 'phase': 'First Quarter', 'time': '16:37', 'year': 2006}, {'day': 11, 'month': 7, 'phase': 'Full Moon', 'time': '03:02', 'year': 2006}, {'day': 17, 'month': 7, 'phase': 'Last Quarter', 'time': '19:13', 'year': 2006}, {'day': 25, 'month': 7, 'phase': 'New Moon', 'time': '04:31', 'year': 2006}, {'day': 2, 'month': 8, 'phase': 'First Quarter', 'time': '08:46', 'year': 2006}, {'day': 9, 'month': 8, 'phase': 'Full Moon', 'time': '10:54', 'year': 2006}, {'day': 16, 'month': 8, 'phase': 'Last Quarter', 'time': '01:51', 'year': 2006}, {'day': 23, 'month': 8, 'phase': 'New Moon', 'time': '19:10', 'year': 2006}, {'day': 31, 'month': 8, 'phase': 'First Quarter', 'time': '22:56', 'year': 2006}, {'day': 7, 'month': 9, 'phase': 'Full Moon', 'time': '18:42', 'year': 2006}, {'day': 14, 'month': 9, 'phase': 'Last Quarter', 'time': '11:15', 'year': 2006}, {'day': 22, 'month': 9, 'phase': 'New Moon', 'time': '11:45', 'year': 2006}, {'day': 30, 'month': 9, 'phase': 'First Quarter', 'time': '11:04', 'year': 2006}, {'day': 7, 'month': 10, 'phase': 'Full Moon', 'time': '03:13', 'year': 2006}, {'day': 14, 'month': 10, 'phase': 'Last Quarter', 'time': '00:26', 'year': 2006}, {'day': 22, 'month': 10, 'phase': 'New Moon', 'time': '05:14', 'year': 2006}, {'day': 29, 'month': 10, 'phase': 'First Quarter', 'time': '21:25', 'year': 2006}, {'day': 5, 'month': 11, 'phase': 'Full Moon', 'time': '12:58', 'year': 2006}, {'day': 12, 'month': 11, 'phase': 'Last Quarter', 'time': '17:45', 'year': 2006}, {'day': 20, 'month': 11, 'phase': 'New Moon', 'time': '22:18', 'year': 2006}, {'day': 28, 'month': 11, 'phase': 'First Quarter', 'time': '06:29', 'year': 2006}, {'day': 5, 'month': 12, 'phase': 'Full Moon', 'time': '00:25', 'year': 2006}, {'day': 12, 'month': 12, 'phase': 'Last Quarter', 'time': '14:32', 'year': 2006}, {'day': 20, 'month': 12, 'phase': 'New Moon', 'time': '14:01', 'year': 2006}, {'day': 27, 'month': 12, 'phase': 'First Quarter', 'time': '14:48', 'year': 2006}], 'year': 2006}, {'apiversion': '4.0.1', 'numphases': 50, 'phasedata': [{'day': 3, 'month': 1, 'phase': 'Full Moon', 'time': '13:57', 'year': 2007}, {'day': 11, 'month': 1, 'phase': 'Last Quarter', 'time': '12:45', 'year': 2007}, {'day': 19, 'month': 1, 'phase': 'New Moon', 'time': '04:01', 'year': 2007}, {'day': 25, 'month': 1, 'phase': 'First Quarter', 'time': '23:01', 'year': 2007}, {'day': 2, 'month': 2, 'phase': 'Full Moon', 'time': '05:45', 'year': 2007}, {'day': 10, 'month': 2, 'phase': 'Last Quarter', 'time': '09:51', 'year': 2007}, {'day': 17, 'month': 2, 'phase': 'New Moon', 'time': '16:14', 'year': 2007}, {'day': 24, 'month': 2, 'phase': 'First Quarter', 'time': '07:56', 'year': 2007}, {'day': 3, 'month': 3, 'phase': 'Full Moon', 'time': '23:17', 'year': 2007}, {'day': 12, 'month': 3, 'phase': 'Last Quarter', 'time': '03:54', 'year': 2007}, {'day': 19, 'month': 3, 'phase': 'New Moon', 'time': '02:43', 'year': 2007}, {'day': 25, 'month': 3, 'phase': 'First Quarter', 'time': '18:16', 'year': 2007}, {'day': 2, 'month': 4, 'phase': 'Full Moon', 'time': '17:15', 'year': 2007}, {'day': 10, 'month': 4, 'phase': 'Last Quarter', 'time': '18:04', 'year': 2007}, {'day': 17, 'month': 4, 'phase': 'New Moon', 'time': '11:36', 'year': 2007}, {'day': 24, 'month': 4, 'phase': 'First Quarter', 'time': '06:36', 'year': 2007}, {'day': 2, 'month': 5, 'phase': 'Full Moon', 'time': '10:09', 'year': 2007}, {'day': 10, 'month': 5, 'phase': 'Last Quarter', 'time': '04:27', 'year': 2007}, {'day': 16, 'month': 5, 'phase': 'New Moon', 'time': '19:27', 'year': 2007}, {'day': 23, 'month': 5, 'phase': 'First Quarter', 'time': '21:03', 'year': 2007}, {'day': 1, 'month': 6, 'phase': 'Full Moon', 'time': '01:04', 'year': 2007}, {'day': 8, 'month': 6, 'phase': 'Last Quarter', 'time': '11:43', 'year': 2007}, {'day': 15, 'month': 6, 'phase': 'New Moon', 'time': '03:13', 'year': 2007}, {'day': 22, 'month': 6, 'phase': 'First Quarter', 'time': '13:15', 'year': 2007}, {'day': 30, 'month': 6, 'phase': 'Full Moon', 'time': '13:49', 'year': 2007}, {'day': 7, 'month': 7, 'phase': 'Last Quarter', 'time': '16:54', 'year': 2007}, {'day': 14, 'month': 7, 'phase': 'New Moon', 'time': '12:04', 'year': 2007}, {'day': 22, 'month': 7, 'phase': 'First Quarter', 'time': '06:29', 'year': 2007}, {'day': 30, 'month': 7, 'phase': 'Full Moon', 'time': '00:48', 'year': 2007}, {'day': 5, 'month': 8, 'phase': 'Last Quarter', 'time': '21:20', 'year': 2007}, {'day': 12, 'month': 8, 'phase': 'New Moon', 'time': '23:02', 'year': 2007}, {'day': 20, 'month': 8, 'phase': 'First Quarter', 'time': '23:54', 'year': 2007}, {'day': 28, 'month': 8, 'phase': 'Full Moon', 'time': '10:35', 'year': 2007}, {'day': 4, 'month': 9, 'phase': 'Last Quarter', 'time': '02:32', 'year': 2007}, {'day': 11, 'month': 9, 'phase': 'New Moon', 'time': '12:44', 'year': 2007}, {'day': 19, 'month': 9, 'phase': 'First Quarter', 'time': '16:48', 'year': 2007}, {'day': 26, 'month': 9, 'phase': 'Full Moon', 'time': '19:45', 'year': 2007}, {'day': 3, 'month': 10, 'phase': 'Last Quarter', 'time': '10:06', 'year': 2007}, {'day': 11, 'month': 10, 'phase': 'New Moon', 'time': '05:01', 'year': 2007}, {'day': 19, 'month': 10, 'phase': 'First Quarter', 'time': '08:33', 'year': 2007}, {'day': 26, 'month': 10, 'phase': 'Full Moon', 'time': '04:52', 'year': 2007}, {'day': 1, 'month': 11, 'phase': 'Last Quarter', 'time': '21:18', 'year': 2007}, {'day': 9, 'month': 11, 'phase': 'New Moon', 'time': '23:03', 'year': 2007}, {'day': 17, 'month': 11, 'phase': 'First Quarter', 'time': '22:33', 'year': 2007}, {'day': 24, 'month': 11, 'phase': 'Full Moon', 'time': '14:30', 'year': 2007}, {'day': 1, 'month': 12, 'phase': 'Last Quarter', 'time': '12:44', 'year': 2007}, {'day': 9, 'month': 12, 'phase': 'New Moon', 'time': '17:40', 'year': 2007}, {'day': 17, 'month': 12, 'phase': 'First Quarter', 'time': '10:18', 'year': 2007}, {'day': 24, 'month': 12, 'phase': 'Full Moon', 'time': '01:16', 'year': 2007}, {'day': 31, 'month': 12, 'phase': 'Last Quarter', 'time': '07:51', 'year': 2007}], 'year': 2007}, {'apiversion': '4.0.1', 'numphases': 49, 'phasedata': [{'day': 8, 'month': 1, 'phase': 'New Moon', 'time': '11:37', 'year': 2008}, {'day': 15, 'month': 1, 'phase': 'First Quarter', 'time': '19:46', 'year': 2008}, {'day': 22, 'month': 1, 'phase': 'Full Moon', 'time': '13:35', 'year': 2008}, {'day': 30, 'month': 1, 'phase': 'Last Quarter', 'time': '05:03', 'year': 2008}, {'day': 7, 'month': 2, 'phase': 'New Moon', 'time': '03:45', 'year': 2008}, {'day': 14, 'month': 2, 'phase': 'First Quarter', 'time': '03:33', 'year': 2008}, {'day': 21, 'month': 2, 'phase': 'Full Moon', 'time': '03:30', 'year': 2008}, {'day': 29, 'month': 2, 'phase': 'Last Quarter', 'time': '02:18', 'year': 2008}, {'day': 7, 'month': 3, 'phase': 'New Moon', 'time': '17:14', 'year': 2008}, {'day': 14, 'month': 3, 'phase': 'First Quarter', 'time': '10:46', 'year': 2008}, {'day': 21, 'month': 3, 'phase': 'Full Moon', 'time': '18:40', 'year': 2008}, {'day': 29, 'month': 3, 'phase': 'Last Quarter', 'time': '21:47', 'year': 2008}, {'day': 6, 'month': 4, 'phase': 'New Moon', 'time': '03:55', 'year': 2008}, {'day': 12, 'month': 4, 'phase': 'First Quarter', 'time': '18:32', 'year': 2008}, {'day': 20, 'month': 4, 'phase': 'Full Moon', 'time': '10:25', 'year': 2008}, {'day': 28, 'month': 4, 'phase': 'Last Quarter', 'time': '14:12', 'year': 2008}, {'day': 5, 'month': 5, 'phase': 'New Moon', 'time': '12:18', 'year': 2008}, {'day': 12, 'month': 5, 'phase': 'First Quarter', 'time': '03:47', 'year': 2008}, {'day': 20, 'month': 5, 'phase': 'Full Moon', 'time': '02:11', 'year': 2008}, {'day': 28, 'month': 5, 'phase': 'Last Quarter', 'time': '02:57', 'year': 2008}, {'day': 3, 'month': 6, 'phase': 'New Moon', 'time': '19:23', 'year': 2008}, {'day': 10, 'month': 6, 'phase': 'First Quarter', 'time': '15:04', 'year': 2008}, {'day': 18, 'month': 6, 'phase': 'Full Moon', 'time': '17:30', 'year': 2008}, {'day': 26, 'month': 6, 'phase': 'Last Quarter', 'time': '12:10', 'year': 2008}, {'day': 3, 'month': 7, 'phase': 'New Moon', 'time': '02:19', 'year': 2008}, {'day': 10, 'month': 7, 'phase': 'First Quarter', 'time': '04:35', 'year': 2008}, {'day': 18, 'month': 7, 'phase': 'Full Moon', 'time': '07:59', 'year': 2008}, {'day': 25, 'month': 7, 'phase': 'Last Quarter', 'time': '18:42', 'year': 2008}, {'day': 1, 'month': 8, 'phase': 'New Moon', 'time': '10:13', 'year': 2008}, {'day': 8, 'month': 8, 'phase': 'First Quarter', 'time': '20:20', 'year': 2008}, {'day': 16, 'month': 8, 'phase': 'Full Moon', 'time': '21:16', 'year': 2008}, {'day': 23, 'month': 8, 'phase': 'Last Quarter', 'time': '23:50', 'year': 2008}, {'day': 30, 'month': 8, 'phase': 'New Moon', 'time': '19:58', 'year': 2008}, {'day': 7, 'month': 9, 'phase': 'First Quarter', 'time': '14:04', 'year': 2008}, {'day': 15, 'month': 9, 'phase': 'Full Moon', 'time': '09:13', 'year': 2008}, {'day': 22, 'month': 9, 'phase': 'Last Quarter', 'time': '05:04', 'year': 2008}, {'day': 29, 'month': 9, 'phase': 'New Moon', 'time': '08:12', 'year': 2008}, {'day': 7, 'month': 10, 'phase': 'First Quarter', 'time': '09:04', 'year': 2008}, {'day': 14, 'month': 10, 'phase': 'Full Moon', 'time': '20:02', 'year': 2008}, {'day': 21, 'month': 10, 'phase': 'Last Quarter', 'time': '11:55', 'year': 2008}, {'day': 28, 'month': 10, 'phase': 'New Moon', 'time': '23:14', 'year': 2008}, {'day': 6, 'month': 11, 'phase': 'First Quarter', 'time': '04:03', 'year': 2008}, {'day': 13, 'month': 11, 'phase': 'Full Moon', 'time': '06:17', 'year': 2008}, {'day': 19, 'month': 11, 'phase': 'Last Quarter', 'time': '21:31', 'year': 2008}, {'day': 27, 'month': 11, 'phase': 'New Moon', 'time': '16:55', 'year': 2008}, {'day': 5, 'month': 12, 'phase': 'First Quarter', 'time': '21:26', 'year': 2008}, {'day': 12, 'month': 12, 'phase': 'Full Moon', 'time': '16:37', 'year': 2008}, {'day': 19, 'month': 12, 'phase': 'Last Quarter', 'time': '10:29', 'year': 2008}, {'day': 27, 'month': 12, 'phase': 'New Moon', 'time': '12:22', 'year': 2008}], 'year': 2008}, {'apiversion': '4.0.1', 'numphases': 50, 'phasedata': [{'day': 4, 'month': 1, 'phase': 'First Quarter', 'time': '11:56', 'year': 2009}, {'day': 11, 'month': 1, 'phase': 'Full Moon', 'time': '03:27', 'year': 2009}, {'day': 18, 'month': 1, 'phase': 'Last Quarter', 'time': '02:46', 'year': 2009}, {'day': 26, 'month': 1, 'phase': 'New Moon', 'time': '07:55', 'year': 2009}, {'day': 2, 'month': 2, 'phase': 'First Quarter', 'time': '23:13', 'year': 2009}, {'day': 9, 'month': 2, 'phase': 'Full Moon', 'time': '14:49', 'year': 2009}, {'day': 16, 'month': 2, 'phase': 'Last Quarter', 'time': '21:37', 'year': 2009}, {'day': 25, 'month': 2, 'phase': 'New Moon', 'time': '01:35', 'year': 2009}, {'day': 4, 'month': 3, 'phase': 'First Quarter', 'time': '07:46', 'year': 2009}, {'day': 11, 'month': 3, 'phase': 'Full Moon', 'time': '02:38', 'year': 2009}, {'day': 18, 'month': 3, 'phase': 'Last Quarter', 'time': '17:47', 'year': 2009}, {'day': 26, 'month': 3, 'phase': 'New Moon', 'time': '16:06', 'year': 2009}, {'day': 2, 'month': 4, 'phase': 'First Quarter', 'time': '14:34', 'year': 2009}, {'day': 9, 'month': 4, 'phase': 'Full Moon', 'time': '14:56', 'year': 2009}, {'day': 17, 'month': 4, 'phase': 'Last Quarter', 'time': '13:36', 'year': 2009}, {'day': 25, 'month': 4, 'phase': 'New Moon', 'time': '03:23', 'year': 2009}, {'day': 1, 'month': 5, 'phase': 'First Quarter', 'time': '20:44', 'year': 2009}, {'day': 9, 'month': 5, 'phase': 'Full Moon', 'time': '04:01', 'year': 2009}, {'day': 17, 'month': 5, 'phase': 'Last Quarter', 'time': '07:26', 'year': 2009}, {'day': 24, 'month': 5, 'phase': 'New Moon', 'time': '12:11', 'year': 2009}, {'day': 31, 'month': 5, 'phase': 'First Quarter', 'time': '03:22', 'year': 2009}, {'day': 7, 'month': 6, 'phase': 'Full Moon', 'time': '18:12', 'year': 2009}, {'day': 15, 'month': 6, 'phase': 'Last Quarter', 'time': '22:15', 'year': 2009}, {'day': 22, 'month': 6, 'phase': 'New Moon', 'time': '19:35', 'year': 2009}, {'day': 29, 'month': 6, 'phase': 'First Quarter', 'time': '11:28', 'year': 2009}, {'day': 7, 'month': 7, 'phase': 'Full Moon', 'time': '09:21', 'year': 2009}, {'day': 15, 'month': 7, 'phase': 'Last Quarter', 'time': '09:53', 'year': 2009}, {'day': 22, 'month': 7, 'phase': 'New Moon', 'time': '02:35', 'year': 2009}, {'day': 28, 'month': 7, 'phase': 'First Quarter', 'time': '22:00', 'year': 2009}, {'day': 6, 'month': 8, 'phase': 'Full Moon', 'time': '00:55', 'year': 2009}, {'day': 13, 'month': 8, 'phase': 'Last Quarter', 'time': '18:55', 'year': 2009}, {'day': 20, 'month': 8, 'phase': 'New Moon', 'time': '10:02', 'year': 2009}, {'day': 27, 'month': 8, 'phase': 'First Quarter', 'time': '11:42', 'year': 2009}, {'day': 4, 'month': 9, 'phase': 'Full Moon', 'time': '16:03', 'year': 2009}, {'day': 12, 'month': 9, 'phase': 'Last Quarter', 'time': '02:16', 'year': 2009}, {'day': 18, 'month': 9, 'phase': 'New Moon', 'time': '18:44', 'year': 2009}, {'day': 26, 'month': 9, 'phase': 'First Quarter', 'time': '04:50', 'year': 2009}, {'day': 4, 'month': 10, 'phase': 'Full Moon', 'time': '06:10', 'year': 2009}, {'day': 11, 'month': 10, 'phase': 'Last Quarter', 'time': '08:56', 'year': 2009}, {'day': 18, 'month': 10, 'phase': 'New Moon', 'time': '05:33', 'year': 2009}, {'day': 26, 'month': 10, 'phase': 'First Quarter', 'time': '00:42', 'year': 2009}, {'day': 2, 'month': 11, 'phase': 'Full Moon', 'time': '19:14', 'year': 2009}, {'day': 9, 'month': 11, 'phase': 'Last Quarter', 'time': '15:56', 'year': 2009}, {'day': 16, 'month': 11, 'phase': 'New Moon', 'time': '19:14', 'year': 2009}, {'day': 24, 'month': 11, 'phase': 'First Quarter', 'time': '21:39', 'year': 2009}, {'day': 2, 'month': 12, 'phase': 'Full Moon', 'time': '07:30', 'year': 2009}, {'day': 9, 'month': 12, 'phase': 'Last Quarter', 'time': '00:13', 'year': 2009}, {'day': 16, 'month': 12, 'phase': 'New Moon', 'time': '12:02', 'year': 2009}, {'day': 24, 'month': 12, 'phase': 'First Quarter', 'time': '17:36', 'year': 2009}, {'day': 31, 'month': 12, 'phase': 'Full Moon', 'time': '19:13', 'year': 2009}], 'year': 2009}, {'apiversion': '4.0.1', 'numphases': 49, 'phasedata': [{'day': 7, 'month': 1, 'phase': 'Last Quarter', 'time': '10:39', 'year': 2010}, {'day': 15, 'month': 1, 'phase': 'New Moon', 'time': '07:11', 'year': 2010}, {'day': 23, 'month': 1, 'phase': 'First Quarter', 'time': '10:53', 'year': 2010}, {'day': 30, 'month': 1, 'phase': 'Full Moon', 'time': '06:18', 'year': 2010}, {'day': 5, 'month': 2, 'phase': 'Last Quarter', 'time': '23:48', 'year': 2010}, {'day': 14, 'month': 2, 'phase': 'New Moon', 'time': '02:51', 'year': 2010}, {'day': 22, 'month': 2, 'phase': 'First Quarter', 'time': '00:42', 'year': 2010}, {'day': 28, 'month': 2, 'phase': 'Full Moon', 'time': '16:38', 'year': 2010}, {'day': 7, 'month': 3, 'phase': 'Last Quarter', 'time': '15:42', 'year': 2010}, {'day': 15, 'month': 3, 'phase': 'New Moon', 'time': '21:01', 'year': 2010}, {'day': 23, 'month': 3, 'phase': 'First Quarter', 'time': '11:00', 'year': 2010}, {'day': 30, 'month': 3, 'phase': 'Full Moon', 'time': '02:25', 'year': 2010}, {'day': 6, 'month': 4, 'phase': 'Last Quarter', 'time': '09:37', 'year': 2010}, {'day': 14, 'month': 4, 'phase': 'New Moon', 'time': '12:29', 'year': 2010}, {'day': 21, 'month': 4, 'phase': 'First Quarter', 'time': '18:20', 'year': 2010}, {'day': 28, 'month': 4, 'phase': 'Full Moon', 'time': '12:18', 'year': 2010}, {'day': 6, 'month': 5, 'phase': 'Last Quarter', 'time': '04:15', 'year': 2010}, {'day': 14, 'month': 5, 'phase': 'New Moon', 'time': '01:04', 'year': 2010}, {'day': 20, 'month': 5, 'phase': 'First Quarter', 'time': '23:43', 'year': 2010}, {'day': 27, 'month': 5, 'phase': 'Full Moon', 'time': '23:07', 'year': 2010}, {'day': 4, 'month': 6, 'phase': 'Last Quarter', 'time': '22:13', 'year': 2010}, {'day': 12, 'month': 6, 'phase': 'New Moon', 'time': '11:15', 'year': 2010}, {'day': 19, 'month': 6, 'phase': 'First Quarter', 'time': '04:29', 'year': 2010}, {'day': 26, 'month': 6, 'phase': 'Full Moon', 'time': '11:30', 'year': 2010}, {'day': 4, 'month': 7, 'phase': 'Last Quarter', 'time': '14:35', 'year': 2010}, {'day': 11, 'month': 7, 'phase': 'New Moon', 'time': '19:40', 'year': 2010}, {'day': 18, 'month': 7, 'phase': 'First Quarter', 'time': '10:10', 'year': 2010}, {'day': 26, 'month': 7, 'phase': 'Full Moon', 'time': '01:37', 'year': 2010}, {'day': 3, 'month': 8, 'phase': 'Last Quarter', 'time': '04:59', 'year': 2010}, {'day': 10, 'month': 8, 'phase': 'New Moon', 'time': '03:08', 'year': 2010}, {'day': 16, 'month': 8, 'phase': 'First Quarter', 'time': '18:14', 'year': 2010}, {'day': 24, 'month': 8, 'phase': 'Full Moon', 'time': '17:05', 'year': 2010}, {'day': 1, 'month': 9, 'phase': 'Last Quarter', 'time': '17:22', 'year': 2010}, {'day': 8, 'month': 9, 'phase': 'New Moon', 'time': '10:30', 'year': 2010}, {'day': 15, 'month': 9, 'phase': 'First Quarter', 'time': '05:50', 'year': 2010}, {'day': 23, 'month': 9, 'phase': 'Full Moon', 'time': '09:17', 'year': 2010}, {'day': 1, 'month': 10, 'phase': 'Last Quarter', 'time': '03:52', 'year': 2010}, {'day': 7, 'month': 10, 'phase': 'New Moon', 'time': '18:44', 'year': 2010}, {'day': 14, 'month': 10, 'phase': 'First Quarter', 'time': '21:27', 'year': 2010}, {'day': 23, 'month': 10, 'phase': 'Full Moon', 'time': '01:36', 'year': 2010}, {'day': 30, 'month': 10, 'phase': 'Last Quarter', 'time': '12:46', 'year': 2010}, {'day': 6, 'month': 11, 'phase': 'New Moon', 'time': '04:52', 'year': 2010}, {'day': 13, 'month': 11, 'phase': 'First Quarter', 'time': '16:39', 'year': 2010}, {'day': 21, 'month': 11, 'phase': 'Full Moon', 'time': '17:27', 'year': 2010}, {'day': 28, 'month': 11, 'phase': 'Last Quarter', 'time': '20:36', 'year': 2010}, {'day': 5, 'month': 12, 'phase': 'New Moon', 'time': '17:36', 'year': 2010}, {'day': 13, 'month': 12, 'phase': 'First Quarter', 'time': '13:59', 'year': 2010}, {'day': 21, 'month': 12, 'phase': 'Full Moon', 'time': '08:13', 'year': 2010}, {'day': 28, 'month': 12, 'phase': 'Last Quarter', 'time': '04:18', 'year': 2010}], 'year': 2010}, {'apiversion': '4.0.1', 'numphases': 49, 'phasedata': [{'day': 4, 'month': 1, 'phase': 'New Moon', 'time': '09:03', 'year': 2011}, {'day': 12, 'month': 1, 'phase': 'First Quarter', 'time': '11:31', 'year': 2011}, {'day': 19, 'month': 1, 'phase': 'Full Moon', 'time': '21:21', 'year': 2011}, {'day': 26, 'month': 1, 'phase': 'Last Quarter', 'time': '12:57', 'year': 2011}, {'day': 3, 'month': 2, 'phase': 'New Moon', 'time': '02:31', 'year': 2011}, {'day': 11, 'month': 2, 'phase': 'First Quarter', 'time': '07:18', 'year': 2011}, {'day': 18, 'month': 2, 'phase': 'Full Moon', 'time': '08:36', 'year': 2011}, {'day': 24, 'month': 2, 'phase': 'Last Quarter', 'time': '23:26', 'year': 2011}, {'day': 4, 'month': 3, 'phase': 'New Moon', 'time': '20:46', 'year': 2011}, {'day': 12, 'month': 3, 'phase': 'First Quarter', 'time': '23:45', 'year': 2011}, {'day': 19, 'month': 3, 'phase': 'Full Moon', 'time': '18:10', 'year': 2011}, {'day': 26, 'month': 3, 'phase': 'Last Quarter', 'time': '12:07', 'year': 2011}, {'day': 3, 'month': 4, 'phase': 'New Moon', 'time': '14:32', 'year': 2011}, {'day': 11, 'month': 4, 'phase': 'First Quarter', 'time': '12:05', 'year': 2011}, {'day': 18, 'month': 4, 'phase': 'Full Moon', 'time': '02:44', 'year': 2011}, {'day': 25, 'month': 4, 'phase': 'Last Quarter', 'time': '02:47', 'year': 2011}, {'day': 3, 'month': 5, 'phase': 'New Moon', 'time': '06:51', 'year': 2011}, {'day': 10, 'month': 5, 'phase': 'First Quarter', 'time': '20:33', 'year': 2011}, {'day': 17, 'month': 5, 'phase': 'Full Moon', 'time': '11:09', 'year': 2011}, {'day': 24, 'month': 5, 'phase': 'Last Quarter', 'time': '18:52', 'year': 2011}, {'day': 1, 'month': 6, 'phase': 'New Moon', 'time': '21:03', 'year': 2011}, {'day': 9, 'month': 6, 'phase': 'First Quarter', 'time': '02:11', 'year': 2011}, {'day': 15, 'month': 6, 'phase': 'Full Moon', 'time': '20:14', 'year': 2011}, {'day': 23, 'month': 6, 'phase': 'Last Quarter', 'time': '11:48', 'year': 2011}, {'day': 1, 'month': 7, 'phase': 'New Moon', 'time': '08:54', 'year': 2011}, {'day': 8, 'month': 7, 'phase': 'First Quarter', 'time': '06:29', 'year': 2011}, {'day': 15, 'month': 7, 'phase': 'Full Moon', 'time': '06:40', 'year': 2011}, {'day': 23, 'month': 7, 'phase': 'Last Quarter', 'time': '05:02', 'year': 2011}, {'day': 30, 'month': 7, 'phase': 'New Moon', 'time': '18:40', 'year': 2011}, {'day': 6, 'month': 8, 'phase': 'First Quarter', 'time': '11:08', 'year': 2011}, {'day': 13, 'month': 8, 'phase': 'Full Moon', 'time': '18:57', 'year': 2011}, {'day': 21, 'month': 8, 'phase': 'Last Quarter', 'time': '21:54', 'year': 2011}, {'day': 29, 'month': 8, 'phase': 'New Moon', 'time': '03:04', 'year': 2011}, {'day': 4, 'month': 9, 'phase': 'First Quarter', 'time': '17:39', 'year': 2011}, {'day': 12, 'month': 9, 'phase': 'Full Moon', 'time': '09:27', 'year': 2011}, {'day': 20, 'month': 9, 'phase': 'Last Quarter', 'time': '13:39', 'year': 2011}, {'day': 27, 'month': 9, 'phase': 'New Moon', 'time': '11:09', 'year': 2011}, {'day': 4, 'month': 10, 'phase': 'First Quarter', 'time': '03:15', 'year': 2011}, {'day': 12, 'month': 10, 'phase': 'Full Moon', 'time': '02:06', 'year': 2011}, {'day': 20, 'month': 10, 'phase': 'Last Quarter', 'time': '03:30', 'year': 2011}, {'day': 26, 'month': 10, 'phase': 'New Moon', 'time': '19:56', 'year': 2011}, {'day': 2, 'month': 11, 'phase': 'First Quarter', 'time': '16:38', 'year': 2011}, {'day': 10, 'month': 11, 'phase': 'Full Moon', 'time': '20:16', 'year': 2011}, {'day': 18, 'month': 11, 'phase': 'Last Quarter', 'time': '15:09', 'year': 2011}, {'day': 25, 'month': 11, 'phase': 'New Moon', 'time': '06:10', 'year': 2011}, {'day': 2, 'month': 12, 'phase': 'First Quarter', 'time': '09:52', 'year': 2011}, {'day': 10, 'month': 12, 'phase': 'Full Moon', 'time': '14:36', 'year': 2011}, {'day': 18, 'month': 12, 'phase': 'Last Quarter', 'time': '00:48', 'year': 2011}, {'day': 24, 'month': 12, 'phase': 'New Moon', 'time': '18:06', 'year': 2011}], 'year': 2011}, {'apiversion': '4.0.1', 'numphases': 50, 'phasedata': [{'day': 1, 'month': 1, 'phase': 'First Quarter', 'time': '06:15', 'year': 2012}, {'day': 9, 'month': 1, 'phase': 'Full Moon', 'time': '07:30', 'year': 2012}, {'day': 16, 'month': 1, 'phase': 'Last Quarter', 'time': '09:08', 'year': 2012}, {'day': 23, 'month': 1, 'phase': 'New Moon', 'time': '07:39', 'year': 2012}, {'day': 31, 'month': 1, 'phase': 'First Quarter', 'time': '04:10', 'year': 2012}, {'day': 7, 'month': 2, 'phase': 'Full Moon', 'time': '21:54', 'year': 2012}, {'day': 14, 'month': 2, 'phase': 'Last Quarter', 'time': '17:04', 'year': 2012}, {'day': 21, 'month': 2, 'phase': 'New Moon', 'time': '22:35', 'year': 2012}, {'day': 1, 'month': 3, 'phase': 'First Quarter', 'time': '01:21', 'year': 2012}, {'day': 8, 'month': 3, 'phase': 'Full Moon', 'time': '09:39', 'year': 2012}, {'day': 15, 'month': 3, 'phase': 'Last Quarter', 'time': '01:25', 'year': 2012}, {'day': 22, 'month': 3, 'phase': 'New Moon', 'time': '14:37', 'year': 2012}, {'day': 30, 'month': 3, 'phase': 'First Quarter', 'time': '19:41', 'year': 2012}, {'day': 6, 'month': 4, 'phase': 'Full Moon', 'time': '19:19', 'year': 2012}, {'day': 13, 'month': 4, 'phase': 'Last Quarter', 'time': '10:50', 'year': 2012}, {'day': 21, 'month': 4, 'phase': 'New Moon', 'time': '07:18', 'year': 2012}, {'day': 29, 'month': 4, 'phase': 'First Quarter', 'time': '09:57', 'year': 2012}, {'day': 6, 'month': 5, 'phase': 'Full Moon', 'time': '03:35', 'year': 2012}, {'day': 12, 'month': 5, 'phase': 'Last Quarter', 'time': '21:47', 'year': 2012}, {'day': 20, 'month': 5, 'phase': 'New Moon', 'time': '23:47', 'year': 2012}, {'day': 28, 'month': 5, 'phase': 'First Quarter', 'time': '20:16', 'year': 2012}, {'day': 4, 'month': 6, 'phase': 'Full Moon', 'time': '11:12', 'year': 2012}, {'day': 11, 'month': 6, 'phase': 'Last Quarter', 'time': '10:41', 'year': 2012}, {'day': 19, 'month': 6, 'phase': 'New Moon', 'time': '15:02', 'year': 2012}, {'day': 27, 'month': 6, 'phase': 'First Quarter', 'time': '03:30', 'year': 2012}, {'day': 3, 'month': 7, 'phase': 'Full Moon', 'time': '18:52', 'year': 2012}, {'day': 11, 'month': 7, 'phase': 'Last Quarter', 'time': '01:48', 'year': 2012}, {'day': 19, 'month': 7, 'phase': 'New Moon', 'time': '04:24', 'year': 2012}, {'day': 26, 'month': 7, 'phase': 'First Quarter', 'time': '08:56', 'year': 2012}, {'day': 2, 'month': 8, 'phase': 'Full Moon', 'time': '03:27', 'year': 2012}, {'day': 9, 'month': 8, 'phase': 'Last Quarter', 'time': '18:55', 'year': 2012}, {'day': 17, 'month': 8, 'phase': 'New Moon', 'time': '15:54', 'year': 2012}, {'day': 24, 'month': 8, 'phase': 'First Quarter', 'time': '13:54', 'year': 2012}, {'day': 31, 'month': 8, 'phase': 'Full Moon', 'time': '13:58', 'year': 2012}, {'day': 8, 'month': 9, 'phase': 'Last Quarter', 'time': '13:15', 'year': 2012}, {'day': 16, 'month': 9, 'phase': 'New Moon', 'time': '02:11', 'year': 2012}, {'day': 22, 'month': 9, 'phase': 'First Quarter', 'time': '19:41', 'year': 2012}, {'day': 30, 'month': 9, 'phase': 'Full Moon', 'time': '03:19', 'year': 2012}, {'day': 8, 'month': 10, 'phase': 'Last Quarter', 'time': '07:33', 'year': 2012}, {'day': 15, 'month': 10, 'phase': 'New Moon', 'time': '12:02', 'year': 2012}, {'day': 22, 'month': 10, 'phase': 'First Quarter', 'time': '03:32', 'year': 2012}, {'day': 29, 'month': 10, 'phase': 'Full Moon', 'time': '19:49', 'year': 2012}, {'day': 7, 'month': 11, 'phase': 'Last Quarter', 'time': '00:36', 'year': 2012}, {'day': 13, 'month': 11, 'phase': 'New Moon', 'time': '22:08', 'year': 2012}, {'day': 20, 'month': 11, 'phase': 'First Quarter', 'time': '14:31', 'year': 2012}, {'day': 28, 'month': 11, 'phase': 'Full Moon', 'time': '14:46', 'year': 2012}, {'day': 6, 'month': 12, 'phase': 'Last Quarter', 'time': '15:31', 'year': 2012}, {'day': 13, 'month': 12, 'phase': 'New Moon', 'time': '08:42', 'year': 2012}, {'day': 20, 'month': 12, 'phase': 'First Quarter', 'time': '05:19', 'year': 2012}, {'day': 28, 'month': 12, 'phase': 'Full Moon', 'time': '10:21', 'year': 2012}], 'year': 2012}, {'apiversion': '4.0.1', 'numphases': 49, 'phasedata': [{'day': 5, 'month': 1, 'phase': 'Last Quarter', 'time': '03:58', 'year': 2013}, {'day': 11, 'month': 1, 'phase': 'New Moon', 'time': '19:44', 'year': 2013}, {'day': 18, 'month': 1, 'phase': 'First Quarter', 'time': '23:45', 'year': 2013}, {'day': 27, 'month': 1, 'phase': 'Full Moon', 'time': '04:38', 'year': 2013}, {'day': 3, 'month': 2, 'phase': 'Last Quarter', 'time': '13:56', 'year': 2013}, {'day': 10, 'month': 2, 'phase': 'New Moon', 'time': '07:20', 'year': 2013}, {'day': 17, 'month': 2, 'phase': 'First Quarter', 'time': '20:31', 'year': 2013}, {'day': 25, 'month': 2, 'phase': 'Full Moon', 'time': '20:26', 'year': 2013}, {'day': 4, 'month': 3, 'phase': 'Last Quarter', 'time': '21:53', 'year': 2013}, {'day': 11, 'month': 3, 'phase': 'New Moon', 'time': '19:51', 'year': 2013}, {'day': 19, 'month': 3, 'phase': 'First Quarter', 'time': '17:27', 'year': 2013}, {'day': 27, 'month': 3, 'phase': 'Full Moon', 'time': '09:27', 'year': 2013}, {'day': 3, 'month': 4, 'phase': 'Last Quarter', 'time': '04:37', 'year': 2013}, {'day': 10, 'month': 4, 'phase': 'New Moon', 'time': '09:35', 'year': 2013}, {'day': 18, 'month': 4, 'phase': 'First Quarter', 'time': '12:31', 'year': 2013}, {'day': 25, 'month': 4, 'phase': 'Full Moon', 'time': '19:57', 'year': 2013}, {'day': 2, 'month': 5, 'phase': 'Last Quarter', 'time': '11:14', 'year': 2013}, {'day': 10, 'month': 5, 'phase': 'New Moon', 'time': '00:28', 'year': 2013}, {'day': 18, 'month': 5, 'phase': 'First Quarter', 'time': '04:34', 'year': 2013}, {'day': 25, 'month': 5, 'phase': 'Full Moon', 'time': '04:25', 'year': 2013}, {'day': 31, 'month': 5, 'phase': 'Last Quarter', 'time': '18:58', 'year': 2013}, {'day': 8, 'month': 6, 'phase': 'New Moon', 'time': '15:56', 'year': 2013}, {'day': 16, 'month': 6, 'phase': 'First Quarter', 'time': '17:24', 'year': 2013}, {'day': 23, 'month': 6, 'phase': 'Full Moon', 'time': '11:32', 'year': 2013}, {'day': 30, 'month': 6, 'phase': 'Last Quarter', 'time': '04:53', 'year': 2013}, {'day': 8, 'month': 7, 'phase': 'New Moon', 'time': '07:14', 'year': 2013}, {'day': 16, 'month': 7, 'phase': 'First Quarter', 'time': '03:18', 'year': 2013}, {'day': 22, 'month': 7, 'phase': 'Full Moon', 'time': '18:15', 'year': 2013}, {'day': 29, 'month': 7, 'phase': 'Last Quarter', 'time': '17:43', 'year': 2013}, {'day': 6, 'month': 8, 'phase': 'New Moon', 'time': '21:51', 'year': 2013}, {'day': 14, 'month': 8, 'phase': 'First Quarter', 'time': '10:56', 'year': 2013}, {'day': 21, 'month': 8, 'phase': 'Full Moon', 'time': '01:45', 'year': 2013}, {'day': 28, 'month': 8, 'phase': 'Last Quarter', 'time': '09:35', 'year': 2013}, {'day': 5, 'month': 9, 'phase': 'New Moon', 'time': '11:36', 'year': 2013}, {'day': 12, 'month': 9, 'phase': 'First Quarter', 'time': '17:08', 'year': 2013}, {'day': 19, 'month': 9, 'phase': 'Full Moon', 'time': '11:13', 'year': 2013}, {'day': 27, 'month': 9, 'phase': 'Last Quarter', 'time': '03:55', 'year': 2013}, {'day': 5, 'month': 10, 'phase': 'New Moon', 'time': '00:34', 'year': 2013}, {'day': 11, 'month': 10, 'phase': 'First Quarter', 'time': '23:02', 'year': 2013}, {'day': 18, 'month': 10, 'phase': 'Full Moon', 'time': '23:38', 'year': 2013}, {'day': 26, 'month': 10, 'phase': 'Last Quarter', 'time': '23:40', 'year': 2013}, {'day': 3, 'month': 11, 'phase': 'New Moon', 'time': '12:50', 'year': 2013}, {'day': 10, 'month': 11, 'phase': 'First Quarter', 'time': '05:57', 'year': 2013}, {'day': 17, 'month': 11, 'phase': 'Full Moon', 'time': '15:16', 'year': 2013}, {'day': 25, 'month': 11, 'phase': 'Last Quarter', 'time': '19:28', 'year': 2013}, {'day': 3, 'month': 12, 'phase': 'New Moon', 'time': '00:22', 'year': 2013}, {'day': 9, 'month': 12, 'phase': 'First Quarter', 'time': '15:12', 'year': 2013}, {'day': 17, 'month': 12, 'phase': 'Full Moon', 'time': '09:28', 'year': 2013}, {'day': 25, 'month': 12, 'phase': 'Last Quarter', 'time': '13:48', 'year': 2013}], 'year': 2013}, {'apiversion': '4.0.1', 'numphases': 50, 'phasedata': [{'day': 1, 'month': 1, 'phase': 'New Moon', 'time': '11:14', 'year': 2014}, {'day': 8, 'month': 1, 'phase': 'First Quarter', 'time': '03:39', 'year': 2014}, {'day': 16, 'month': 1, 'phase': 'Full Moon', 'time': '04:52', 'year': 2014}, {'day': 24, 'month': 1, 'phase': 'Last Quarter', 'time': '05:19', 'year': 2014}, {'day': 30, 'month': 1, 'phase': 'New Moon', 'time': '21:38', 'year': 2014}, {'day': 6, 'month': 2, 'phase': 'First Quarter', 'time': '19:22', 'year': 2014}, {'day': 14, 'month': 2, 'phase': 'Full Moon', 'time': '23:53', 'year': 2014}, {'day': 22, 'month': 2, 'phase': 'Last Quarter', 'time': '17:15', 'year': 2014}, {'day': 1, 'month': 3, 'phase': 'New Moon', 'time': '08:00', 'year': 2014}, {'day': 8, 'month': 3, 'phase': 'First Quarter', 'time': '13:27', 'year': 2014}, {'day': 16, 'month': 3, 'phase': 'Full Moon', 'time': '17:08', 'year': 2014}, {'day': 24, 'month': 3, 'phase': 'Last Quarter', 'time': '01:46', 'year': 2014}, {'day': 30, 'month': 3, 'phase': 'New Moon', 'time': '18:45', 'year': 2014}, {'day': 7, 'month': 4, 'phase': 'First Quarter', 'time': '08:31', 'year': 2014}, {'day': 15, 'month': 4, 'phase': 'Full Moon', 'time': '07:42', 'year': 2014}, {'day': 22, 'month': 4, 'phase': 'Last Quarter', 'time': '07:52', 'year': 2014}, {'day': 29, 'month': 4, 'phase': 'New Moon', 'time': '06:14', 'year': 2014}, {'day': 7, 'month': 5, 'phase': 'First Quarter', 'time': '03:15', 'year': 2014}, {'day': 14, 'month': 5, 'phase': 'Full Moon', 'time': '19:16', 'year': 2014}, {'day': 21, 'month': 5, 'phase': 'Last Quarter', 'time': '12:59', 'year': 2014}, {'day': 28, 'month': 5, 'phase': 'New Moon', 'time': '18:40', 'year': 2014}, {'day': 5, 'month': 6, 'phase': 'First Quarter', 'time': '20:39', 'year': 2014}, {'day': 13, 'month': 6, 'phase': 'Full Moon', 'time': '04:11', 'year': 2014}, {'day': 19, 'month': 6, 'phase': 'Last Quarter', 'time': '18:39', 'year': 2014}, {'day': 27, 'month': 6, 'phase': 'New Moon', 'time': '08:08', 'year': 2014}, {'day': 5, 'month': 7, 'phase': 'First Quarter', 'time': '11:59', 'year': 2014}, {'day': 12, 'month': 7, 'phase': 'Full Moon', 'time': '11:25', 'year': 2014}, {'day': 19, 'month': 7, 'phase': 'Last Quarter', 'time': '02:08', 'year': 2014}, {'day': 26, 'month': 7, 'phase': 'New Moon', 'time': '22:42', 'year': 2014}, {'day': 4, 'month': 8, 'phase': 'First Quarter', 'time': '00:50', 'year': 2014}, {'day': 10, 'month': 8, 'phase': 'Full Moon', 'time': '18:09', 'year': 2014}, {'day': 17, 'month': 8, 'phase': 'Last Quarter', 'time': '12:26', 'year': 2014}, {'day': 25, 'month': 8, 'phase': 'New Moon', 'time': '14:13', 'year': 2014}, {'day': 2, 'month': 9, 'phase': 'First Quarter', 'time': '11:11', 'year': 2014}, {'day': 9, 'month': 9, 'phase': 'Full Moon', 'time': '01:38', 'year': 2014}, {'day': 16, 'month': 9, 'phase': 'Last Quarter', 'time': '02:05', 'year': 2014}, {'day': 24, 'month': 9, 'phase': 'New Moon', 'time': '06:14', 'year': 2014}, {'day': 1, 'month': 10, 'phase': 'First Quarter', 'time': '19:33', 'year': 2014}, {'day': 8, 'month': 10, 'phase': 'Full Moon', 'time': '10:51', 'year': 2014}, {'day': 15, 'month': 10, 'phase': 'Last Quarter', 'time': '19:12', 'year': 2014}, {'day': 23, 'month': 10, 'phase': 'New Moon', 'time': '21:57', 'year': 2014}, {'day': 31, 'month': 10, 'phase': 'First Quarter', 'time': '02:48', 'year': 2014}, {'day': 6, 'month': 11, 'phase': 'Full Moon', 'time': '22:23', 'year': 2014}, {'day': 14, 'month': 11, 'phase': 'Last Quarter', 'time': '15:15', 'year': 2014}, {'day': 22, 'month': 11, 'phase': 'New Moon', 'time': '12:32', 'year': 2014}, {'day': 29, 'month': 11, 'phase': 'First Quarter', 'time': '10:06', 'year': 2014}, {'day': 6, 'month': 12, 'phase': 'Full Moon', 'time': '12:27', 'year': 2014}, {'day': 14, 'month': 12, 'phase': 'Last Quarter', 'time': '12:51', 'year': 2014}, {'day': 22, 'month': 12, 'phase': 'New Moon', 'time': '01:36', 'year': 2014}, {'day': 28, 'month': 12, 'phase': 'First Quarter', 'time': '18:31', 'year': 2014}], 'year': 2014}, {'apiversion': '4.0.1', 'numphases': 49, 'phasedata': [{'day': 5, 'month': 1, 'phase': 'Full Moon', 'time': '04:53', 'year': 2015}, {'day': 13, 'month': 1, 'phase': 'Last Quarter', 'time': '09:46', 'year': 2015}, {'day': 20, 'month': 1, 'phase': 'New Moon', 'time': '13:14', 'year': 2015}, {'day': 27, 'month': 1, 'phase': 'First Quarter', 'time': '04:48', 'year': 2015}, {'day': 3, 'month': 2, 'phase': 'Full Moon', 'time': '23:09', 'year': 2015}, {'day': 12, 'month': 2, 'phase': 'Last Quarter', 'time': '03:50', 'year': 2015}, {'day': 18, 'month': 2, 'phase': 'New Moon', 'time': '23:47', 'year': 2015}, {'day': 25, 'month': 2, 'phase': 'First Quarter', 'time': '17:14', 'year': 2015}, {'day': 5, 'month': 3, 'phase': 'Full Moon', 'time': '18:05', 'year': 2015}, {'day': 13, 'month': 3, 'phase': 'Last Quarter', 'time': '17:48', 'year': 2015}, {'day': 20, 'month': 3, 'phase': 'New Moon', 'time': '09:36', 'year': 2015}, {'day': 27, 'month': 3, 'phase': 'First Quarter', 'time': '07:43', 'year': 2015}, {'day': 4, 'month': 4, 'phase': 'Full Moon', 'time': '12:05', 'year': 2015}, {'day': 12, 'month': 4, 'phase': 'Last Quarter', 'time': '03:44', 'year': 2015}, {'day': 18, 'month': 4, 'phase': 'New Moon', 'time': '18:57', 'year': 2015}, {'day': 25, 'month': 4, 'phase': 'First Quarter', 'time': '23:55', 'year': 2015}, {'day': 4, 'month': 5, 'phase': 'Full Moon', 'time': '03:42', 'year': 2015}, {'day': 11, 'month': 5, 'phase': 'Last Quarter', 'time': '10:36', 'year': 2015}, {'day': 18, 'month': 5, 'phase': 'New Moon', 'time': '04:13', 'year': 2015}, {'day': 25, 'month': 5, 'phase': 'First Quarter', 'time': '17:19', 'year': 2015}, {'day': 2, 'month': 6, 'phase': 'Full Moon', 'time': '16:19', 'year': 2015}, {'day': 9, 'month': 6, 'phase': 'Last Quarter', 'time': '15:42', 'year': 2015}, {'day': 16, 'month': 6, 'phase': 'New Moon', 'time': '14:05', 'year': 2015}, {'day': 24, 'month': 6, 'phase': 'First Quarter', 'time': '11:02', 'year': 2015}, {'day': 2, 'month': 7, 'phase': 'Full Moon', 'time': '02:20', 'year': 2015}, {'day': 8, 'month': 7, 'phase': 'Last Quarter', 'time': '20:24', 'year': 2015}, {'day': 16, 'month': 7, 'phase': 'New Moon', 'time': '01:24', 'year': 2015}, {'day': 24, 'month': 7, 'phase': 'First Quarter', 'time': '04:04', 'year': 2015}, {'day': 31, 'month': 7, 'phase': 'Full Moon', 'time': '10:43', 'year': 2015}, {'day': 7, 'month': 8, 'phase': 'Last Quarter', 'time': '02:03', 'year': 2015}, {'day': 14, 'month': 8, 'phase': 'New Moon', 'time': '14:53', 'year': 2015}, {'day': 22, 'month': 8, 'phase': 'First Quarter', 'time': '19:31', 'year': 2015}, {'day': 29, 'month': 8, 'phase': 'Full Moon', 'time': '18:35', 'year': 2015}, {'day': 5, 'month': 9, 'phase': 'Last Quarter', 'time': '09:54', 'year': 2015}, {'day': 13, 'month': 9, 'phase': 'New Moon', 'time': '06:41', 'year': 2015}, {'day': 21, 'month': 9, 'phase': 'First Quarter', 'time': '08:59', 'year': 2015}, {'day': 28, 'month': 9, 'phase': 'Full Moon', 'time': '02:50', 'year': 2015}, {'day': 4, 'month': 10, 'phase': 'Last Quarter', 'time': '21:06', 'year': 2015}, {'day': 13, 'month': 10, 'phase': 'New Moon', 'time': '00:06', 'year': 2015}, {'day': 20, 'month': 10, 'phase': 'First Quarter', 'time': '20:31', 'year': 2015}, {'day': 27, 'month': 10, 'phase': 'Full Moon', 'time': '12:05', 'year': 2015}, {'day': 3, 'month': 11, 'phase': 'Last Quarter', 'time': '12:24', 'year': 2015}, {'day': 11, 'month': 11, 'phase': 'New Moon', 'time': '17:47', 'year': 2015}, {'day': 19, 'month': 11, 'phase': 'First Quarter', 'time': '06:27', 'year': 2015}, {'day': 25, 'month': 11, 'phase': 'Full Moon', 'time': '22:44', 'year': 2015}, {'day': 3, 'month': 12, 'phase': 'Last Quarter', 'time': '07:40', 'year': 2015}, {'day': 11, 'month': 12, 'phase': 'New Moon', 'time': '10:29', 'year': 2015}, {'day': 18, 'month': 12, 'phase': 'First Quarter', 'time': '15:14', 'year': 2015}, {'day': 25, 'month': 12, 'phase': 'Full Moon', 'time': '11:11', 'year': 2015}], 'year': 2015}, {'apiversion': '4.0.1', 'numphases': 50, 'phasedata': [{'day': 2, 'month': 1, 'phase': 'Last Quarter', 'time': '05:30', 'year': 2016}, {'day': 10, 'month': 1, 'phase': 'New Moon', 'time': '01:30', 'year': 2016}, {'day': 16, 'month': 1, 'phase': 'First Quarter', 'time': '23:26', 'year': 2016}, {'day': 24, 'month': 1, 'phase': 'Full Moon', 'time': '01:46', 'year': 2016}, {'day': 1, 'month': 2, 'phase': 'Last Quarter', 'time': '03:28', 'year': 2016}, {'day': 8, 'month': 2, 'phase': 'New Moon', 'time': '14:39', 'year': 2016}, {'day': 15, 'month': 2, 'phase': 'First Quarter', 'time': '07:46', 'year': 2016}, {'day': 22, 'month': 2, 'phase': 'Full Moon', 'time': '18:20', 'year': 2016}, {'day': 1, 'month': 3, 'phase': 'Last Quarter', 'time': '23:11', 'year': 2016}, {'day': 9, 'month': 3, 'phase': 'New Moon', 'time': '01:54', 'year': 2016}, {'day': 15, 'month': 3, 'phase': 'First Quarter', 'time': '17:03', 'year': 2016}, {'day': 23, 'month': 3, 'phase': 'Full Moon', 'time': '12:01', 'year': 2016}, {'day': 31, 'month': 3, 'phase': 'Last Quarter', 'time': '15:17', 'year': 2016}, {'day': 7, 'month': 4, 'phase': 'New Moon', 'time': '11:24', 'year': 2016}, {'day': 14, 'month': 4, 'phase': 'First Quarter', 'time': '03:59', 'year': 2016}, {'day': 22, 'month': 4, 'phase': 'Full Moon', 'time': '05:24', 'year': 2016}, {'day': 30, 'month': 4, 'phase': 'Last Quarter', 'time': '03:29', 'year': 2016}, {'day': 6, 'month': 5, 'phase': 'New Moon', 'time': '19:29', 'year': 2016}, {'day': 13, 'month': 5, 'phase': 'First Quarter', 'time': '17:02', 'year': 2016}, {'day': 21, 'month': 5, 'phase': 'Full Moon', 'time': '21:14', 'year': 2016}, {'day': 29, 'month': 5, 'phase': 'Last Quarter', 'time': '12:12', 'year': 2016}, {'day': 5, 'month': 6, 'phase': 'New Moon', 'time': '03:00', 'year': 2016}, {'day': 12, 'month': 6, 'phase': 'First Quarter', 'time': '08:10', 'year': 2016}, {'day': 20, 'month': 6, 'phase': 'Full Moon', 'time': '11:02', 'year': 2016}, {'day': 27, 'month': 6, 'phase': 'Last Quarter', 'time': '18:19', 'year': 2016}, {'day': 4, 'month': 7, 'phase': 'New Moon', 'time': '11:01', 'year': 2016}, {'day': 12, 'month': 7, 'phase': 'First Quarter', 'time': '00:52', 'year': 2016}, {'day': 19, 'month': 7, 'phase': 'Full Moon', 'time': '22:56', 'year': 2016}, {'day': 26, 'month': 7, 'phase': 'Last Quarter', 'time': '23:00', 'year': 2016}, {'day': 2, 'month': 8, 'phase': 'New Moon', 'time': '20:44', 'year': 2016}, {'day': 10, 'month': 8, 'phase': 'First Quarter', 'time': '18:21', 'year': 2016}, {'day': 18, 'month': 8, 'phase': 'Full Moon', 'time': '09:26', 'year': 2016}, {'day': 25, 'month': 8, 'phase': 'Last Quarter', 'time': '03:41', 'year': 2016}, {'day': 1, 'month': 9, 'phase': 'New Moon', 'time': '09:03', 'year': 2016}, {'day': 9, 'month': 9, 'phase': 'First Quarter', 'time': '11:49', 'year': 2016}, {'day': 16, 'month': 9, 'phase': 'Full Moon', 'time': '19:05', 'year': 2016}, {'day': 23, 'month': 9, 'phase': 'Last Quarter', 'time': '09:56', 'year': 2016}, {'day': 1, 'month': 10, 'phase': 'New Moon', 'time': '00:11', 'year': 2016}, {'day': 9, 'month': 10, 'phase': 'First Quarter', 'time': '04:33', 'year': 2016}, {'day': 16, 'month': 10, 'phase': 'Full Moon', 'time': '04:23', 'year': 2016}, {'day': 22, 'month': 10, 'phase': 'Last Quarter', 'time': '19:14', 'year': 2016}, {'day': 30, 'month': 10, 'phase': 'New Moon', 'time': '17:38', 'year': 2016}, {'day': 7, 'month': 11, 'phase': 'First Quarter', 'time': '19:51', 'year': 2016}, {'day': 14, 'month': 11, 'phase': 'Full Moon', 'time': '13:52', 'year': 2016}, {'day': 21, 'month': 11, 'phase': 'Last Quarter', 'time': '08:33', 'year': 2016}, {'day': 29, 'month': 11, 'phase': 'New Moon', 'time': '12:18', 'year': 2016}, {'day': 7, 'month': 12, 'phase': 'First Quarter', 'time': '09:03', 'year': 2016}, {'day': 14, 'month': 12, 'phase': 'Full Moon', 'time': '00:05', 'year': 2016}, {'day': 21, 'month': 12, 'phase': 'Last Quarter', 'time': '01:56', 'year': 2016}, {'day': 29, 'month': 12, 'phase': 'New Moon', 'time': '06:53', 'year': 2016}], 'year': 2016}, {'apiversion': '4.0.1', 'numphases': 49, 'phasedata': [{'day': 5, 'month': 1, 'phase': 'First Quarter', 'time': '19:47', 'year': 2017}, {'day': 12, 'month': 1, 'phase': 'Full Moon', 'time': '11:34', 'year': 2017}, {'day': 19, 'month': 1, 'phase': 'Last Quarter', 'time': '22:13', 'year': 2017}, {'day': 28, 'month': 1, 'phase': 'New Moon', 'time': '00:07', 'year': 2017}, {'day': 4, 'month': 2, 'phase': 'First Quarter', 'time': '04:19', 'year': 2017}, {'day': 11, 'month': 2, 'phase': 'Full Moon', 'time': '00:33', 'year': 2017}, {'day': 18, 'month': 2, 'phase': 'Last Quarter', 'time': '19:33', 'year': 2017}, {'day': 26, 'month': 2, 'phase': 'New Moon', 'time': '14:58', 'year': 2017}, {'day': 5, 'month': 3, 'phase': 'First Quarter', 'time': '11:32', 'year': 2017}, {'day': 12, 'month': 3, 'phase': 'Full Moon', 'time': '14:54', 'year': 2017}, {'day': 20, 'month': 3, 'phase': 'Last Quarter', 'time': '15:58', 'year': 2017}, {'day': 28, 'month': 3, 'phase': 'New Moon', 'time': '02:57', 'year': 2017}, {'day': 3, 'month': 4, 'phase': 'First Quarter', 'time': '18:39', 'year': 2017}, {'day': 11, 'month': 4, 'phase': 'Full Moon', 'time': '06:08', 'year': 2017}, {'day': 19, 'month': 4, 'phase': 'Last Quarter', 'time': '09:57', 'year': 2017}, {'day': 26, 'month': 4, 'phase': 'New Moon', 'time': '12:16', 'year': 2017}, {'day': 3, 'month': 5, 'phase': 'First Quarter', 'time': '02:47', 'year': 2017}, {'day': 10, 'month': 5, 'phase': 'Full Moon', 'time': '21:42', 'year': 2017}, {'day': 19, 'month': 5, 'phase': 'Last Quarter', 'time': '00:33', 'year': 2017}, {'day': 25, 'month': 5, 'phase': 'New Moon', 'time': '19:44', 'year': 2017}, {'day': 1, 'month': 6, 'phase': 'First Quarter', 'time': '12:42', 'year': 2017}, {'day': 9, 'month': 6, 'phase': 'Full Moon', 'time': '13:10', 'year': 2017}, {'day': 17, 'month': 6, 'phase': 'Last Quarter', 'time': '11:33', 'year': 2017}, {'day': 24, 'month': 6, 'phase': 'New Moon', 'time': '02:31', 'year': 2017}, {'day': 1, 'month': 7, 'phase': 'First Quarter', 'time': '00:51', 'year': 2017}, {'day': 9, 'month': 7, 'phase': 'Full Moon', 'time': '04:07', 'year': 2017}, {'day': 16, 'month': 7, 'phase': 'Last Quarter', 'time': '19:26', 'year': 2017}, {'day': 23, 'month': 7, 'phase': 'New Moon', 'time': '09:46', 'year': 2017}, {'day': 30, 'month': 7, 'phase': 'First Quarter', 'time': '15:23', 'year': 2017}, {'day': 7, 'month': 8, 'phase': 'Full Moon', 'time': '18:11', 'year': 2017}, {'day': 15, 'month': 8, 'phase': 'Last Quarter', 'time': '01:15', 'year': 2017}, {'day': 21, 'month': 8, 'phase': 'New Moon', 'time': '18:30', 'year': 2017}, {'day': 29, 'month': 8, 'phase': 'First Quarter', 'time': '08:13', 'year': 2017}, {'day': 6, 'month': 9, 'phase': 'Full Moon', 'time': '07:03', 'year': 2017}, {'day': 13, 'month': 9, 'phase': 'Last Quarter', 'time': '06:25', 'year': 2017}, {'day': 20, 'month': 9, 'phase': 'New Moon', 'time': '05:30', 'year': 2017}, {'day': 28, 'month': 9, 'phase': 'First Quarter', 'time': '02:53', 'year': 2017}, {'day': 5, 'month': 10, 'phase': 'Full Moon', 'time': '18:40', 'year': 2017}, {'day': 12, 'month': 10, 'phase': 'Last Quarter', 'time': '12:25', 'year': 2017}, {'day': 19, 'month': 10, 'phase': 'New Moon', 'time': '19:12', 'year': 2017}, {'day': 27, 'month': 10, 'phase': 'First Quarter', 'time': '22:22', 'year': 2017}, {'day': 4, 'month': 11, 'phase': 'Full Moon', 'time': '05:23', 'year': 2017}, {'day': 10, 'month': 11, 'phase': 'Last Quarter', 'time': '20:36', 'year': 2017}, {'day': 18, 'month': 11, 'phase': 'New Moon', 'time': '11:42', 'year': 2017}, {'day': 26, 'month': 11, 'phase': 'First Quarter', 'time': '17:03', 'year': 2017}, {'day': 3, 'month': 12, 'phase': 'Full Moon', 'time': '15:47', 'year': 2017}, {'day': 10, 'month': 12, 'phase': 'Last Quarter', 'time': '07:51', 'year': 2017}, {'day': 18, 'month': 12, 'phase': 'New Moon', 'time': '06:30', 'year': 2017}, {'day': 26, 'month': 12, 'phase': 'First Quarter', 'time': '09:20', 'year': 2017}], 'year': 2017}, {'apiversion': '4.0.1', 'numphases': 50, 'phasedata': [{'day': 2, 'month': 1, 'phase': 'Full Moon', 'time': '02:24', 'year': 2018}, {'day': 8, 'month': 1, 'phase': 'Last Quarter', 'time': '22:25', 'year': 2018}, {'day': 17, 'month': 1, 'phase': 'New Moon', 'time': '02:17', 'year': 2018}, {'day': 24, 'month': 1, 'phase': 'First Quarter', 'time': '22:20', 'year': 2018}, {'day': 31, 'month': 1, 'phase': 'Full Moon', 'time': '13:27', 'year': 2018}, {'day': 7, 'month': 2, 'phase': 'Last Quarter', 'time': '15:54', 'year': 2018}, {'day': 15, 'month': 2, 'phase': 'New Moon', 'time': '21:05', 'year': 2018}, {'day': 23, 'month': 2, 'phase': 'First Quarter', 'time': '08:09', 'year': 2018}, {'day': 2, 'month': 3, 'phase': 'Full Moon', 'time': '00:51', 'year': 2018}, {'day': 9, 'month': 3, 'phase': 'Last Quarter', 'time': '11:20', 'year': 2018}, {'day': 17, 'month': 3, 'phase': 'New Moon', 'time': '13:12', 'year': 2018}, {'day': 24, 'month': 3, 'phase': 'First Quarter', 'time': '15:35', 'year': 2018}, {'day': 31, 'month': 3, 'phase': 'Full Moon', 'time': '12:37', 'year': 2018}, {'day': 8, 'month': 4, 'phase': 'Last Quarter', 'time': '07:17', 'year': 2018}, {'day': 16, 'month': 4, 'phase': 'New Moon', 'time': '01:57', 'year': 2018}, {'day': 22, 'month': 4, 'phase': 'First Quarter', 'time': '21:46', 'year': 2018}, {'day': 30, 'month': 4, 'phase': 'Full Moon', 'time': '00:58', 'year': 2018}, {'day': 8, 'month': 5, 'phase': 'Last Quarter', 'time': '02:09', 'year': 2018}, {'day': 15, 'month': 5, 'phase': 'New Moon', 'time': '11:48', 'year': 2018}, {'day': 22, 'month': 5, 'phase': 'First Quarter', 'time': '03:49', 'year': 2018}, {'day': 29, 'month': 5, 'phase': 'Full Moon', 'time': '14:19', 'year': 2018}, {'day': 6, 'month': 6, 'phase': 'Last Quarter', 'time': '18:32', 'year': 2018}, {'day': 13, 'month': 6, 'phase': 'New Moon', 'time': '19:43', 'year': 2018}, {'day': 20, 'month': 6, 'phase': 'First Quarter', 'time': '10:51', 'year': 2018}, {'day': 28, 'month': 6, 'phase': 'Full Moon', 'time': '04:53', 'year': 2018}, {'day': 6, 'month': 7, 'phase': 'Last Quarter', 'time': '07:51', 'year': 2018}, {'day': 13, 'month': 7, 'phase': 'New Moon', 'time': '02:48', 'year': 2018}, {'day': 19, 'month': 7, 'phase': 'First Quarter', 'time': '19:52', 'year': 2018}, {'day': 27, 'month': 7, 'phase': 'Full Moon', 'time': '20:20', 'year': 2018}, {'day': 4, 'month': 8, 'phase': 'Last Quarter', 'time': '18:18', 'year': 2018}, {'day': 11, 'month': 8, 'phase': 'New Moon', 'time': '09:58', 'year': 2018}, {'day': 18, 'month': 8, 'phase': 'First Quarter', 'time': '07:48', 'year': 2018}, {'day': 26, 'month': 8, 'phase': 'Full Moon', 'time': '11:56', 'year': 2018}, {'day': 3, 'month': 9, 'phase': 'Last Quarter', 'time': '02:37', 'year': 2018}, {'day': 9, 'month': 9, 'phase': 'New Moon', 'time': '18:01', 'year': 2018}, {'day': 16, 'month': 9, 'phase': 'First Quarter', 'time': '23:15', 'year': 2018}, {'day': 25, 'month': 9, 'phase': 'Full Moon', 'time': '02:52', 'year': 2018}, {'day': 2, 'month': 10, 'phase': 'Last Quarter', 'time': '09:45', 'year': 2018}, {'day': 9, 'month': 10, 'phase': 'New Moon', 'time': '03:47', 'year': 2018}, {'day': 16, 'month': 10, 'phase': 'First Quarter', 'time': '18:02', 'year': 2018}, {'day': 24, 'month': 10, 'phase': 'Full Moon', 'time': '16:45', 'year': 2018}, {'day': 31, 'month': 10, 'phase': 'Last Quarter', 'time': '16:40', 'year': 2018}, {'day': 7, 'month': 11, 'phase': 'New Moon', 'time': '16:02', 'year': 2018}, {'day': 15, 'month': 11, 'phase': 'First Quarter', 'time': '14:54', 'year': 2018}, {'day': 23, 'month': 11, 'phase': 'Full Moon', 'time': '05:39', 'year': 2018}, {'day': 30, 'month': 11, 'phase': 'Last Quarter', 'time': '00:19', 'year': 2018}, {'day': 7, 'month': 12, 'phase': 'New Moon', 'time': '07:20', 'year': 2018}, {'day': 15, 'month': 12, 'phase': 'First Quarter', 'time': '11:49', 'year': 2018}, {'day': 22, 'month': 12, 'phase': 'Full Moon', 'time': '17:49', 'year': 2018}, {'day': 29, 'month': 12, 'phase': 'Last Quarter', 'time': '09:34', 'year': 2018}], 'year': 2018}, {'apiversion': '4.0.1', 'numphases': 49, 'phasedata': [{'day': 6, 'month': 1, 'phase': 'New Moon', 'time': '01:28', 'year': 2019}, {'day': 14, 'month': 1, 'phase': 'First Quarter', 'time': '06:45', 'year': 2019}, {'day': 21, 'month': 1, 'phase': 'Full Moon', 'time': '05:16', 'year': 2019}, {'day': 27, 'month': 1, 'phase': 'Last Quarter', 'time': '21:10', 'year': 2019}, {'day': 4, 'month': 2, 'phase': 'New Moon', 'time': '21:04', 'year': 2019}, {'day': 12, 'month': 2, 'phase': 'First Quarter', 'time': '22:26', 'year': 2019}, {'day': 19, 'month': 2, 'phase': 'Full Moon', 'time': '15:53', 'year': 2019}, {'day': 26, 'month': 2, 'phase': 'Last Quarter', 'time': '11:28', 'year': 2019}, {'day': 6, 'month': 3, 'phase': 'New Moon', 'time': '16:04', 'year': 2019}, {'day': 14, 'month': 3, 'phase': 'First Quarter', 'time': '10:27', 'year': 2019}, {'day': 21, 'month': 3, 'phase': 'Full Moon', 'time': '01:43', 'year': 2019}, {'day': 28, 'month': 3, 'phase': 'Last Quarter', 'time': '04:10', 'year': 2019}, {'day': 5, 'month': 4, 'phase': 'New Moon', 'time': '08:50', 'year': 2019}, {'day': 12, 'month': 4, 'phase': 'First Quarter', 'time': '19:06', 'year': 2019}, {'day': 19, 'month': 4, 'phase': 'Full Moon', 'time': '11:12', 'year': 2019}, {'day': 26, 'month': 4, 'phase': 'Last Quarter', 'time': '22:18', 'year': 2019}, {'day': 4, 'month': 5, 'phase': 'New Moon', 'time': '22:45', 'year': 2019}, {'day': 12, 'month': 5, 'phase': 'First Quarter', 'time': '01:12', 'year': 2019}, {'day': 18, 'month': 5, 'phase': 'Full Moon', 'time': '21:11', 'year': 2019}, {'day': 26, 'month': 5, 'phase': 'Last Quarter', 'time': '16:34', 'year': 2019}, {'day': 3, 'month': 6, 'phase': 'New Moon', 'time': '10:02', 'year': 2019}, {'day': 10, 'month': 6, 'phase': 'First Quarter', 'time': '05:59', 'year': 2019}, {'day': 17, 'month': 6, 'phase': 'Full Moon', 'time': '08:31', 'year': 2019}, {'day': 25, 'month': 6, 'phase': 'Last Quarter', 'time': '09:46', 'year': 2019}, {'day': 2, 'month': 7, 'phase': 'New Moon', 'time': '19:16', 'year': 2019}, {'day': 9, 'month': 7, 'phase': 'First Quarter', 'time': '10:55', 'year': 2019}, {'day': 16, 'month': 7, 'phase': 'Full Moon', 'time': '21:38', 'year': 2019}, {'day': 25, 'month': 7, 'phase': 'Last Quarter', 'time': '01:18', 'year': 2019}, {'day': 1, 'month': 8, 'phase': 'New Moon', 'time': '03:12', 'year': 2019}, {'day': 7, 'month': 8, 'phase': 'First Quarter', 'time': '17:31', 'year': 2019}, {'day': 15, 'month': 8, 'phase': 'Full Moon', 'time': '12:29', 'year': 2019}, {'day': 23, 'month': 8, 'phase': 'Last Quarter', 'time': '14:56', 'year': 2019}, {'day': 30, 'month': 8, 'phase': 'New Moon', 'time': '10:37', 'year': 2019}, {'day': 6, 'month': 9, 'phase': 'First Quarter', 'time': '03:10', 'year': 2019}, {'day': 14, 'month': 9, 'phase': 'Full Moon', 'time': '04:33', 'year': 2019}, {'day': 22, 'month': 9, 'phase': 'Last Quarter', 'time': '02:41', 'year': 2019}, {'day': 28, 'month': 9, 'phase': 'New Moon', 'time': '18:26', 'year': 2019}, {'day': 5, 'month': 10, 'phase': 'First Quarter', 'time': '16:47', 'year': 2019}, {'day': 13, 'month': 10, 'phase': 'Full Moon', 'time': '21:08', 'year': 2019}, {'day': 21, 'month': 10, 'phase': 'Last Quarter', 'time': '12:39', 'year': 2019}, {'day': 28, 'month': 10, 'phase': 'New Moon', 'time': '03:38', 'year': 2019}, {'day': 4, 'month': 11, 'phase': 'First Quarter', 'time': '10:23', 'year': 2019}, {'day': 12, 'month': 11, 'phase': 'Full Moon', 'time': '13:34', 'year': 2019}, {'day': 19, 'month': 11, 'phase': 'Last Quarter', 'time': '21:11', 'year': 2019}, {'day': 26, 'month': 11, 'phase': 'New Moon', 'time': '15:06', 'year': 2019}, {'day': 4, 'month': 12, 'phase': 'First Quarter', 'time': '06:58', 'year': 2019}, {'day': 12, 'month': 12, 'phase': 'Full Moon', 'time': '05:12', 'year': 2019}, {'day': 19, 'month': 12, 'phase': 'Last Quarter', 'time': '04:57', 'year': 2019}, {'day': 26, 'month': 12, 'phase': 'New Moon', 'time': '05:13', 'year': 2019}], 'year': 2019}]\n"
     ]
    }
   ],
   "source": [
    "import json #imported the json library\n",
    "import urllib.request #help in opening URLs\n",
    "import pandas as pd \n",
    "\n",
    "json_list = [] #created an empty list to append all the years \n",
    "for year in range(1970,2020): #created a for loop to iterate through all years, changing the year at the end of the URL in {year}\n",
    "    f = urllib.request.urlopen(f'https://aa.usno.navy.mil/api/moon/phases/year?year={year}') #setting a variable F to store the years\n",
    "    json_list.append(json.load(f)) #append all the data in the list to our empty list json_list = []\n",
    "\n",
    "print(json_list)"
   ]
  },
  {
   "cell_type": "code",
   "execution_count": 47,
   "metadata": {},
   "outputs": [],
   "source": [
    "year_dfs = [] #created an empty list to store the list in a data frame\n",
    "for year_json in json_list: #initiated a forloop to iterate through the years in the list\n",
    "    year_dfs.append(pd.DataFrame(year_json['phasedata'])) #append all data into data frame\n"
   ]
  },
  {
   "cell_type": "code",
   "execution_count": 48,
   "metadata": {},
   "outputs": [],
   "source": [
    "moon_data = pd.concat(year_dfs, ignore_index=True) #concatenated the data for all years here, so that the years are aggregated and when we print the data frame, we get a comprehensive output, not just the output for one year"
   ]
  },
  {
   "cell_type": "code",
   "execution_count": 49,
   "metadata": {},
   "outputs": [
    {
     "data": {
      "text/html": [
       "<div>\n",
       "<style scoped>\n",
       "    .dataframe tbody tr th:only-of-type {\n",
       "        vertical-align: middle;\n",
       "    }\n",
       "\n",
       "    .dataframe tbody tr th {\n",
       "        vertical-align: top;\n",
       "    }\n",
       "\n",
       "    .dataframe thead th {\n",
       "        text-align: right;\n",
       "    }\n",
       "</style>\n",
       "<table border=\"1\" class=\"dataframe\">\n",
       "  <thead>\n",
       "    <tr style=\"text-align: right;\">\n",
       "      <th></th>\n",
       "      <th>day</th>\n",
       "      <th>month</th>\n",
       "      <th>phase</th>\n",
       "      <th>time</th>\n",
       "      <th>year</th>\n",
       "    </tr>\n",
       "  </thead>\n",
       "  <tbody>\n",
       "    <tr>\n",
       "      <th>0</th>\n",
       "      <td>7</td>\n",
       "      <td>1</td>\n",
       "      <td>New Moon</td>\n",
       "      <td>20:35</td>\n",
       "      <td>1970</td>\n",
       "    </tr>\n",
       "    <tr>\n",
       "      <th>1</th>\n",
       "      <td>14</td>\n",
       "      <td>1</td>\n",
       "      <td>First Quarter</td>\n",
       "      <td>13:18</td>\n",
       "      <td>1970</td>\n",
       "    </tr>\n",
       "    <tr>\n",
       "      <th>2</th>\n",
       "      <td>22</td>\n",
       "      <td>1</td>\n",
       "      <td>Full Moon</td>\n",
       "      <td>12:55</td>\n",
       "      <td>1970</td>\n",
       "    </tr>\n",
       "    <tr>\n",
       "      <th>3</th>\n",
       "      <td>30</td>\n",
       "      <td>1</td>\n",
       "      <td>Last Quarter</td>\n",
       "      <td>14:38</td>\n",
       "      <td>1970</td>\n",
       "    </tr>\n",
       "    <tr>\n",
       "      <th>4</th>\n",
       "      <td>6</td>\n",
       "      <td>2</td>\n",
       "      <td>New Moon</td>\n",
       "      <td>07:13</td>\n",
       "      <td>1970</td>\n",
       "    </tr>\n",
       "  </tbody>\n",
       "</table>\n",
       "</div>"
      ],
      "text/plain": [
       "   day  month          phase   time  year\n",
       "0    7      1       New Moon  20:35  1970\n",
       "1   14      1  First Quarter  13:18  1970\n",
       "2   22      1      Full Moon  12:55  1970\n",
       "3   30      1   Last Quarter  14:38  1970\n",
       "4    6      2       New Moon  07:13  1970"
      ]
     },
     "execution_count": 49,
     "metadata": {},
     "output_type": "execute_result"
    }
   ],
   "source": [
    "moon_data.head() #getting a first glance at the data"
   ]
  },
  {
   "cell_type": "markdown",
   "metadata": {},
   "source": [
    "Cleaning the moon phases data"
   ]
  },
  {
   "cell_type": "code",
   "execution_count": 50,
   "metadata": {},
   "outputs": [],
   "source": [
    "moon_data['date_clean'] = pd.to_datetime(moon_data[['day', 'month', 'year']]) #organizing date format\n"
   ]
  },
  {
   "cell_type": "code",
   "execution_count": 51,
   "metadata": {},
   "outputs": [],
   "source": [
    "moon_data  = moon_data.dropna(subset = ['phase'])  #drop the NAN's of the moon data"
   ]
  },
  {
   "cell_type": "code",
   "execution_count": 52,
   "metadata": {},
   "outputs": [
    {
     "data": {
      "text/plain": [
       "array(['1970-01-07T00:00:00.000000000', '1970-01-14T00:00:00.000000000',\n",
       "       '1970-01-22T00:00:00.000000000', ...,\n",
       "       '2019-12-12T00:00:00.000000000', '2019-12-19T00:00:00.000000000',\n",
       "       '2019-12-26T00:00:00.000000000'], dtype='datetime64[ns]')"
      ]
     },
     "execution_count": 52,
     "metadata": {},
     "output_type": "execute_result"
    }
   ],
   "source": [
    "moon_data['date_clean'].unique() #ensuring everything is cleaned"
   ]
  },
  {
   "cell_type": "code",
   "execution_count": 53,
   "metadata": {},
   "outputs": [
    {
     "name": "stdout",
     "output_type": "stream",
     "text": [
      "           Date    Year        Type       Country                  State  \\\n",
      "5   04-Feb-2024  2024.0    Provoked      TRINIDAD                    NaN   \n",
      "8   09-Jan-2024  2024.0  Unprovoked     AUSTRALIA        South Australia   \n",
      "9   05-Jan-2024  2024.0    Provoked  SOUTH AFRICA  Eastern Cape Province   \n",
      "14  24-Dec-2023  2023.0  Unprovoked     AUSTRALIA      Western Australia   \n",
      "70  23-Jun-2023  2023.0  Unprovoked           USA                Florida   \n",
      "\n",
      "                       Location               Name Sex  Age  \\\n",
      "5                           NaN               male   M  NaN   \n",
      "8       Walkers Beach, Elliston       Murray Adams   M   64   \n",
      "9                 Papiesfontein               male   M   62   \n",
      "14                 Wedge Island         Troy Brown   M   46   \n",
      "70  Cocoa Beach, Brevard County  Magnolia Woodhead   F   !2   \n",
      "\n",
      "                                               Injury   Time  \\\n",
      "5                                     Shoulder bitten  06h30   \n",
      "8                                          Leg bitten  13h00   \n",
      "9   Provoked incident. Lacerations and puncture wo...    NaN   \n",
      "14                     Puncture wounds to right ankle  15h00   \n",
      "70            Multiple puncture wounds to right thigh    NaN   \n",
      "\n",
      "               Species                         Source href date_clean  \n",
      "5   Blacktip reef shark  Trinidad Guardian, 2/11/2014  NaN 2024-02-04  \n",
      "8           White shark               A. Currie, GSAF  NaN 2024-01-09  \n",
      "9     Raggedtooth shark       Jacaranda fm. 12/6/2024  NaN 2024-01-05  \n",
      "14        Broze whaler?            9 News, 12/25/2023  NaN 2023-12-24  \n",
      "70                  NaN             Fox 35, 6/29/2023  NaN 2023-06-23  \n",
      "   day  month          phase   time  year date_clean\n",
      "0    7      1       New Moon  20:35  1970 1970-01-07\n",
      "1   14      1  First Quarter  13:18  1970 1970-01-14\n",
      "2   22      1      Full Moon  12:55  1970 1970-01-22\n",
      "3   30      1   Last Quarter  14:38  1970 1970-01-30\n",
      "4    6      2       New Moon  07:13  1970 1970-02-06\n"
     ]
    }
   ],
   "source": [
    "print(sharks.head()) #getting a glimpse into both data sets, to get an initial idea of how to merge\n",
    "print(moon_data.head())"
   ]
  },
  {
   "cell_type": "markdown",
   "metadata": {},
   "source": [
    "Now, time to merge both data sets!"
   ]
  },
  {
   "cell_type": "code",
   "execution_count": 103,
   "metadata": {},
   "outputs": [],
   "source": [
    "merged_data = sharks.merge(moon_data, on='date_clean', how='left') #merging to the left"
   ]
  },
  {
   "cell_type": "code",
   "execution_count": 104,
   "metadata": {},
   "outputs": [],
   "source": [
    "phase_count = {} #creating a dictionary to count how many times shark attack dates match up with moon phases from our data\n",
    "for phase in merged_data['phase'].unique():\n",
    "    phase_count[phase] = len(merged_data[merged_data['phase'] == phase])"
   ]
  },
  {
   "cell_type": "code",
   "execution_count": 105,
   "metadata": {},
   "outputs": [
    {
     "data": {
      "text/plain": [
       "{nan: 0,\n",
       " 'New Moon': 104,\n",
       " 'Full Moon': 116,\n",
       " 'First Quarter': 117,\n",
       " 'Last Quarter': 79}"
      ]
     },
     "execution_count": 105,
     "metadata": {},
     "output_type": "execute_result"
    }
   ],
   "source": [
    "phase_count"
   ]
  },
  {
   "cell_type": "code",
   "execution_count": 106,
   "metadata": {},
   "outputs": [],
   "source": [
    "if 'nan' in phase_count: #cleaning the nans in phase count\n",
    "    del phase_count['nan']"
   ]
  },
  {
   "cell_type": "code",
   "execution_count": 107,
   "metadata": {},
   "outputs": [],
   "source": [
    "# prepare data for plotting\n",
    "phases = list(phase_count.keys())\n",
    "counts = list(phase_count.values())"
   ]
  },
  {
   "cell_type": "markdown",
   "metadata": {},
   "source": [
    "Merged data, which illustrates the amount of shark attacks that happen during different moon phases. In this case there are 416 individual attacks"
   ]
  },
  {
   "cell_type": "code",
   "execution_count": 108,
   "metadata": {},
   "outputs": [
    {
     "data": {
      "text/html": [
       "<div>\n",
       "<style scoped>\n",
       "    .dataframe tbody tr th:only-of-type {\n",
       "        vertical-align: middle;\n",
       "    }\n",
       "\n",
       "    .dataframe tbody tr th {\n",
       "        vertical-align: top;\n",
       "    }\n",
       "\n",
       "    .dataframe thead th {\n",
       "        text-align: right;\n",
       "    }\n",
       "</style>\n",
       "<table border=\"1\" class=\"dataframe\">\n",
       "  <thead>\n",
       "    <tr style=\"text-align: right;\">\n",
       "      <th></th>\n",
       "      <th>Date</th>\n",
       "      <th>Year</th>\n",
       "      <th>Type</th>\n",
       "      <th>Country</th>\n",
       "      <th>State</th>\n",
       "      <th>Location</th>\n",
       "      <th>Name</th>\n",
       "      <th>Sex</th>\n",
       "      <th>Age</th>\n",
       "      <th>Injury</th>\n",
       "      <th>Time</th>\n",
       "      <th>Species</th>\n",
       "      <th>Source</th>\n",
       "      <th>href</th>\n",
       "      <th>date_clean</th>\n",
       "      <th>day</th>\n",
       "      <th>month</th>\n",
       "      <th>phase</th>\n",
       "      <th>time</th>\n",
       "      <th>year</th>\n",
       "    </tr>\n",
       "  </thead>\n",
       "  <tbody>\n",
       "    <tr>\n",
       "      <th>0</th>\n",
       "      <td>04-Feb-2024</td>\n",
       "      <td>2024.0</td>\n",
       "      <td>Provoked</td>\n",
       "      <td>TRINIDAD</td>\n",
       "      <td>NaN</td>\n",
       "      <td>NaN</td>\n",
       "      <td>male</td>\n",
       "      <td>M</td>\n",
       "      <td>NaN</td>\n",
       "      <td>Shoulder bitten</td>\n",
       "      <td>06h30</td>\n",
       "      <td>Blacktip reef shark</td>\n",
       "      <td>Trinidad Guardian, 2/11/2014</td>\n",
       "      <td>NaN</td>\n",
       "      <td>2024-02-04</td>\n",
       "      <td>NaN</td>\n",
       "      <td>NaN</td>\n",
       "      <td>NaN</td>\n",
       "      <td>NaN</td>\n",
       "      <td>NaN</td>\n",
       "    </tr>\n",
       "    <tr>\n",
       "      <th>1</th>\n",
       "      <td>09-Jan-2024</td>\n",
       "      <td>2024.0</td>\n",
       "      <td>Unprovoked</td>\n",
       "      <td>AUSTRALIA</td>\n",
       "      <td>South Australia</td>\n",
       "      <td>Walkers Beach, Elliston</td>\n",
       "      <td>Murray Adams</td>\n",
       "      <td>M</td>\n",
       "      <td>64</td>\n",
       "      <td>Leg bitten</td>\n",
       "      <td>13h00</td>\n",
       "      <td>White shark</td>\n",
       "      <td>A. Currie, GSAF</td>\n",
       "      <td>NaN</td>\n",
       "      <td>2024-01-09</td>\n",
       "      <td>NaN</td>\n",
       "      <td>NaN</td>\n",
       "      <td>NaN</td>\n",
       "      <td>NaN</td>\n",
       "      <td>NaN</td>\n",
       "    </tr>\n",
       "    <tr>\n",
       "      <th>2</th>\n",
       "      <td>05-Jan-2024</td>\n",
       "      <td>2024.0</td>\n",
       "      <td>Provoked</td>\n",
       "      <td>SOUTH AFRICA</td>\n",
       "      <td>Eastern Cape Province</td>\n",
       "      <td>Papiesfontein</td>\n",
       "      <td>male</td>\n",
       "      <td>M</td>\n",
       "      <td>62</td>\n",
       "      <td>Provoked incident. Lacerations and puncture wo...</td>\n",
       "      <td>NaN</td>\n",
       "      <td>Raggedtooth shark</td>\n",
       "      <td>Jacaranda fm. 12/6/2024</td>\n",
       "      <td>NaN</td>\n",
       "      <td>2024-01-05</td>\n",
       "      <td>NaN</td>\n",
       "      <td>NaN</td>\n",
       "      <td>NaN</td>\n",
       "      <td>NaN</td>\n",
       "      <td>NaN</td>\n",
       "    </tr>\n",
       "    <tr>\n",
       "      <th>3</th>\n",
       "      <td>24-Dec-2023</td>\n",
       "      <td>2023.0</td>\n",
       "      <td>Unprovoked</td>\n",
       "      <td>AUSTRALIA</td>\n",
       "      <td>Western Australia</td>\n",
       "      <td>Wedge Island</td>\n",
       "      <td>Troy Brown</td>\n",
       "      <td>M</td>\n",
       "      <td>46</td>\n",
       "      <td>Puncture wounds to right ankle</td>\n",
       "      <td>15h00</td>\n",
       "      <td>Broze whaler?</td>\n",
       "      <td>9 News, 12/25/2023</td>\n",
       "      <td>NaN</td>\n",
       "      <td>2023-12-24</td>\n",
       "      <td>NaN</td>\n",
       "      <td>NaN</td>\n",
       "      <td>NaN</td>\n",
       "      <td>NaN</td>\n",
       "      <td>NaN</td>\n",
       "    </tr>\n",
       "    <tr>\n",
       "      <th>4</th>\n",
       "      <td>23-Jun-2023</td>\n",
       "      <td>2023.0</td>\n",
       "      <td>Unprovoked</td>\n",
       "      <td>USA</td>\n",
       "      <td>Florida</td>\n",
       "      <td>Cocoa Beach, Brevard County</td>\n",
       "      <td>Magnolia Woodhead</td>\n",
       "      <td>F</td>\n",
       "      <td>!2</td>\n",
       "      <td>Multiple puncture wounds to right thigh</td>\n",
       "      <td>NaN</td>\n",
       "      <td>NaN</td>\n",
       "      <td>Fox 35, 6/29/2023</td>\n",
       "      <td>NaN</td>\n",
       "      <td>2023-06-23</td>\n",
       "      <td>NaN</td>\n",
       "      <td>NaN</td>\n",
       "      <td>NaN</td>\n",
       "      <td>NaN</td>\n",
       "      <td>NaN</td>\n",
       "    </tr>\n",
       "    <tr>\n",
       "      <th>...</th>\n",
       "      <td>...</td>\n",
       "      <td>...</td>\n",
       "      <td>...</td>\n",
       "      <td>...</td>\n",
       "      <td>...</td>\n",
       "      <td>...</td>\n",
       "      <td>...</td>\n",
       "      <td>...</td>\n",
       "      <td>...</td>\n",
       "      <td>...</td>\n",
       "      <td>...</td>\n",
       "      <td>...</td>\n",
       "      <td>...</td>\n",
       "      <td>...</td>\n",
       "      <td>...</td>\n",
       "      <td>...</td>\n",
       "      <td>...</td>\n",
       "      <td>...</td>\n",
       "      <td>...</td>\n",
       "      <td>...</td>\n",
       "    </tr>\n",
       "    <tr>\n",
       "      <th>3336</th>\n",
       "      <td>23-Jan-1970</td>\n",
       "      <td>1970.0</td>\n",
       "      <td>Unprovoked</td>\n",
       "      <td>MOZAMBIQUE</td>\n",
       "      <td>Limpopo River</td>\n",
       "      <td>Gijana, 150 km inland</td>\n",
       "      <td>Betual Tivane</td>\n",
       "      <td>M</td>\n",
       "      <td>16</td>\n",
       "      <td>Leg severed at knee</td>\n",
       "      <td>NaN</td>\n",
       "      <td>Zambesi shark</td>\n",
       "      <td>Natal Daily News, 2/4/1970; D. Davies</td>\n",
       "      <td>http://sharkattackfile.net/spreadsheets/pdf_di...</td>\n",
       "      <td>1970-01-23</td>\n",
       "      <td>NaN</td>\n",
       "      <td>NaN</td>\n",
       "      <td>NaN</td>\n",
       "      <td>NaN</td>\n",
       "      <td>NaN</td>\n",
       "    </tr>\n",
       "    <tr>\n",
       "      <th>3337</th>\n",
       "      <td>23-Jan-1970</td>\n",
       "      <td>1970.0</td>\n",
       "      <td>Unprovoked</td>\n",
       "      <td>MOZAMBIQUE</td>\n",
       "      <td>Limpopo River</td>\n",
       "      <td>Gijana, 150 km inland</td>\n",
       "      <td>Mabua Mogadura</td>\n",
       "      <td>M</td>\n",
       "      <td>12</td>\n",
       "      <td>Arm severed, thigh bitten</td>\n",
       "      <td>NaN</td>\n",
       "      <td>Zambesi shark</td>\n",
       "      <td>Natal Daily News, 2/4/1970; D. Davies</td>\n",
       "      <td>http://sharkattackfile.net/spreadsheets/pdf_di...</td>\n",
       "      <td>1970-01-23</td>\n",
       "      <td>NaN</td>\n",
       "      <td>NaN</td>\n",
       "      <td>NaN</td>\n",
       "      <td>NaN</td>\n",
       "      <td>NaN</td>\n",
       "    </tr>\n",
       "    <tr>\n",
       "      <th>3338</th>\n",
       "      <td>23-Jan-1970</td>\n",
       "      <td>1970.0</td>\n",
       "      <td>Unprovoked</td>\n",
       "      <td>MOZAMBIQUE</td>\n",
       "      <td>Limpopo River</td>\n",
       "      <td>Gijana, 150 km inland</td>\n",
       "      <td>Elissane Mobunda</td>\n",
       "      <td>M</td>\n",
       "      <td>10</td>\n",
       "      <td>Leg severed at knee</td>\n",
       "      <td>NaN</td>\n",
       "      <td>Zambesi shark</td>\n",
       "      <td>Natal Daily News, 2/4/1970; D. Davies</td>\n",
       "      <td>http://sharkattackfile.net/spreadsheets/pdf_di...</td>\n",
       "      <td>1970-01-23</td>\n",
       "      <td>NaN</td>\n",
       "      <td>NaN</td>\n",
       "      <td>NaN</td>\n",
       "      <td>NaN</td>\n",
       "      <td>NaN</td>\n",
       "    </tr>\n",
       "    <tr>\n",
       "      <th>3339</th>\n",
       "      <td>10-Jan-1970</td>\n",
       "      <td>1970.0</td>\n",
       "      <td>Unprovoked</td>\n",
       "      <td>MEXICO</td>\n",
       "      <td>Guerrero</td>\n",
       "      <td>Acapulco</td>\n",
       "      <td>Jack Kardell</td>\n",
       "      <td>M</td>\n",
       "      <td>22</td>\n",
       "      <td>Leg bitten</td>\n",
       "      <td>NaN</td>\n",
       "      <td>NaN</td>\n",
       "      <td>A. Resciniti, p.110</td>\n",
       "      <td>http://sharkattackfile.net/spreadsheets/pdf_di...</td>\n",
       "      <td>1970-01-10</td>\n",
       "      <td>NaN</td>\n",
       "      <td>NaN</td>\n",
       "      <td>NaN</td>\n",
       "      <td>NaN</td>\n",
       "      <td>NaN</td>\n",
       "    </tr>\n",
       "    <tr>\n",
       "      <th>3340</th>\n",
       "      <td>10-Jun-1978</td>\n",
       "      <td>1878.0</td>\n",
       "      <td>Unprovoked</td>\n",
       "      <td>PHILIPPINES</td>\n",
       "      <td>Misamis Oriental</td>\n",
       "      <td>Cagayan de Oro</td>\n",
       "      <td>Dolores Margarita Corrales y Roa</td>\n",
       "      <td>F</td>\n",
       "      <td>NaN</td>\n",
       "      <td>FATAL</td>\n",
       "      <td>NaN</td>\n",
       "      <td>NaN</td>\n",
       "      <td>A.J. Montalvan II, Philippine Daily Inquirer, ...</td>\n",
       "      <td>http://sharkattackfile.net/spreadsheets/pdf_di...</td>\n",
       "      <td>1978-06-10</td>\n",
       "      <td>NaN</td>\n",
       "      <td>NaN</td>\n",
       "      <td>NaN</td>\n",
       "      <td>NaN</td>\n",
       "      <td>NaN</td>\n",
       "    </tr>\n",
       "  </tbody>\n",
       "</table>\n",
       "<p>3341 rows × 20 columns</p>\n",
       "</div>"
      ],
      "text/plain": [
       "             Date    Year        Type       Country                  State  \\\n",
       "0     04-Feb-2024  2024.0    Provoked      TRINIDAD                    NaN   \n",
       "1     09-Jan-2024  2024.0  Unprovoked     AUSTRALIA        South Australia   \n",
       "2     05-Jan-2024  2024.0    Provoked  SOUTH AFRICA  Eastern Cape Province   \n",
       "3     24-Dec-2023  2023.0  Unprovoked     AUSTRALIA      Western Australia   \n",
       "4     23-Jun-2023  2023.0  Unprovoked           USA                Florida   \n",
       "...           ...     ...         ...           ...                    ...   \n",
       "3336  23-Jan-1970  1970.0  Unprovoked    MOZAMBIQUE          Limpopo River   \n",
       "3337  23-Jan-1970  1970.0  Unprovoked    MOZAMBIQUE          Limpopo River   \n",
       "3338  23-Jan-1970  1970.0  Unprovoked    MOZAMBIQUE          Limpopo River   \n",
       "3339  10-Jan-1970  1970.0  Unprovoked        MEXICO               Guerrero   \n",
       "3340  10-Jun-1978  1878.0  Unprovoked   PHILIPPINES       Misamis Oriental   \n",
       "\n",
       "                         Location                              Name Sex  Age  \\\n",
       "0                             NaN                              male   M  NaN   \n",
       "1         Walkers Beach, Elliston                      Murray Adams   M   64   \n",
       "2                   Papiesfontein                              male   M   62   \n",
       "3                    Wedge Island                        Troy Brown   M   46   \n",
       "4     Cocoa Beach, Brevard County                 Magnolia Woodhead   F   !2   \n",
       "...                           ...                               ...  ..  ...   \n",
       "3336        Gijana, 150 km inland                     Betual Tivane   M   16   \n",
       "3337        Gijana, 150 km inland                    Mabua Mogadura   M   12   \n",
       "3338        Gijana, 150 km inland                  Elissane Mobunda   M   10   \n",
       "3339                     Acapulco                      Jack Kardell   M   22   \n",
       "3340               Cagayan de Oro  Dolores Margarita Corrales y Roa   F  NaN   \n",
       "\n",
       "                                                 Injury   Time  \\\n",
       "0                                       Shoulder bitten  06h30   \n",
       "1                                            Leg bitten  13h00   \n",
       "2     Provoked incident. Lacerations and puncture wo...    NaN   \n",
       "3                        Puncture wounds to right ankle  15h00   \n",
       "4               Multiple puncture wounds to right thigh    NaN   \n",
       "...                                                 ...    ...   \n",
       "3336                                Leg severed at knee    NaN   \n",
       "3337                          Arm severed, thigh bitten    NaN   \n",
       "3338                                Leg severed at knee    NaN   \n",
       "3339                                         Leg bitten    NaN   \n",
       "3340                                              FATAL    NaN   \n",
       "\n",
       "                 Species                                              Source  \\\n",
       "0     Blacktip reef shark                       Trinidad Guardian, 2/11/2014   \n",
       "1             White shark                                    A. Currie, GSAF   \n",
       "2       Raggedtooth shark                            Jacaranda fm. 12/6/2024   \n",
       "3           Broze whaler?                                 9 News, 12/25/2023   \n",
       "4                     NaN                                  Fox 35, 6/29/2023   \n",
       "...                   ...                                                ...   \n",
       "3336        Zambesi shark              Natal Daily News, 2/4/1970; D. Davies   \n",
       "3337        Zambesi shark              Natal Daily News, 2/4/1970; D. Davies   \n",
       "3338        Zambesi shark              Natal Daily News, 2/4/1970; D. Davies   \n",
       "3339                  NaN                                A. Resciniti, p.110   \n",
       "3340                  NaN  A.J. Montalvan II, Philippine Daily Inquirer, ...   \n",
       "\n",
       "                                                   href date_clean  day  \\\n",
       "0                                                   NaN 2024-02-04  NaN   \n",
       "1                                                   NaN 2024-01-09  NaN   \n",
       "2                                                   NaN 2024-01-05  NaN   \n",
       "3                                                   NaN 2023-12-24  NaN   \n",
       "4                                                   NaN 2023-06-23  NaN   \n",
       "...                                                 ...        ...  ...   \n",
       "3336  http://sharkattackfile.net/spreadsheets/pdf_di... 1970-01-23  NaN   \n",
       "3337  http://sharkattackfile.net/spreadsheets/pdf_di... 1970-01-23  NaN   \n",
       "3338  http://sharkattackfile.net/spreadsheets/pdf_di... 1970-01-23  NaN   \n",
       "3339  http://sharkattackfile.net/spreadsheets/pdf_di... 1970-01-10  NaN   \n",
       "3340  http://sharkattackfile.net/spreadsheets/pdf_di... 1978-06-10  NaN   \n",
       "\n",
       "      month phase time  year  \n",
       "0       NaN   NaN  NaN   NaN  \n",
       "1       NaN   NaN  NaN   NaN  \n",
       "2       NaN   NaN  NaN   NaN  \n",
       "3       NaN   NaN  NaN   NaN  \n",
       "4       NaN   NaN  NaN   NaN  \n",
       "...     ...   ...  ...   ...  \n",
       "3336    NaN   NaN  NaN   NaN  \n",
       "3337    NaN   NaN  NaN   NaN  \n",
       "3338    NaN   NaN  NaN   NaN  \n",
       "3339    NaN   NaN  NaN   NaN  \n",
       "3340    NaN   NaN  NaN   NaN  \n",
       "\n",
       "[3341 rows x 20 columns]"
      ]
     },
     "execution_count": 108,
     "metadata": {},
     "output_type": "execute_result"
    }
   ],
   "source": [
    "merged_data"
   ]
  },
  {
   "cell_type": "code",
   "execution_count": 109,
   "metadata": {},
   "outputs": [],
   "source": [
    "#profile = ProfileReport(merged_data, title=\"Profiling Report\")"
   ]
  },
  {
   "cell_type": "code",
   "execution_count": 110,
   "metadata": {},
   "outputs": [],
   "source": [
    "merged_data  = merged_data.dropna(subset = ['phase']) #cleaning merged data"
   ]
  },
  {
   "cell_type": "markdown",
   "metadata": {},
   "source": [
    "Creating a copy of the merged data set for visualization, keeping only the columns that I need"
   ]
  },
  {
   "cell_type": "code",
   "execution_count": 111,
   "metadata": {},
   "outputs": [],
   "source": [
    "columns_to_keep = [  'Type', 'Sex', 'date_clean', 'phase' ]\n",
    "\n",
    "moonshark = merged_data[columns_to_keep].copy()"
   ]
  },
  {
   "cell_type": "code",
   "execution_count": 112,
   "metadata": {},
   "outputs": [],
   "source": [
    "columns_to_keep= [ 'date_clean', 'phase', 'Country' ]\n",
    "\n",
    "country_phase = merged_data[columns_to_keep].copy()"
   ]
  },
  {
   "cell_type": "code",
   "execution_count": 113,
   "metadata": {},
   "outputs": [
    {
     "data": {
      "text/html": [
       "<div>\n",
       "<style scoped>\n",
       "    .dataframe tbody tr th:only-of-type {\n",
       "        vertical-align: middle;\n",
       "    }\n",
       "\n",
       "    .dataframe tbody tr th {\n",
       "        vertical-align: top;\n",
       "    }\n",
       "\n",
       "    .dataframe thead th {\n",
       "        text-align: right;\n",
       "    }\n",
       "</style>\n",
       "<table border=\"1\" class=\"dataframe\">\n",
       "  <thead>\n",
       "    <tr style=\"text-align: right;\">\n",
       "      <th></th>\n",
       "      <th>date_clean</th>\n",
       "      <th>phase</th>\n",
       "      <th>Country</th>\n",
       "    </tr>\n",
       "  </thead>\n",
       "  <tbody>\n",
       "    <tr>\n",
       "      <th>316</th>\n",
       "      <td>2019-12-26</td>\n",
       "      <td>New Moon</td>\n",
       "      <td>PAPUA NEW GUINEA</td>\n",
       "    </tr>\n",
       "    <tr>\n",
       "      <th>317</th>\n",
       "      <td>2019-12-26</td>\n",
       "      <td>New Moon</td>\n",
       "      <td>SOUTH AFRICA</td>\n",
       "    </tr>\n",
       "    <tr>\n",
       "      <th>320</th>\n",
       "      <td>2019-12-12</td>\n",
       "      <td>Full Moon</td>\n",
       "      <td>REUNION ISLAND</td>\n",
       "    </tr>\n",
       "    <tr>\n",
       "      <th>322</th>\n",
       "      <td>2019-12-04</td>\n",
       "      <td>First Quarter</td>\n",
       "      <td>CUBA</td>\n",
       "    </tr>\n",
       "    <tr>\n",
       "      <th>330</th>\n",
       "      <td>2019-11-12</td>\n",
       "      <td>Full Moon</td>\n",
       "      <td>USA</td>\n",
       "    </tr>\n",
       "    <tr>\n",
       "      <th>...</th>\n",
       "      <td>...</td>\n",
       "      <td>...</td>\n",
       "      <td>...</td>\n",
       "    </tr>\n",
       "    <tr>\n",
       "      <th>3291</th>\n",
       "      <td>1972-05-06</td>\n",
       "      <td>Last Quarter</td>\n",
       "      <td>FRENCH POLYNESIA</td>\n",
       "    </tr>\n",
       "    <tr>\n",
       "      <th>3307</th>\n",
       "      <td>1971-09-05</td>\n",
       "      <td>Full Moon</td>\n",
       "      <td>AUSTRALIA</td>\n",
       "    </tr>\n",
       "    <tr>\n",
       "      <th>3311</th>\n",
       "      <td>1971-06-30</td>\n",
       "      <td>First Quarter</td>\n",
       "      <td>SOUTH AFRICA</td>\n",
       "    </tr>\n",
       "    <tr>\n",
       "      <th>3312</th>\n",
       "      <td>1971-06-01</td>\n",
       "      <td>First Quarter</td>\n",
       "      <td>GREAT BRITIAN</td>\n",
       "    </tr>\n",
       "    <tr>\n",
       "      <th>3334</th>\n",
       "      <td>1970-03-23</td>\n",
       "      <td>Full Moon</td>\n",
       "      <td>USA</td>\n",
       "    </tr>\n",
       "  </tbody>\n",
       "</table>\n",
       "<p>416 rows × 3 columns</p>\n",
       "</div>"
      ],
      "text/plain": [
       "     date_clean          phase           Country\n",
       "316  2019-12-26       New Moon  PAPUA NEW GUINEA\n",
       "317  2019-12-26       New Moon      SOUTH AFRICA\n",
       "320  2019-12-12      Full Moon    REUNION ISLAND\n",
       "322  2019-12-04  First Quarter              CUBA\n",
       "330  2019-11-12      Full Moon               USA\n",
       "...         ...            ...               ...\n",
       "3291 1972-05-06   Last Quarter  FRENCH POLYNESIA\n",
       "3307 1971-09-05      Full Moon         AUSTRALIA\n",
       "3311 1971-06-30  First Quarter      SOUTH AFRICA\n",
       "3312 1971-06-01  First Quarter     GREAT BRITIAN\n",
       "3334 1970-03-23      Full Moon               USA\n",
       "\n",
       "[416 rows x 3 columns]"
      ]
     },
     "execution_count": 113,
     "metadata": {},
     "output_type": "execute_result"
    }
   ],
   "source": [
    "country_phase"
   ]
  },
  {
   "cell_type": "code",
   "execution_count": 114,
   "metadata": {},
   "outputs": [
    {
     "name": "stderr",
     "output_type": "stream",
     "text": [
      "C:\\Users\\Lenovo\\AppData\\Local\\Temp\\ipykernel_24436\\2047405004.py:2: SettingWithCopyWarning: \n",
      "A value is trying to be set on a copy of a slice from a DataFrame\n",
      "\n",
      "See the caveats in the documentation: https://pandas.pydata.org/pandas-docs/stable/user_guide/indexing.html#returning-a-view-versus-a-copy\n",
      "  merged_data.drop(columns=['date_clean'], inplace=True)\n",
      "C:\\Users\\Lenovo\\AppData\\Local\\Temp\\ipykernel_24436\\2047405004.py:5: SettingWithCopyWarning: \n",
      "A value is trying to be set on a copy of a slice from a DataFrame\n",
      "\n",
      "See the caveats in the documentation: https://pandas.pydata.org/pandas-docs/stable/user_guide/indexing.html#returning-a-view-versus-a-copy\n",
      "  merged_data['phase'].fillna('Unknown', inplace=True)\n",
      "C:\\Users\\Lenovo\\AppData\\Local\\Temp\\ipykernel_24436\\2047405004.py:21: FutureWarning: \n",
      "\n",
      "Passing `palette` without assigning `hue` is deprecated and will be removed in v0.14.0. Assign the `x` variable to `hue` and set `legend=False` for the same effect.\n",
      "\n",
      "  sns.barplot(x='phase', y='count', data=phase_counts, palette='viridis')\n"
     ]
    },
    {
     "data": {
      "image/png": "[encoded data removed]",
      "text/plain": [
       "<Figure size 1000x600 with 1 Axes>"
      ]
     },
     "metadata": {},
     "output_type": "display_data"
    }
   ],
   "source": [
    "# Drop the redundant 'date' column from moon_phase_data\n",
    "merged_data.drop(columns=['date_clean'], inplace=True)\n",
    "\n",
    "# Fill missing moon phases with 'Unknown'\n",
    "merged_data['phase'].fillna('Unknown', inplace=True)\n",
    "\n",
    "# Count the number of shark attacks for each moon phase\n",
    "phase_counts = merged_data['phase'].value_counts().reset_index()\n",
    "phase_counts.columns = ['phase', 'count']\n",
    "\n",
    "# Sort the phases for logical ordering\n",
    "phase_order = ['New Moon', 'First Quarter', 'Full Moon', 'Last Quarter', 'Unknown']\n",
    "phase_counts['phase'] = pd.Categorical(phase_counts['phase'], categories=phase_order, ordered=True)\n",
    "phase_counts.sort_values('phase', inplace=True)\n",
    "\n",
    "# Set the style of the visualization\n",
    "sns.set(style=\"whitegrid\")\n",
    "\n",
    "# Create the bar plot\n",
    "plt.figure(figsize=(10, 6))\n",
    "sns.barplot(x='phase', y='count', data=phase_counts, palette='viridis')\n",
    "\n",
    "# Add titles and labels\n",
    "plt.title('Shark Attacks by Moon Phase')\n",
    "plt.xlabel('Moon Phase')\n",
    "plt.ylabel('Number of Shark Attacks')\n",
    "plt.xticks(rotation=45)\n",
    "\n",
    "# Show the plot\n",
    "plt.show()"
   ]
  },
  {
   "cell_type": "markdown",
   "metadata": {},
   "source": [
    "Visualizing the results of first hypothesis:  are shark attacks more likely to happen when the moon is fuller?"
   ]
  },
  {
   "cell_type": "code",
   "execution_count": 122,
   "metadata": {},
   "outputs": [
    {
     "data": {
      "image/png": "[encoded data removed]",
      "text/plain": [
       "<Figure size 800x800 with 1 Axes>"
      ]
     },
     "metadata": {},
     "output_type": "display_data"
    }
   ],
   "source": [
    "#creating a pie chart to display the disribution of shark attacks by moon phase\n",
    "plt.figure(figsize=(8, 8))\n",
    "plt.pie(phase_counts['count'], labels=phase_counts['phase'], autopct='%1.1f%%', startangle=140, colors =  ['#440154', '#3b528b', '#21918c', '#5ec962', '#fde725'])\n",
    "plt.title('Distribution of Shark Attacks by Moon Phase')\n",
    "\n",
    "\n",
    "plt.show()"
   ]
  },
  {
   "cell_type": "markdown",
   "metadata": {},
   "source": [
    "The results shown here are inconclusive. There isn't enough data to support our hypothesis. However, it is interesting to observe the drop in shark attacks during the last quarter. "
   ]
  },
  {
   "cell_type": "markdown",
   "metadata": {},
   "source": [
    "<img src=\"img/moonphases.PNG\" alt=\"drawing\" width=\"500\"/>\n"
   ]
  },
  {
   "cell_type": "code",
   "execution_count": null,
   "metadata": {},
   "outputs": [
    {
     "data": {
      "text/html": [
       "<div>\n",
       "<style scoped>\n",
       "    .dataframe tbody tr th:only-of-type {\n",
       "        vertical-align: middle;\n",
       "    }\n",
       "\n",
       "    .dataframe tbody tr th {\n",
       "        vertical-align: top;\n",
       "    }\n",
       "\n",
       "    .dataframe thead th {\n",
       "        text-align: right;\n",
       "    }\n",
       "</style>\n",
       "<table border=\"1\" class=\"dataframe\">\n",
       "  <thead>\n",
       "    <tr style=\"text-align: right;\">\n",
       "      <th></th>\n",
       "      <th>Type</th>\n",
       "      <th>Sex</th>\n",
       "      <th>date_clean</th>\n",
       "      <th>phase</th>\n",
       "    </tr>\n",
       "  </thead>\n",
       "  <tbody>\n",
       "    <tr>\n",
       "      <th>316</th>\n",
       "      <td>Unprovoked</td>\n",
       "      <td>M</td>\n",
       "      <td>2019-12-26</td>\n",
       "      <td>New Moon</td>\n",
       "    </tr>\n",
       "    <tr>\n",
       "      <th>317</th>\n",
       "      <td>Unprovoked</td>\n",
       "      <td>M</td>\n",
       "      <td>2019-12-26</td>\n",
       "      <td>New Moon</td>\n",
       "    </tr>\n",
       "    <tr>\n",
       "      <th>320</th>\n",
       "      <td>Unverified</td>\n",
       "      <td>M</td>\n",
       "      <td>2019-12-12</td>\n",
       "      <td>Full Moon</td>\n",
       "    </tr>\n",
       "    <tr>\n",
       "      <th>322</th>\n",
       "      <td>Unprovoked</td>\n",
       "      <td>M</td>\n",
       "      <td>2019-12-04</td>\n",
       "      <td>First Quarter</td>\n",
       "    </tr>\n",
       "    <tr>\n",
       "      <th>330</th>\n",
       "      <td>Unprovoked</td>\n",
       "      <td>M</td>\n",
       "      <td>2019-11-12</td>\n",
       "      <td>Full Moon</td>\n",
       "    </tr>\n",
       "    <tr>\n",
       "      <th>...</th>\n",
       "      <td>...</td>\n",
       "      <td>...</td>\n",
       "      <td>...</td>\n",
       "      <td>...</td>\n",
       "    </tr>\n",
       "    <tr>\n",
       "      <th>3291</th>\n",
       "      <td>Unprovoked</td>\n",
       "      <td>M</td>\n",
       "      <td>1972-05-06</td>\n",
       "      <td>Last Quarter</td>\n",
       "    </tr>\n",
       "    <tr>\n",
       "      <th>3307</th>\n",
       "      <td>Unprovoked</td>\n",
       "      <td>M</td>\n",
       "      <td>1971-09-05</td>\n",
       "      <td>Full Moon</td>\n",
       "    </tr>\n",
       "    <tr>\n",
       "      <th>3311</th>\n",
       "      <td>Unprovoked</td>\n",
       "      <td>M</td>\n",
       "      <td>1971-06-30</td>\n",
       "      <td>First Quarter</td>\n",
       "    </tr>\n",
       "    <tr>\n",
       "      <th>3312</th>\n",
       "      <td>Unprovoked</td>\n",
       "      <td>M</td>\n",
       "      <td>1971-06-01</td>\n",
       "      <td>First Quarter</td>\n",
       "    </tr>\n",
       "    <tr>\n",
       "      <th>3334</th>\n",
       "      <td>Unprovoked</td>\n",
       "      <td>M</td>\n",
       "      <td>1970-03-23</td>\n",
       "      <td>Full Moon</td>\n",
       "    </tr>\n",
       "  </tbody>\n",
       "</table>\n",
       "<p>416 rows × 4 columns</p>\n",
       "</div>"
      ],
      "text/plain": [
       "            Type Sex date_clean          phase\n",
       "316   Unprovoked   M 2019-12-26       New Moon\n",
       "317   Unprovoked   M 2019-12-26       New Moon\n",
       "320   Unverified   M 2019-12-12      Full Moon\n",
       "322   Unprovoked   M 2019-12-04  First Quarter\n",
       "330   Unprovoked   M 2019-11-12      Full Moon\n",
       "...          ...  ..        ...            ...\n",
       "3291  Unprovoked   M 1972-05-06   Last Quarter\n",
       "3307  Unprovoked   M 1971-09-05      Full Moon\n",
       "3311  Unprovoked   M 1971-06-30  First Quarter\n",
       "3312  Unprovoked   M 1971-06-01  First Quarter\n",
       "3334  Unprovoked   M 1970-03-23      Full Moon\n",
       "\n",
       "[416 rows x 4 columns]"
      ]
     },
     "execution_count": 513,
     "metadata": {},
     "output_type": "execute_result"
    }
   ],
   "source": [
    "moonshark"
   ]
  },
  {
   "cell_type": "markdown",
   "metadata": {},
   "source": [
    "Testing Hypothesis #2: are attacks under full moon unprovoked?"
   ]
  },
  {
   "cell_type": "code",
   "execution_count": null,
   "metadata": {},
   "outputs": [
    {
     "data": {
      "text/html": [
       "<div>\n",
       "<style scoped>\n",
       "    .dataframe tbody tr th:only-of-type {\n",
       "        vertical-align: middle;\n",
       "    }\n",
       "\n",
       "    .dataframe tbody tr th {\n",
       "        vertical-align: top;\n",
       "    }\n",
       "\n",
       "    .dataframe thead th {\n",
       "        text-align: right;\n",
       "    }\n",
       "</style>\n",
       "<table border=\"1\" class=\"dataframe\">\n",
       "  <thead>\n",
       "    <tr style=\"text-align: right;\">\n",
       "      <th></th>\n",
       "      <th>phase</th>\n",
       "      <th>Type</th>\n",
       "      <th>count</th>\n",
       "    </tr>\n",
       "  </thead>\n",
       "  <tbody>\n",
       "    <tr>\n",
       "      <th>0</th>\n",
       "      <td>First Quarter</td>\n",
       "      <td>Marine Incident</td>\n",
       "      <td>5</td>\n",
       "    </tr>\n",
       "    <tr>\n",
       "      <th>1</th>\n",
       "      <td>First Quarter</td>\n",
       "      <td>Provoked</td>\n",
       "      <td>13</td>\n",
       "    </tr>\n",
       "    <tr>\n",
       "      <th>2</th>\n",
       "      <td>First Quarter</td>\n",
       "      <td>Unprovoked</td>\n",
       "      <td>92</td>\n",
       "    </tr>\n",
       "    <tr>\n",
       "      <th>3</th>\n",
       "      <td>First Quarter</td>\n",
       "      <td>Unverified</td>\n",
       "      <td>7</td>\n",
       "    </tr>\n",
       "    <tr>\n",
       "      <th>4</th>\n",
       "      <td>Full Moon</td>\n",
       "      <td>Marine Incident</td>\n",
       "      <td>4</td>\n",
       "    </tr>\n",
       "    <tr>\n",
       "      <th>5</th>\n",
       "      <td>Full Moon</td>\n",
       "      <td>Provoked</td>\n",
       "      <td>8</td>\n",
       "    </tr>\n",
       "    <tr>\n",
       "      <th>6</th>\n",
       "      <td>Full Moon</td>\n",
       "      <td>Unprovoked</td>\n",
       "      <td>97</td>\n",
       "    </tr>\n",
       "    <tr>\n",
       "      <th>7</th>\n",
       "      <td>Full Moon</td>\n",
       "      <td>Unverified</td>\n",
       "      <td>7</td>\n",
       "    </tr>\n",
       "    <tr>\n",
       "      <th>8</th>\n",
       "      <td>Last Quarter</td>\n",
       "      <td>Marine Incident</td>\n",
       "      <td>3</td>\n",
       "    </tr>\n",
       "    <tr>\n",
       "      <th>9</th>\n",
       "      <td>Last Quarter</td>\n",
       "      <td>Provoked</td>\n",
       "      <td>2</td>\n",
       "    </tr>\n",
       "    <tr>\n",
       "      <th>10</th>\n",
       "      <td>Last Quarter</td>\n",
       "      <td>Unprovoked</td>\n",
       "      <td>68</td>\n",
       "    </tr>\n",
       "    <tr>\n",
       "      <th>11</th>\n",
       "      <td>Last Quarter</td>\n",
       "      <td>Unverified</td>\n",
       "      <td>6</td>\n",
       "    </tr>\n",
       "    <tr>\n",
       "      <th>12</th>\n",
       "      <td>New Moon</td>\n",
       "      <td>Marine Incident</td>\n",
       "      <td>4</td>\n",
       "    </tr>\n",
       "    <tr>\n",
       "      <th>13</th>\n",
       "      <td>New Moon</td>\n",
       "      <td>Provoked</td>\n",
       "      <td>8</td>\n",
       "    </tr>\n",
       "    <tr>\n",
       "      <th>14</th>\n",
       "      <td>New Moon</td>\n",
       "      <td>Unprovoked</td>\n",
       "      <td>85</td>\n",
       "    </tr>\n",
       "    <tr>\n",
       "      <th>15</th>\n",
       "      <td>New Moon</td>\n",
       "      <td>Unverified</td>\n",
       "      <td>7</td>\n",
       "    </tr>\n",
       "  </tbody>\n",
       "</table>\n",
       "</div>"
      ],
      "text/plain": [
       "            phase             Type  count\n",
       "0   First Quarter  Marine Incident      5\n",
       "1   First Quarter         Provoked     13\n",
       "2   First Quarter       Unprovoked     92\n",
       "3   First Quarter       Unverified      7\n",
       "4       Full Moon  Marine Incident      4\n",
       "5       Full Moon         Provoked      8\n",
       "6       Full Moon       Unprovoked     97\n",
       "7       Full Moon       Unverified      7\n",
       "8    Last Quarter  Marine Incident      3\n",
       "9    Last Quarter         Provoked      2\n",
       "10   Last Quarter       Unprovoked     68\n",
       "11   Last Quarter       Unverified      6\n",
       "12       New Moon  Marine Incident      4\n",
       "13       New Moon         Provoked      8\n",
       "14       New Moon       Unprovoked     85\n",
       "15       New Moon       Unverified      7"
      ]
     },
     "execution_count": 525,
     "metadata": {},
     "output_type": "execute_result"
    }
   ],
   "source": [
    "phase_type_counts"
   ]
  },
  {
   "cell_type": "code",
   "execution_count": null,
   "metadata": {},
   "outputs": [
    {
     "data": {
      "image/png": "[encoded data removed]",
      "text/plain": [
       "<Figure size 720x432 with 1 Axes>"
      ]
     },
     "metadata": {
      "image/png": {
       "height": 422,
       "width": 709
      }
     },
     "output_type": "display_data"
    }
   ],
   "source": [
    "plt.figure(figsize=(10, 6))\n",
    "sns.barplot(x='phase', y='count', hue='Type', data=phase_type_counts, palette='Paired', ci =None, order=['New Moon', 'Full Moon'])\n",
    "plt.title('Shark Attacks by Type and Moon Phase')\n",
    "plt.xlabel('Moon Phase')\n",
    "plt.ylabel('Number of Attacks')\n",
    "plt.xticks(rotation=45)\n",
    "plt.legend(title='Type', loc='upper right')\n",
    "plt.grid(axis='y', linestyle='--', alpha=0.7)\n",
    "plt.tight_layout()\n",
    "plt.show()"
   ]
  },
  {
   "cell_type": "markdown",
   "metadata": {},
   "source": [
    "<img src=\"img/nbc.PNG\" alt=\"drawing\" width=\"700\"/>\n",
    "\n",
    "\n",
    "\n",
    "\n",
    "\n",
    "\n"
   ]
  },
  {
   "cell_type": "markdown",
   "metadata": {},
   "source": [
    "<img src=\"img/typeattack.PNG\" alt=\"drawing\" width=\"500\"/>\n",
    "\n",
    "\n",
    "\n",
    "\n",
    "\n",
    "\n"
   ]
  },
  {
   "cell_type": "code",
   "execution_count": null,
   "metadata": {},
   "outputs": [],
   "source": [
    "phase_type_counts = merged_data.groupby(['phase', 'Type']).size().reset_index(name='count')\n"
   ]
  },
  {
   "cell_type": "code",
   "execution_count": null,
   "metadata": {},
   "outputs": [
    {
     "data": {
      "text/plain": [
       "phase\n",
       "First Quarter    117\n",
       "Full Moon        116\n",
       "Last Quarter      79\n",
       "New Moon         104\n",
       "Name: Sex, dtype: int64"
      ]
     },
     "execution_count": 517,
     "metadata": {},
     "output_type": "execute_result"
    }
   ],
   "source": [
    "moonphase_attacks"
   ]
  },
  {
   "cell_type": "code",
   "execution_count": null,
   "metadata": {},
   "outputs": [
    {
     "data": {
      "text/html": [
       "<div>\n",
       "<style scoped>\n",
       "    .dataframe tbody tr th:only-of-type {\n",
       "        vertical-align: middle;\n",
       "    }\n",
       "\n",
       "    .dataframe tbody tr th {\n",
       "        vertical-align: top;\n",
       "    }\n",
       "\n",
       "    .dataframe thead th {\n",
       "        text-align: right;\n",
       "    }\n",
       "</style>\n",
       "<table border=\"1\" class=\"dataframe\">\n",
       "  <thead>\n",
       "    <tr style=\"text-align: right;\">\n",
       "      <th></th>\n",
       "      <th>date_clean</th>\n",
       "      <th>phase</th>\n",
       "    </tr>\n",
       "  </thead>\n",
       "  <tbody>\n",
       "    <tr>\n",
       "      <th>316</th>\n",
       "      <td>2019-12-26</td>\n",
       "      <td>New Moon</td>\n",
       "    </tr>\n",
       "    <tr>\n",
       "      <th>317</th>\n",
       "      <td>2019-12-26</td>\n",
       "      <td>New Moon</td>\n",
       "    </tr>\n",
       "    <tr>\n",
       "      <th>320</th>\n",
       "      <td>2019-12-12</td>\n",
       "      <td>Full Moon</td>\n",
       "    </tr>\n",
       "    <tr>\n",
       "      <th>322</th>\n",
       "      <td>2019-12-04</td>\n",
       "      <td>First Quarter</td>\n",
       "    </tr>\n",
       "    <tr>\n",
       "      <th>330</th>\n",
       "      <td>2019-11-12</td>\n",
       "      <td>Full Moon</td>\n",
       "    </tr>\n",
       "  </tbody>\n",
       "</table>\n",
       "</div>"
      ],
      "text/plain": [
       "    date_clean          phase\n",
       "316 2019-12-26       New Moon\n",
       "317 2019-12-26       New Moon\n",
       "320 2019-12-12      Full Moon\n",
       "322 2019-12-04  First Quarter\n",
       "330 2019-11-12      Full Moon"
      ]
     },
     "execution_count": 472,
     "metadata": {},
     "output_type": "execute_result"
    }
   ],
   "source": [
    "#h1 = sharks.copy()\n",
    "#h1_columns = [\"activity\", \"sex\", \"fatal\"]\n",
    "#h1 = h1[h1_columns]\n",
    "#h1.head()\n",
    "\n",
    "moonsharks = merged_data.copy()\n",
    "moonshark_columns = ['date_clean', 'phase']\n",
    "moonsharks = moonsharks[moonshark_columns]\n",
    "moonsharks.head()"
   ]
  }
 ],
 "metadata": {
  "kernelspec": {
   "display_name": "base",
   "language": "python",
   "name": "python3"
  },
  "language_info": {
   "codemirror_mode": {
    "name": "ipython",
    "version": 3
   },
   "file_extension": ".py",
   "mimetype": "text/x-python",
   "name": "python",
   "nbconvert_exporter": "python",
   "pygments_lexer": "ipython3",
   "version": "3.8.19"
  }
 },
 "nbformat": 4,
 "nbformat_minor": 2
}
